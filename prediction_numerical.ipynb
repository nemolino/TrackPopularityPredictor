{
 "cells": [
  {
   "cell_type": "code",
   "execution_count": 1,
   "metadata": {},
   "outputs": [],
   "source": [
    "import numpy as np\n",
    "import pandas as pd\n",
    "import matplotlib.pyplot as plt\n",
    "import seaborn as sns\n",
    "\n",
    "from sklearn.feature_selection import SelectKBest, f_regression\n",
    "\n",
    "from sklearn import preprocessing\n",
    "from sklearn.model_selection import train_test_split, GridSearchCV\n",
    "from sklearn.metrics import mean_squared_error, mean_absolute_error, r2_score\n",
    "\n",
    "CV_verbose_param = 1"
   ]
  },
  {
   "cell_type": "code",
   "execution_count": 2,
   "metadata": {},
   "outputs": [
    {
     "data": {
      "text/html": [
       "<div>\n",
       "<style scoped>\n",
       "    .dataframe tbody tr th:only-of-type {\n",
       "        vertical-align: middle;\n",
       "    }\n",
       "\n",
       "    .dataframe tbody tr th {\n",
       "        vertical-align: top;\n",
       "    }\n",
       "\n",
       "    .dataframe thead th {\n",
       "        text-align: right;\n",
       "    }\n",
       "</style>\n",
       "<table border=\"1\" class=\"dataframe\">\n",
       "  <thead>\n",
       "    <tr style=\"text-align: right;\">\n",
       "      <th></th>\n",
       "      <th>artists</th>\n",
       "      <th>album_name</th>\n",
       "      <th>track_name</th>\n",
       "      <th>duration_ms</th>\n",
       "      <th>explicit</th>\n",
       "      <th>danceability</th>\n",
       "      <th>energy</th>\n",
       "      <th>key</th>\n",
       "      <th>loudness</th>\n",
       "      <th>mode</th>\n",
       "      <th>...</th>\n",
       "      <th>GENRE_spanish</th>\n",
       "      <th>GENRE_study</th>\n",
       "      <th>GENRE_swedish</th>\n",
       "      <th>GENRE_synth-pop</th>\n",
       "      <th>GENRE_tango</th>\n",
       "      <th>GENRE_techno</th>\n",
       "      <th>GENRE_trance</th>\n",
       "      <th>GENRE_trip-hop</th>\n",
       "      <th>GENRE_turkish</th>\n",
       "      <th>GENRE_world-music</th>\n",
       "    </tr>\n",
       "  </thead>\n",
       "  <tbody>\n",
       "    <tr>\n",
       "      <th>0</th>\n",
       "      <td>Rill</td>\n",
       "      <td>Lolly</td>\n",
       "      <td>Lolly</td>\n",
       "      <td>160725</td>\n",
       "      <td>True</td>\n",
       "      <td>0.910</td>\n",
       "      <td>0.37400</td>\n",
       "      <td>8</td>\n",
       "      <td>-9.844</td>\n",
       "      <td>0</td>\n",
       "      <td>...</td>\n",
       "      <td>0</td>\n",
       "      <td>0</td>\n",
       "      <td>0</td>\n",
       "      <td>0</td>\n",
       "      <td>0</td>\n",
       "      <td>0</td>\n",
       "      <td>0</td>\n",
       "      <td>0</td>\n",
       "      <td>0</td>\n",
       "      <td>0</td>\n",
       "    </tr>\n",
       "    <tr>\n",
       "      <th>1</th>\n",
       "      <td>Glee Cast</td>\n",
       "      <td>Glee Love Songs</td>\n",
       "      <td>It's All Coming Back To Me Now (Glee Cast Vers...</td>\n",
       "      <td>322933</td>\n",
       "      <td>False</td>\n",
       "      <td>0.269</td>\n",
       "      <td>0.51600</td>\n",
       "      <td>0</td>\n",
       "      <td>-7.361</td>\n",
       "      <td>1</td>\n",
       "      <td>...</td>\n",
       "      <td>0</td>\n",
       "      <td>0</td>\n",
       "      <td>0</td>\n",
       "      <td>0</td>\n",
       "      <td>0</td>\n",
       "      <td>0</td>\n",
       "      <td>0</td>\n",
       "      <td>0</td>\n",
       "      <td>0</td>\n",
       "      <td>0</td>\n",
       "    </tr>\n",
       "    <tr>\n",
       "      <th>2</th>\n",
       "      <td>Paul Kalkbrenner;Pig&amp;Dan</td>\n",
       "      <td>X</td>\n",
       "      <td>Böxig Leise - Pig &amp; Dan Remix</td>\n",
       "      <td>515360</td>\n",
       "      <td>False</td>\n",
       "      <td>0.686</td>\n",
       "      <td>0.56000</td>\n",
       "      <td>5</td>\n",
       "      <td>-13.264</td>\n",
       "      <td>0</td>\n",
       "      <td>...</td>\n",
       "      <td>0</td>\n",
       "      <td>0</td>\n",
       "      <td>0</td>\n",
       "      <td>0</td>\n",
       "      <td>0</td>\n",
       "      <td>0</td>\n",
       "      <td>0</td>\n",
       "      <td>0</td>\n",
       "      <td>0</td>\n",
       "      <td>0</td>\n",
       "    </tr>\n",
       "    <tr>\n",
       "      <th>3</th>\n",
       "      <td>Jordan Sandhu</td>\n",
       "      <td>Teeje Week</td>\n",
       "      <td>Teeje Week</td>\n",
       "      <td>190203</td>\n",
       "      <td>False</td>\n",
       "      <td>0.679</td>\n",
       "      <td>0.77000</td>\n",
       "      <td>0</td>\n",
       "      <td>-3.537</td>\n",
       "      <td>1</td>\n",
       "      <td>...</td>\n",
       "      <td>0</td>\n",
       "      <td>0</td>\n",
       "      <td>0</td>\n",
       "      <td>0</td>\n",
       "      <td>0</td>\n",
       "      <td>0</td>\n",
       "      <td>0</td>\n",
       "      <td>0</td>\n",
       "      <td>0</td>\n",
       "      <td>0</td>\n",
       "    </tr>\n",
       "    <tr>\n",
       "      <th>4</th>\n",
       "      <td>Paul Kalkbrenner</td>\n",
       "      <td>Zeit</td>\n",
       "      <td>Tief</td>\n",
       "      <td>331240</td>\n",
       "      <td>False</td>\n",
       "      <td>0.519</td>\n",
       "      <td>0.43100</td>\n",
       "      <td>6</td>\n",
       "      <td>-13.606</td>\n",
       "      <td>0</td>\n",
       "      <td>...</td>\n",
       "      <td>0</td>\n",
       "      <td>0</td>\n",
       "      <td>0</td>\n",
       "      <td>0</td>\n",
       "      <td>0</td>\n",
       "      <td>0</td>\n",
       "      <td>0</td>\n",
       "      <td>0</td>\n",
       "      <td>0</td>\n",
       "      <td>0</td>\n",
       "    </tr>\n",
       "    <tr>\n",
       "      <th>...</th>\n",
       "      <td>...</td>\n",
       "      <td>...</td>\n",
       "      <td>...</td>\n",
       "      <td>...</td>\n",
       "      <td>...</td>\n",
       "      <td>...</td>\n",
       "      <td>...</td>\n",
       "      <td>...</td>\n",
       "      <td>...</td>\n",
       "      <td>...</td>\n",
       "      <td>...</td>\n",
       "      <td>...</td>\n",
       "      <td>...</td>\n",
       "      <td>...</td>\n",
       "      <td>...</td>\n",
       "      <td>...</td>\n",
       "      <td>...</td>\n",
       "      <td>...</td>\n",
       "      <td>...</td>\n",
       "      <td>...</td>\n",
       "      <td>...</td>\n",
       "    </tr>\n",
       "    <tr>\n",
       "      <th>89660</th>\n",
       "      <td>Haricharan;Gopi Sundar</td>\n",
       "      <td>Bangalore Days</td>\n",
       "      <td>Aethu Kari Raavilum - From \"Bangalore Days\"</td>\n",
       "      <td>325156</td>\n",
       "      <td>False</td>\n",
       "      <td>0.766</td>\n",
       "      <td>0.38200</td>\n",
       "      <td>7</td>\n",
       "      <td>-11.464</td>\n",
       "      <td>0</td>\n",
       "      <td>...</td>\n",
       "      <td>0</td>\n",
       "      <td>0</td>\n",
       "      <td>0</td>\n",
       "      <td>0</td>\n",
       "      <td>0</td>\n",
       "      <td>0</td>\n",
       "      <td>0</td>\n",
       "      <td>0</td>\n",
       "      <td>0</td>\n",
       "      <td>0</td>\n",
       "    </tr>\n",
       "    <tr>\n",
       "      <th>89661</th>\n",
       "      <td>Piano Genie</td>\n",
       "      <td>Disney Favourites</td>\n",
       "      <td>Two Worlds (From \"Tarzan\")</td>\n",
       "      <td>109573</td>\n",
       "      <td>False</td>\n",
       "      <td>0.529</td>\n",
       "      <td>0.00879</td>\n",
       "      <td>10</td>\n",
       "      <td>-32.266</td>\n",
       "      <td>1</td>\n",
       "      <td>...</td>\n",
       "      <td>0</td>\n",
       "      <td>0</td>\n",
       "      <td>0</td>\n",
       "      <td>0</td>\n",
       "      <td>0</td>\n",
       "      <td>0</td>\n",
       "      <td>0</td>\n",
       "      <td>0</td>\n",
       "      <td>0</td>\n",
       "      <td>0</td>\n",
       "    </tr>\n",
       "    <tr>\n",
       "      <th>89662</th>\n",
       "      <td>Eric Chou</td>\n",
       "      <td>學著愛</td>\n",
       "      <td>以後別做朋友</td>\n",
       "      <td>260573</td>\n",
       "      <td>False</td>\n",
       "      <td>0.423</td>\n",
       "      <td>0.36000</td>\n",
       "      <td>3</td>\n",
       "      <td>-9.458</td>\n",
       "      <td>1</td>\n",
       "      <td>...</td>\n",
       "      <td>0</td>\n",
       "      <td>0</td>\n",
       "      <td>0</td>\n",
       "      <td>0</td>\n",
       "      <td>0</td>\n",
       "      <td>0</td>\n",
       "      <td>0</td>\n",
       "      <td>0</td>\n",
       "      <td>0</td>\n",
       "      <td>0</td>\n",
       "    </tr>\n",
       "    <tr>\n",
       "      <th>89663</th>\n",
       "      <td>Stereoclip</td>\n",
       "      <td>Echoes</td>\n",
       "      <td>Sunset Drive</td>\n",
       "      <td>234300</td>\n",
       "      <td>False</td>\n",
       "      <td>0.649</td>\n",
       "      <td>0.83400</td>\n",
       "      <td>10</td>\n",
       "      <td>-11.430</td>\n",
       "      <td>0</td>\n",
       "      <td>...</td>\n",
       "      <td>0</td>\n",
       "      <td>0</td>\n",
       "      <td>0</td>\n",
       "      <td>0</td>\n",
       "      <td>0</td>\n",
       "      <td>0</td>\n",
       "      <td>0</td>\n",
       "      <td>0</td>\n",
       "      <td>0</td>\n",
       "      <td>0</td>\n",
       "    </tr>\n",
       "    <tr>\n",
       "      <th>89664</th>\n",
       "      <td>The Posies</td>\n",
       "      <td>Amazing Disgrace</td>\n",
       "      <td>Grant Hart</td>\n",
       "      <td>144973</td>\n",
       "      <td>False</td>\n",
       "      <td>0.263</td>\n",
       "      <td>0.95700</td>\n",
       "      <td>4</td>\n",
       "      <td>-6.887</td>\n",
       "      <td>1</td>\n",
       "      <td>...</td>\n",
       "      <td>0</td>\n",
       "      <td>0</td>\n",
       "      <td>0</td>\n",
       "      <td>0</td>\n",
       "      <td>0</td>\n",
       "      <td>0</td>\n",
       "      <td>0</td>\n",
       "      <td>0</td>\n",
       "      <td>0</td>\n",
       "      <td>0</td>\n",
       "    </tr>\n",
       "  </tbody>\n",
       "</table>\n",
       "<p>89665 rows × 132 columns</p>\n",
       "</div>"
      ],
      "text/plain": [
       "                        artists         album_name  \\\n",
       "0                          Rill              Lolly   \n",
       "1                     Glee Cast    Glee Love Songs   \n",
       "2      Paul Kalkbrenner;Pig&Dan                  X   \n",
       "3                 Jordan Sandhu         Teeje Week   \n",
       "4              Paul Kalkbrenner               Zeit   \n",
       "...                         ...                ...   \n",
       "89660    Haricharan;Gopi Sundar     Bangalore Days   \n",
       "89661               Piano Genie  Disney Favourites   \n",
       "89662                 Eric Chou                學著愛   \n",
       "89663                Stereoclip             Echoes   \n",
       "89664                The Posies   Amazing Disgrace   \n",
       "\n",
       "                                              track_name  duration_ms  \\\n",
       "0                                                  Lolly       160725   \n",
       "1      It's All Coming Back To Me Now (Glee Cast Vers...       322933   \n",
       "2                          Böxig Leise - Pig & Dan Remix       515360   \n",
       "3                                             Teeje Week       190203   \n",
       "4                                                   Tief       331240   \n",
       "...                                                  ...          ...   \n",
       "89660        Aethu Kari Raavilum - From \"Bangalore Days\"       325156   \n",
       "89661                         Two Worlds (From \"Tarzan\")       109573   \n",
       "89662                                             以後別做朋友       260573   \n",
       "89663                                       Sunset Drive       234300   \n",
       "89664                                         Grant Hart       144973   \n",
       "\n",
       "       explicit  danceability   energy  key  loudness  mode  ...  \\\n",
       "0          True         0.910  0.37400    8    -9.844     0  ...   \n",
       "1         False         0.269  0.51600    0    -7.361     1  ...   \n",
       "2         False         0.686  0.56000    5   -13.264     0  ...   \n",
       "3         False         0.679  0.77000    0    -3.537     1  ...   \n",
       "4         False         0.519  0.43100    6   -13.606     0  ...   \n",
       "...         ...           ...      ...  ...       ...   ...  ...   \n",
       "89660     False         0.766  0.38200    7   -11.464     0  ...   \n",
       "89661     False         0.529  0.00879   10   -32.266     1  ...   \n",
       "89662     False         0.423  0.36000    3    -9.458     1  ...   \n",
       "89663     False         0.649  0.83400   10   -11.430     0  ...   \n",
       "89664     False         0.263  0.95700    4    -6.887     1  ...   \n",
       "\n",
       "       GENRE_spanish  GENRE_study  GENRE_swedish  GENRE_synth-pop  \\\n",
       "0                  0            0              0                0   \n",
       "1                  0            0              0                0   \n",
       "2                  0            0              0                0   \n",
       "3                  0            0              0                0   \n",
       "4                  0            0              0                0   \n",
       "...              ...          ...            ...              ...   \n",
       "89660              0            0              0                0   \n",
       "89661              0            0              0                0   \n",
       "89662              0            0              0                0   \n",
       "89663              0            0              0                0   \n",
       "89664              0            0              0                0   \n",
       "\n",
       "       GENRE_tango  GENRE_techno  GENRE_trance  GENRE_trip-hop  GENRE_turkish  \\\n",
       "0                0             0             0               0              0   \n",
       "1                0             0             0               0              0   \n",
       "2                0             0             0               0              0   \n",
       "3                0             0             0               0              0   \n",
       "4                0             0             0               0              0   \n",
       "...            ...           ...           ...             ...            ...   \n",
       "89660            0             0             0               0              0   \n",
       "89661            0             0             0               0              0   \n",
       "89662            0             0             0               0              0   \n",
       "89663            0             0             0               0              0   \n",
       "89664            0             0             0               0              0   \n",
       "\n",
       "       GENRE_world-music  \n",
       "0                      0  \n",
       "1                      0  \n",
       "2                      0  \n",
       "3                      0  \n",
       "4                      0  \n",
       "...                  ...  \n",
       "89660                  0  \n",
       "89661                  0  \n",
       "89662                  0  \n",
       "89663                  0  \n",
       "89664                  0  \n",
       "\n",
       "[89665 rows x 132 columns]"
      ]
     },
     "execution_count": 2,
     "metadata": {},
     "output_type": "execute_result"
    }
   ],
   "source": [
    "# load dataset\n",
    "dataset = pd.read_csv('dataset/spotify_tracks_cleaned.csv')\n",
    "dataset"
   ]
  },
  {
   "attachments": {},
   "cell_type": "markdown",
   "metadata": {},
   "source": [
    "<span style=\"color:blue\">**NUMERICAL**</span> features of the dataset :\n",
    "\n",
    "- <span style=\"color:orange\">***popularity***</span>: The popularity of a track is a value between 0 and 100, with 100 being the most popular. The popularity is calculated by algorithm and is based, in the most part, on the total number of plays the track has had and how recent those plays are. Generally speaking, songs that are being played a lot now will have a higher popularity than songs that were played a lot in the past. Duplicate tracks (e.g. the same track from a single and an album) are rated independently. Artist and album popularity is derived mathematically from track popularity.\n",
    "\n",
    "- <span style=\"color:blue\">***duration_ms***</span>: The track length in milliseconds\n",
    "\n",
    "- <span style=\"color:blue\">***danceability***</span>: Danceability describes how suitable a track is for dancing based on a combination of musical elements including tempo, rhythm stability, beat strength, and overall regularity. A value of 0.0 is least danceable and 1.0 is most danceable\n",
    "\n",
    "- <span style=\"color:blue\">***energy***</span>: Energy is a measure from 0.0 to 1.0 and represents a perceptual measure of intensity and activity. Typically, energetic tracks feel fast, loud, and noisy. For example, death metal has high energy, while a Bach prelude scores low on the scale\n",
    "    \n",
    "- <span style=\"color:blue\">***loudness***</span>: The overall loudness of a track in decibels (dB)\n",
    "    \n",
    "- <span style=\"color:blue\">***speechiness***</span>: Speechiness detects the presence of spoken words in a track. The more exclusively speech-like the recording (e.g. talk show, audio book, poetry), the closer to 1.0 the attribute value. Values above 0.66 describe tracks that are probably made entirely of spoken words. Values between 0.33 and 0.66 describe tracks that may contain both music and speech, either in sections or layered, including such cases as rap music. Values below 0.33 most likely represent music and other non-speech-like tracks\n",
    "    \n",
    "- <span style=\"color:blue\">***acousticness***</span>: A confidence measure from 0.0 to 1.0 of whether the track is acoustic. 1.0 represents high confidence the track is acoustic\n",
    "    \n",
    "- <span style=\"color:blue\">***instrumentalness***</span>: Predicts whether a track contains no vocals. \"Ooh\" and \"aah\" sounds are treated as instrumental in this context. Rap or spoken word tracks are clearly \"vocal\". The closer the instrumentalness value is to 1.0, the greater likelihood the track contains no vocal content\n",
    "    \n",
    "- <span style=\"color:blue\">***liveness***</span>: Detects the presence of an audience in the recording. Higher liveness values represent an increased probability that the track was performed live. A value above 0.8 provides strong likelihood that the track is live\n",
    "    \n",
    "- <span style=\"color:blue\">***valence***</span>: A measure from 0.0 to 1.0 describing the musical positiveness conveyed by a track. Tracks with high valence sound more positive (e.g. happy, cheerful, euphoric), while tracks with low valence sound more negative (e.g. sad, depressed, angry)\n",
    "    \n",
    "- <span style=\"color:blue\">***tempo***</span>: The overall estimated tempo of a track in beats per minute (BPM). In musical terminology, tempo is the speed or pace of a given piece and derives directly from the average beat duration"
   ]
  },
  {
   "cell_type": "code",
   "execution_count": 3,
   "metadata": {},
   "outputs": [],
   "source": [
    "# dropping columns corresponding to categorical features\n",
    "\n",
    "columns_to_drop = list(dataset.columns)\n",
    "for c in ['duration_ms','danceability','energy','loudness','speechiness','acousticness','instrumentalness','liveness','valence','tempo','popularity']:\n",
    "    columns_to_drop.remove(c)\n",
    "dataset.drop(columns=columns_to_drop, inplace=True)"
   ]
  },
  {
   "cell_type": "code",
   "execution_count": 4,
   "metadata": {},
   "outputs": [],
   "source": [
    "X = dataset.drop(columns=['popularity'])    # features\n",
    "y = dataset['popularity']                   # target variable"
   ]
  },
  {
   "cell_type": "code",
   "execution_count": 5,
   "metadata": {},
   "outputs": [
    {
     "data": {
      "text/html": [
       "<div>\n",
       "<style scoped>\n",
       "    .dataframe tbody tr th:only-of-type {\n",
       "        vertical-align: middle;\n",
       "    }\n",
       "\n",
       "    .dataframe tbody tr th {\n",
       "        vertical-align: top;\n",
       "    }\n",
       "\n",
       "    .dataframe thead th {\n",
       "        text-align: right;\n",
       "    }\n",
       "</style>\n",
       "<table border=\"1\" class=\"dataframe\">\n",
       "  <thead>\n",
       "    <tr style=\"text-align: right;\">\n",
       "      <th></th>\n",
       "      <th>duration_ms</th>\n",
       "      <th>danceability</th>\n",
       "      <th>energy</th>\n",
       "      <th>loudness</th>\n",
       "      <th>speechiness</th>\n",
       "      <th>acousticness</th>\n",
       "      <th>instrumentalness</th>\n",
       "      <th>liveness</th>\n",
       "      <th>valence</th>\n",
       "      <th>tempo</th>\n",
       "    </tr>\n",
       "  </thead>\n",
       "  <tbody>\n",
       "    <tr>\n",
       "      <th>count</th>\n",
       "      <td>8.966500e+04</td>\n",
       "      <td>89665.000000</td>\n",
       "      <td>89665.000000</td>\n",
       "      <td>89665.000000</td>\n",
       "      <td>89665.000000</td>\n",
       "      <td>89665.000000</td>\n",
       "      <td>89665.000000</td>\n",
       "      <td>89665.000000</td>\n",
       "      <td>89665.000000</td>\n",
       "      <td>89665.000000</td>\n",
       "    </tr>\n",
       "    <tr>\n",
       "      <th>mean</th>\n",
       "      <td>2.291574e+05</td>\n",
       "      <td>0.562212</td>\n",
       "      <td>0.634551</td>\n",
       "      <td>-8.498270</td>\n",
       "      <td>0.087457</td>\n",
       "      <td>0.328273</td>\n",
       "      <td>0.173487</td>\n",
       "      <td>0.216997</td>\n",
       "      <td>0.469533</td>\n",
       "      <td>122.060431</td>\n",
       "    </tr>\n",
       "    <tr>\n",
       "      <th>std</th>\n",
       "      <td>1.129767e+05</td>\n",
       "      <td>0.176682</td>\n",
       "      <td>0.256593</td>\n",
       "      <td>5.221948</td>\n",
       "      <td>0.113309</td>\n",
       "      <td>0.338339</td>\n",
       "      <td>0.323908</td>\n",
       "      <td>0.194916</td>\n",
       "      <td>0.262888</td>\n",
       "      <td>30.118150</td>\n",
       "    </tr>\n",
       "    <tr>\n",
       "      <th>min</th>\n",
       "      <td>8.586000e+03</td>\n",
       "      <td>0.000000</td>\n",
       "      <td>0.000000</td>\n",
       "      <td>-49.531000</td>\n",
       "      <td>0.000000</td>\n",
       "      <td>0.000000</td>\n",
       "      <td>0.000000</td>\n",
       "      <td>0.000000</td>\n",
       "      <td>0.000000</td>\n",
       "      <td>0.000000</td>\n",
       "    </tr>\n",
       "    <tr>\n",
       "      <th>25%</th>\n",
       "      <td>1.730350e+05</td>\n",
       "      <td>0.450000</td>\n",
       "      <td>0.457000</td>\n",
       "      <td>-10.323000</td>\n",
       "      <td>0.036000</td>\n",
       "      <td>0.017100</td>\n",
       "      <td>0.000000</td>\n",
       "      <td>0.098200</td>\n",
       "      <td>0.249000</td>\n",
       "      <td>99.266000</td>\n",
       "    </tr>\n",
       "    <tr>\n",
       "      <th>50%</th>\n",
       "      <td>2.133080e+05</td>\n",
       "      <td>0.576000</td>\n",
       "      <td>0.677000</td>\n",
       "      <td>-7.183000</td>\n",
       "      <td>0.048900</td>\n",
       "      <td>0.188000</td>\n",
       "      <td>0.000058</td>\n",
       "      <td>0.132000</td>\n",
       "      <td>0.457000</td>\n",
       "      <td>122.013000</td>\n",
       "    </tr>\n",
       "    <tr>\n",
       "      <th>75%</th>\n",
       "      <td>2.642970e+05</td>\n",
       "      <td>0.692000</td>\n",
       "      <td>0.853000</td>\n",
       "      <td>-5.107000</td>\n",
       "      <td>0.085900</td>\n",
       "      <td>0.625000</td>\n",
       "      <td>0.097800</td>\n",
       "      <td>0.279000</td>\n",
       "      <td>0.683000</td>\n",
       "      <td>140.077000</td>\n",
       "    </tr>\n",
       "    <tr>\n",
       "      <th>max</th>\n",
       "      <td>5.237295e+06</td>\n",
       "      <td>0.985000</td>\n",
       "      <td>1.000000</td>\n",
       "      <td>4.532000</td>\n",
       "      <td>0.965000</td>\n",
       "      <td>0.996000</td>\n",
       "      <td>1.000000</td>\n",
       "      <td>1.000000</td>\n",
       "      <td>0.995000</td>\n",
       "      <td>243.372000</td>\n",
       "    </tr>\n",
       "  </tbody>\n",
       "</table>\n",
       "</div>"
      ],
      "text/plain": [
       "        duration_ms  danceability        energy      loudness   speechiness  \\\n",
       "count  8.966500e+04  89665.000000  89665.000000  89665.000000  89665.000000   \n",
       "mean   2.291574e+05      0.562212      0.634551     -8.498270      0.087457   \n",
       "std    1.129767e+05      0.176682      0.256593      5.221948      0.113309   \n",
       "min    8.586000e+03      0.000000      0.000000    -49.531000      0.000000   \n",
       "25%    1.730350e+05      0.450000      0.457000    -10.323000      0.036000   \n",
       "50%    2.133080e+05      0.576000      0.677000     -7.183000      0.048900   \n",
       "75%    2.642970e+05      0.692000      0.853000     -5.107000      0.085900   \n",
       "max    5.237295e+06      0.985000      1.000000      4.532000      0.965000   \n",
       "\n",
       "       acousticness  instrumentalness      liveness       valence  \\\n",
       "count  89665.000000      89665.000000  89665.000000  89665.000000   \n",
       "mean       0.328273          0.173487      0.216997      0.469533   \n",
       "std        0.338339          0.323908      0.194916      0.262888   \n",
       "min        0.000000          0.000000      0.000000      0.000000   \n",
       "25%        0.017100          0.000000      0.098200      0.249000   \n",
       "50%        0.188000          0.000058      0.132000      0.457000   \n",
       "75%        0.625000          0.097800      0.279000      0.683000   \n",
       "max        0.996000          1.000000      1.000000      0.995000   \n",
       "\n",
       "              tempo  \n",
       "count  89665.000000  \n",
       "mean     122.060431  \n",
       "std       30.118150  \n",
       "min        0.000000  \n",
       "25%       99.266000  \n",
       "50%      122.013000  \n",
       "75%      140.077000  \n",
       "max      243.372000  "
      ]
     },
     "execution_count": 5,
     "metadata": {},
     "output_type": "execute_result"
    }
   ],
   "source": [
    "X.describe()"
   ]
  },
  {
   "cell_type": "code",
   "execution_count": 6,
   "metadata": {},
   "outputs": [
    {
     "name": "stdout",
     "output_type": "stream",
     "text": [
      "popularity\n",
      "100       1\n",
      "99        1\n",
      "96        2\n",
      "97        2\n",
      "98        2\n",
      "       ... \n",
      "23     2038\n",
      "20     2064\n",
      "22     2256\n",
      "21     2275\n",
      "0      9352\n",
      "Name: count, Length: 101, dtype: int64\n"
     ]
    },
    {
     "data": {
      "image/png": "[encoded data removed]",
      "text/plain": [
       "<Figure size 576x360 with 1 Axes>"
      ]
     },
     "metadata": {
      "needs_background": "light"
     },
     "output_type": "display_data"
    }
   ],
   "source": [
    "print(y.value_counts().sort_values())\n",
    "\n",
    "fig, ax = plt.subplots()\n",
    "fig.set_figwidth(8)\n",
    "fig.set_figheight(5)\n",
    "ax.hist(y, bins=101)\n",
    "plt.show()"
   ]
  },
  {
   "cell_type": "code",
   "execution_count": 7,
   "metadata": {},
   "outputs": [],
   "source": [
    "X['popularity_subsamples'] = y.map(lambda x: x if x % 2 == 0 else x+1)\n",
    "\n",
    "X_train, X_test, y_train, y_test = train_test_split(X, y, test_size=0.2, random_state=42, stratify=X['popularity_subsamples'])\n",
    "\n",
    "X_train.drop(columns='popularity_subsamples', inplace=True)\n",
    "X_test.drop(columns='popularity_subsamples', inplace=True)"
   ]
  },
  {
   "attachments": {},
   "cell_type": "markdown",
   "metadata": {},
   "source": [
    "### Features selection"
   ]
  },
  {
   "cell_type": "code",
   "execution_count": 8,
   "metadata": {},
   "outputs": [
    {
     "data": {
      "image/png": "[encoded data removed]",
      "text/plain": [
       "<Figure size 720x576 with 2 Axes>"
      ]
     },
     "metadata": {
      "needs_background": "light"
     },
     "output_type": "display_data"
    }
   ],
   "source": [
    "all_data = X_train.copy()\n",
    "all_data['target'] = y_train\n",
    "plt.figure(figsize=(10,8))\n",
    "sns.heatmap(all_data.corr(), annot=True, cmap=plt.cm.CMRmap_r)\n",
    "plt.show()"
   ]
  },
  {
   "cell_type": "code",
   "execution_count": 9,
   "metadata": {},
   "outputs": [
    {
     "data": {
      "image/png": "[encoded data removed]",
      "text/plain": [
       "<Figure size 1224x360 with 1 Axes>"
      ]
     },
     "metadata": {
      "needs_background": "light"
     },
     "output_type": "display_data"
    }
   ],
   "source": [
    "fs = SelectKBest(score_func=f_regression, k='all')\n",
    "fs.fit(X_train, y_train)\n",
    "\n",
    "plt.figure(figsize=(17,5))\n",
    "plt.bar([X_train.columns[i] for i in range(len(fs.scores_))], fs.scores_)\n",
    "plt.show()"
   ]
  },
  {
   "cell_type": "code",
   "execution_count": 10,
   "metadata": {},
   "outputs": [],
   "source": [
    "worst_features = ['energy', 'liveness', 'valence', 'tempo']\n",
    "X_train.drop(columns=worst_features, inplace=True)\n",
    "X_test.drop(columns=worst_features, inplace=True)"
   ]
  },
  {
   "attachments": {},
   "cell_type": "markdown",
   "metadata": {},
   "source": [
    "### Features normalization"
   ]
  },
  {
   "cell_type": "code",
   "execution_count": 11,
   "metadata": {},
   "outputs": [],
   "source": [
    "standard_scaler = preprocessing.StandardScaler().set_output(transform=\"pandas\")\n",
    "\n",
    "X_train = standard_scaler.fit_transform(X_train)\n",
    "X_test = standard_scaler.transform(X_test)"
   ]
  },
  {
   "attachments": {},
   "cell_type": "markdown",
   "metadata": {},
   "source": [
    "## *Ridge Regression* on *Spotify Tracks Dataset* "
   ]
  },
  {
   "cell_type": "code",
   "execution_count": 12,
   "metadata": {},
   "outputs": [],
   "source": [
    "from ridge_regression import RR"
   ]
  },
  {
   "cell_type": "markdown",
   "metadata": {},
   "source": [
    "### Hyperparameters tuning"
   ]
  },
  {
   "cell_type": "code",
   "execution_count": 13,
   "metadata": {},
   "outputs": [
    {
     "name": "stdout",
     "output_type": "stream",
     "text": [
      "Fitting 5 folds for each of 20 candidates, totalling 100 fits\n"
     ]
    },
    {
     "data": {
      "text/html": [
       "<style>#sk-container-id-1 {color: black;}#sk-container-id-1 pre{padding: 0;}#sk-container-id-1 div.sk-toggleable {background-color: white;}#sk-container-id-1 label.sk-toggleable__label {cursor: pointer;display: block;width: 100%;margin-bottom: 0;padding: 0.3em;box-sizing: border-box;text-align: center;}#sk-container-id-1 label.sk-toggleable__label-arrow:before {content: \"▸\";float: left;margin-right: 0.25em;color: #696969;}#sk-container-id-1 label.sk-toggleable__label-arrow:hover:before {color: black;}#sk-container-id-1 div.sk-estimator:hover label.sk-toggleable__label-arrow:before {color: black;}#sk-container-id-1 div.sk-toggleable__content {max-height: 0;max-width: 0;overflow: hidden;text-align: left;background-color: #f0f8ff;}#sk-container-id-1 div.sk-toggleable__content pre {margin: 0.2em;color: black;border-radius: 0.25em;background-color: #f0f8ff;}#sk-container-id-1 input.sk-toggleable__control:checked~div.sk-toggleable__content {max-height: 200px;max-width: 100%;overflow: auto;}#sk-container-id-1 input.sk-toggleable__control:checked~label.sk-toggleable__label-arrow:before {content: \"▾\";}#sk-container-id-1 div.sk-estimator input.sk-toggleable__control:checked~label.sk-toggleable__label {background-color: #d4ebff;}#sk-container-id-1 div.sk-label input.sk-toggleable__control:checked~label.sk-toggleable__label {background-color: #d4ebff;}#sk-container-id-1 input.sk-hidden--visually {border: 0;clip: rect(1px 1px 1px 1px);clip: rect(1px, 1px, 1px, 1px);height: 1px;margin: -1px;overflow: hidden;padding: 0;position: absolute;width: 1px;}#sk-container-id-1 div.sk-estimator {font-family: monospace;background-color: #f0f8ff;border: 1px dotted black;border-radius: 0.25em;box-sizing: border-box;margin-bottom: 0.5em;}#sk-container-id-1 div.sk-estimator:hover {background-color: #d4ebff;}#sk-container-id-1 div.sk-parallel-item::after {content: \"\";width: 100%;border-bottom: 1px solid gray;flex-grow: 1;}#sk-container-id-1 div.sk-label:hover label.sk-toggleable__label {background-color: #d4ebff;}#sk-container-id-1 div.sk-serial::before {content: \"\";position: absolute;border-left: 1px solid gray;box-sizing: border-box;top: 0;bottom: 0;left: 50%;z-index: 0;}#sk-container-id-1 div.sk-serial {display: flex;flex-direction: column;align-items: center;background-color: white;padding-right: 0.2em;padding-left: 0.2em;position: relative;}#sk-container-id-1 div.sk-item {position: relative;z-index: 1;}#sk-container-id-1 div.sk-parallel {display: flex;align-items: stretch;justify-content: center;background-color: white;position: relative;}#sk-container-id-1 div.sk-item::before, #sk-container-id-1 div.sk-parallel-item::before {content: \"\";position: absolute;border-left: 1px solid gray;box-sizing: border-box;top: 0;bottom: 0;left: 50%;z-index: -1;}#sk-container-id-1 div.sk-parallel-item {display: flex;flex-direction: column;z-index: 1;position: relative;background-color: white;}#sk-container-id-1 div.sk-parallel-item:first-child::after {align-self: flex-end;width: 50%;}#sk-container-id-1 div.sk-parallel-item:last-child::after {align-self: flex-start;width: 50%;}#sk-container-id-1 div.sk-parallel-item:only-child::after {width: 0;}#sk-container-id-1 div.sk-dashed-wrapped {border: 1px dashed gray;margin: 0 0.4em 0.5em 0.4em;box-sizing: border-box;padding-bottom: 0.4em;background-color: white;}#sk-container-id-1 div.sk-label label {font-family: monospace;font-weight: bold;display: inline-block;line-height: 1.2em;}#sk-container-id-1 div.sk-label-container {text-align: center;}#sk-container-id-1 div.sk-container {/* jupyter's `normalize.less` sets `[hidden] { display: none; }` but bootstrap.min.css set `[hidden] { display: none !important; }` so we also need the `!important` here to be able to override the default hidden behavior on the sphinx rendered scikit-learn.org. See: https://github.com/scikit-learn/scikit-learn/issues/21755 */display: inline-block !important;position: relative;}#sk-container-id-1 div.sk-text-repr-fallback {display: none;}</style><div id=\"sk-container-id-1\" class=\"sk-top-container\"><div class=\"sk-text-repr-fallback\"><pre>GridSearchCV(cv=5, estimator=RR(), n_jobs=-1,\n",
       "             param_grid={&#x27;λ&#x27;: array([  0.        ,   6.31578947,  12.63157895,  18.94736842,\n",
       "        25.26315789,  31.57894737,  37.89473684,  44.21052632,\n",
       "        50.52631579,  56.84210526,  63.15789474,  69.47368421,\n",
       "        75.78947368,  82.10526316,  88.42105263,  94.73684211,\n",
       "       101.05263158, 107.36842105, 113.68421053, 120.        ])},\n",
       "             scoring=&#x27;neg_mean_squared_error&#x27;, verbose=1)</pre><b>In a Jupyter environment, please rerun this cell to show the HTML representation or trust the notebook. <br />On GitHub, the HTML representation is unable to render, please try loading this page with nbviewer.org.</b></div><div class=\"sk-container\" hidden><div class=\"sk-item sk-dashed-wrapped\"><div class=\"sk-label-container\"><div class=\"sk-label sk-toggleable\"><input class=\"sk-toggleable__control sk-hidden--visually\" id=\"sk-estimator-id-1\" type=\"checkbox\" ><label for=\"sk-estimator-id-1\" class=\"sk-toggleable__label sk-toggleable__label-arrow\">GridSearchCV</label><div class=\"sk-toggleable__content\"><pre>GridSearchCV(cv=5, estimator=RR(), n_jobs=-1,\n",
       "             param_grid={&#x27;λ&#x27;: array([  0.        ,   6.31578947,  12.63157895,  18.94736842,\n",
       "        25.26315789,  31.57894737,  37.89473684,  44.21052632,\n",
       "        50.52631579,  56.84210526,  63.15789474,  69.47368421,\n",
       "        75.78947368,  82.10526316,  88.42105263,  94.73684211,\n",
       "       101.05263158, 107.36842105, 113.68421053, 120.        ])},\n",
       "             scoring=&#x27;neg_mean_squared_error&#x27;, verbose=1)</pre></div></div></div><div class=\"sk-parallel\"><div class=\"sk-parallel-item\"><div class=\"sk-item\"><div class=\"sk-label-container\"><div class=\"sk-label sk-toggleable\"><input class=\"sk-toggleable__control sk-hidden--visually\" id=\"sk-estimator-id-2\" type=\"checkbox\" ><label for=\"sk-estimator-id-2\" class=\"sk-toggleable__label sk-toggleable__label-arrow\">estimator: RR</label><div class=\"sk-toggleable__content\"><pre>RR()</pre></div></div></div><div class=\"sk-serial\"><div class=\"sk-item\"><div class=\"sk-estimator sk-toggleable\"><input class=\"sk-toggleable__control sk-hidden--visually\" id=\"sk-estimator-id-3\" type=\"checkbox\" ><label for=\"sk-estimator-id-3\" class=\"sk-toggleable__label sk-toggleable__label-arrow\">RR</label><div class=\"sk-toggleable__content\"><pre>RR()</pre></div></div></div></div></div></div></div></div></div></div>"
      ],
      "text/plain": [
       "GridSearchCV(cv=5, estimator=RR(), n_jobs=-1,\n",
       "             param_grid={'λ': array([  0.        ,   6.31578947,  12.63157895,  18.94736842,\n",
       "        25.26315789,  31.57894737,  37.89473684,  44.21052632,\n",
       "        50.52631579,  56.84210526,  63.15789474,  69.47368421,\n",
       "        75.78947368,  82.10526316,  88.42105263,  94.73684211,\n",
       "       101.05263158, 107.36842105, 113.68421053, 120.        ])},\n",
       "             scoring='neg_mean_squared_error', verbose=1)"
      ]
     },
     "execution_count": 13,
     "metadata": {},
     "output_type": "execute_result"
    }
   ],
   "source": [
    "λ_grid = np.linspace(0, 120, num=20)\n",
    "\n",
    "learner = GridSearchCV(estimator=RR(), n_jobs=-1, param_grid={'λ': λ_grid}, scoring='neg_mean_squared_error', cv=5, verbose=CV_verbose_param)\n",
    "learner.fit(X_train, y_train)"
   ]
  },
  {
   "cell_type": "code",
   "execution_count": 14,
   "metadata": {},
   "outputs": [
    {
     "name": "stdout",
     "output_type": "stream",
     "text": [
      "Best hyperparams : λ = 63.15789473684211\n"
     ]
    }
   ],
   "source": [
    "print(f'Best hyperparams : λ = {learner.best_params_[\"λ\"]}')"
   ]
  },
  {
   "cell_type": "code",
   "execution_count": 15,
   "metadata": {},
   "outputs": [
    {
     "data": {
      "image/png": "[encoded data removed]",
      "text/plain": [
       "<Figure size 720x432 with 1 Axes>"
      ]
     },
     "metadata": {
      "needs_background": "light"
     },
     "output_type": "display_data"
    }
   ],
   "source": [
    "fig, ax = plt.subplots()\n",
    "fig.set_figwidth(10)\n",
    "fig.set_figheight(6)\n",
    "ax.plot(learner.cv_results_['param_λ'].data, learner.cv_results_['mean_test_score'])\n",
    "ax.plot(learner.best_params_['λ'], learner.best_score_, 'ro') \n",
    "ax.set(xlabel='λ', ylabel='neg_mean_squared_error', title='negated MSE score varying λ')\n",
    "plt.show()"
   ]
  },
  {
   "cell_type": "code",
   "execution_count": 16,
   "metadata": {},
   "outputs": [
    {
     "name": "stdout",
     "output_type": "stream",
     "text": [
      "   MSE : 414.14901640285245\n",
      "   MAE : 16.851320134208876\n",
      "    R2 : 0.0200125876389442\n"
     ]
    }
   ],
   "source": [
    "rr = learner.best_estimator_\n",
    "rr.fit(X_train, y_train)\n",
    "y_prediction = rr.predict(X_test)\n",
    "\n",
    "print('   MSE :', mean_squared_error(y_test, y_prediction))\n",
    "print('   MAE :', mean_absolute_error(y_test, y_prediction))\n",
    "print('    R2 :', r2_score(y_test, y_prediction))"
   ]
  },
  {
   "cell_type": "code",
   "execution_count": 17,
   "metadata": {},
   "outputs": [
    {
     "data": {
      "image/png": "[encoded data removed]",
      "text/plain": [
       "<Figure size 576x360 with 1 Axes>"
      ]
     },
     "metadata": {
      "needs_background": "light"
     },
     "output_type": "display_data"
    }
   ],
   "source": [
    "fig, ax = plt.subplots()\n",
    "fig.set_figwidth(8)\n",
    "fig.set_figheight(5)\n",
    "ax.hist(y_test - y_prediction, density=True, bins=100)\n",
    "plt.show()"
   ]
  },
  {
   "attachments": {},
   "cell_type": "markdown",
   "metadata": {},
   "source": [
    "Checking that my implementation performs exactly as the one in *sklearn*"
   ]
  },
  {
   "cell_type": "code",
   "execution_count": 18,
   "metadata": {},
   "outputs": [
    {
     "name": "stdout",
     "output_type": "stream",
     "text": [
      "   MSE : 414.14901640285245\n",
      "   MAE : 16.851320134208873\n",
      "    R2 : 0.0200125876389442\n"
     ]
    }
   ],
   "source": [
    "from sklearn.linear_model import Ridge\n",
    "\n",
    "debug = True\n",
    "\n",
    "if debug:\n",
    "\n",
    "    rr = Ridge(alpha=learner.best_params_['λ'])\n",
    "    rr.fit(X_train, y_train)\n",
    "    y_prediction = rr.predict(X_test)\n",
    "\n",
    "    print('   MSE :', mean_squared_error(y_test, y_prediction))\n",
    "    print('   MAE :', mean_absolute_error(y_test, y_prediction))\n",
    "    print('    R2 :', r2_score(y_test, y_prediction))"
   ]
  },
  {
   "attachments": {},
   "cell_type": "markdown",
   "metadata": {},
   "source": [
    "## *Kernel Ridge Regression* on *Spotify Tracks Dataset*"
   ]
  },
  {
   "cell_type": "code",
   "execution_count": 19,
   "metadata": {},
   "outputs": [],
   "source": [
    "from kernel_ridge_regression import KRR"
   ]
  },
  {
   "attachments": {},
   "cell_type": "markdown",
   "metadata": {},
   "source": [
    "We run KRR just on samples of the dataset because, otherwise, it would get too computationally expensive "
   ]
  },
  {
   "cell_type": "code",
   "execution_count": 20,
   "metadata": {},
   "outputs": [],
   "source": [
    "train_sample_size = 5000\n",
    "test_sample_size = 1000\n",
    "\n",
    "X_train_sample = X_train.sample(n=train_sample_size, random_state=1)\n",
    "y_train_sample = pd.Series(data = [y_train[i] for i in X_train_sample.index], index = X_train_sample.index)\n",
    "\n",
    "X_test_sample = X_test.sample(n=test_sample_size, random_state=1)\n",
    "y_test_sample = pd.Series(data = [y_test[i] for i in X_test_sample.index], index = X_test_sample.index)"
   ]
  },
  {
   "attachments": {},
   "cell_type": "markdown",
   "metadata": {},
   "source": [
    "### Hyperparameters tuning"
   ]
  },
  {
   "cell_type": "code",
   "execution_count": 21,
   "metadata": {},
   "outputs": [
    {
     "name": "stdout",
     "output_type": "stream",
     "text": [
      "Fitting 5 folds for each of 25 candidates, totalling 125 fits\n"
     ]
    },
    {
     "name": "stderr",
     "output_type": "stream",
     "text": [
      "/Library/Frameworks/Python.framework/Versions/3.10/lib/python3.10/site-packages/joblib/externals/loky/process_executor.py:752: UserWarning: A worker stopped while some jobs were given to the executor. This can be caused by a too short worker timeout or by a memory leak.\n",
      "  warnings.warn(\n"
     ]
    },
    {
     "data": {
      "text/html": [
       "<style>#sk-container-id-2 {color: black;}#sk-container-id-2 pre{padding: 0;}#sk-container-id-2 div.sk-toggleable {background-color: white;}#sk-container-id-2 label.sk-toggleable__label {cursor: pointer;display: block;width: 100%;margin-bottom: 0;padding: 0.3em;box-sizing: border-box;text-align: center;}#sk-container-id-2 label.sk-toggleable__label-arrow:before {content: \"▸\";float: left;margin-right: 0.25em;color: #696969;}#sk-container-id-2 label.sk-toggleable__label-arrow:hover:before {color: black;}#sk-container-id-2 div.sk-estimator:hover label.sk-toggleable__label-arrow:before {color: black;}#sk-container-id-2 div.sk-toggleable__content {max-height: 0;max-width: 0;overflow: hidden;text-align: left;background-color: #f0f8ff;}#sk-container-id-2 div.sk-toggleable__content pre {margin: 0.2em;color: black;border-radius: 0.25em;background-color: #f0f8ff;}#sk-container-id-2 input.sk-toggleable__control:checked~div.sk-toggleable__content {max-height: 200px;max-width: 100%;overflow: auto;}#sk-container-id-2 input.sk-toggleable__control:checked~label.sk-toggleable__label-arrow:before {content: \"▾\";}#sk-container-id-2 div.sk-estimator input.sk-toggleable__control:checked~label.sk-toggleable__label {background-color: #d4ebff;}#sk-container-id-2 div.sk-label input.sk-toggleable__control:checked~label.sk-toggleable__label {background-color: #d4ebff;}#sk-container-id-2 input.sk-hidden--visually {border: 0;clip: rect(1px 1px 1px 1px);clip: rect(1px, 1px, 1px, 1px);height: 1px;margin: -1px;overflow: hidden;padding: 0;position: absolute;width: 1px;}#sk-container-id-2 div.sk-estimator {font-family: monospace;background-color: #f0f8ff;border: 1px dotted black;border-radius: 0.25em;box-sizing: border-box;margin-bottom: 0.5em;}#sk-container-id-2 div.sk-estimator:hover {background-color: #d4ebff;}#sk-container-id-2 div.sk-parallel-item::after {content: \"\";width: 100%;border-bottom: 1px solid gray;flex-grow: 1;}#sk-container-id-2 div.sk-label:hover label.sk-toggleable__label {background-color: #d4ebff;}#sk-container-id-2 div.sk-serial::before {content: \"\";position: absolute;border-left: 1px solid gray;box-sizing: border-box;top: 0;bottom: 0;left: 50%;z-index: 0;}#sk-container-id-2 div.sk-serial {display: flex;flex-direction: column;align-items: center;background-color: white;padding-right: 0.2em;padding-left: 0.2em;position: relative;}#sk-container-id-2 div.sk-item {position: relative;z-index: 1;}#sk-container-id-2 div.sk-parallel {display: flex;align-items: stretch;justify-content: center;background-color: white;position: relative;}#sk-container-id-2 div.sk-item::before, #sk-container-id-2 div.sk-parallel-item::before {content: \"\";position: absolute;border-left: 1px solid gray;box-sizing: border-box;top: 0;bottom: 0;left: 50%;z-index: -1;}#sk-container-id-2 div.sk-parallel-item {display: flex;flex-direction: column;z-index: 1;position: relative;background-color: white;}#sk-container-id-2 div.sk-parallel-item:first-child::after {align-self: flex-end;width: 50%;}#sk-container-id-2 div.sk-parallel-item:last-child::after {align-self: flex-start;width: 50%;}#sk-container-id-2 div.sk-parallel-item:only-child::after {width: 0;}#sk-container-id-2 div.sk-dashed-wrapped {border: 1px dashed gray;margin: 0 0.4em 0.5em 0.4em;box-sizing: border-box;padding-bottom: 0.4em;background-color: white;}#sk-container-id-2 div.sk-label label {font-family: monospace;font-weight: bold;display: inline-block;line-height: 1.2em;}#sk-container-id-2 div.sk-label-container {text-align: center;}#sk-container-id-2 div.sk-container {/* jupyter's `normalize.less` sets `[hidden] { display: none; }` but bootstrap.min.css set `[hidden] { display: none !important; }` so we also need the `!important` here to be able to override the default hidden behavior on the sphinx rendered scikit-learn.org. See: https://github.com/scikit-learn/scikit-learn/issues/21755 */display: inline-block !important;position: relative;}#sk-container-id-2 div.sk-text-repr-fallback {display: none;}</style><div id=\"sk-container-id-2\" class=\"sk-top-container\"><div class=\"sk-text-repr-fallback\"><pre>GridSearchCV(cv=5, estimator=KRR(), n_jobs=-1,\n",
       "             param_grid={&#x27;γ&#x27;: array([1.e-01, 1.e+00, 1.e+01, 1.e+02, 1.e+03]),\n",
       "                         &#x27;λ&#x27;: array([1.e-02, 1.e-01, 1.e+00, 1.e+01, 1.e+02])},\n",
       "             scoring=&#x27;neg_mean_squared_error&#x27;, verbose=1)</pre><b>In a Jupyter environment, please rerun this cell to show the HTML representation or trust the notebook. <br />On GitHub, the HTML representation is unable to render, please try loading this page with nbviewer.org.</b></div><div class=\"sk-container\" hidden><div class=\"sk-item sk-dashed-wrapped\"><div class=\"sk-label-container\"><div class=\"sk-label sk-toggleable\"><input class=\"sk-toggleable__control sk-hidden--visually\" id=\"sk-estimator-id-4\" type=\"checkbox\" ><label for=\"sk-estimator-id-4\" class=\"sk-toggleable__label sk-toggleable__label-arrow\">GridSearchCV</label><div class=\"sk-toggleable__content\"><pre>GridSearchCV(cv=5, estimator=KRR(), n_jobs=-1,\n",
       "             param_grid={&#x27;γ&#x27;: array([1.e-01, 1.e+00, 1.e+01, 1.e+02, 1.e+03]),\n",
       "                         &#x27;λ&#x27;: array([1.e-02, 1.e-01, 1.e+00, 1.e+01, 1.e+02])},\n",
       "             scoring=&#x27;neg_mean_squared_error&#x27;, verbose=1)</pre></div></div></div><div class=\"sk-parallel\"><div class=\"sk-parallel-item\"><div class=\"sk-item\"><div class=\"sk-label-container\"><div class=\"sk-label sk-toggleable\"><input class=\"sk-toggleable__control sk-hidden--visually\" id=\"sk-estimator-id-5\" type=\"checkbox\" ><label for=\"sk-estimator-id-5\" class=\"sk-toggleable__label sk-toggleable__label-arrow\">estimator: KRR</label><div class=\"sk-toggleable__content\"><pre>KRR()</pre></div></div></div><div class=\"sk-serial\"><div class=\"sk-item\"><div class=\"sk-estimator sk-toggleable\"><input class=\"sk-toggleable__control sk-hidden--visually\" id=\"sk-estimator-id-6\" type=\"checkbox\" ><label for=\"sk-estimator-id-6\" class=\"sk-toggleable__label sk-toggleable__label-arrow\">KRR</label><div class=\"sk-toggleable__content\"><pre>KRR()</pre></div></div></div></div></div></div></div></div></div></div>"
      ],
      "text/plain": [
       "GridSearchCV(cv=5, estimator=KRR(), n_jobs=-1,\n",
       "             param_grid={'γ': array([1.e-01, 1.e+00, 1.e+01, 1.e+02, 1.e+03]),\n",
       "                         'λ': array([1.e-02, 1.e-01, 1.e+00, 1.e+01, 1.e+02])},\n",
       "             scoring='neg_mean_squared_error', verbose=1)"
      ]
     },
     "execution_count": 21,
     "metadata": {},
     "output_type": "execute_result"
    }
   ],
   "source": [
    "λ_grid = 10. ** np.arange(-2, 3) \n",
    "γ_grid = 10. ** np.arange(-1, 4) \n",
    "\n",
    "learner = GridSearchCV(estimator=KRR(), n_jobs=-1, param_grid={'λ': λ_grid, 'γ': γ_grid}, scoring='neg_mean_squared_error', cv=5, verbose=CV_verbose_param)\n",
    "learner.fit(X_train_sample, y_train_sample)"
   ]
  },
  {
   "cell_type": "code",
   "execution_count": 22,
   "metadata": {},
   "outputs": [
    {
     "name": "stdout",
     "output_type": "stream",
     "text": [
      "Best hyperparams : λ = 1.0 , γ = 10.0\n"
     ]
    }
   ],
   "source": [
    "print(f'Best hyperparams : λ = {learner.best_params_[\"λ\"]} , γ = {learner.best_params_[\"γ\"]}')"
   ]
  },
  {
   "cell_type": "code",
   "execution_count": 23,
   "metadata": {},
   "outputs": [
    {
     "data": {
      "image/png": "[encoded data removed]",
      "text/plain": [
       "<Figure size 720x432 with 1 Axes>"
      ]
     },
     "metadata": {
      "needs_background": "light"
     },
     "output_type": "display_data"
    }
   ],
   "source": [
    "# preparing the data to plot\n",
    "\n",
    "score = learner.cv_results_['mean_test_score']\n",
    "\n",
    "dict_λ = {}\n",
    "for v in set(learner.cv_results_['param_λ'].data):\n",
    "    dict_λ[v] = (sorted(set(learner.cv_results_['param_γ'].data)), [])\n",
    "for i, p in enumerate(learner.cv_results_['params']):\n",
    "    dict_λ[p['λ']][1].append(score[i])\n",
    "#del(dict_λ[0.0])\n",
    "\n",
    "fig, ax = plt.subplots()\n",
    "fig.set_figwidth(10)\n",
    "fig.set_figheight(6)\n",
    "\n",
    "colors = ['purple', 'green', 'blue', 'orange', 'cyan']\n",
    "for k in sorted(dict_λ.keys()):\n",
    "    ax.plot(dict_λ[k][0], dict_λ[k][1], label = f\"λ = {k}\", linestyle=\"-\", color = colors.pop())\n",
    "\n",
    "ax.set(xscale='log', xlabel='γ', ylabel='neg_mean_squared_error', title='negated MSE score varying λ and γ')\n",
    "plt.legend()\n",
    "plt.show()"
   ]
  },
  {
   "cell_type": "code",
   "execution_count": 24,
   "metadata": {},
   "outputs": [],
   "source": [
    "train_sample_size_BIG = 20000\n",
    "test_sample_size_BIG = 4000\n",
    "\n",
    "X_train_sample_BIG = X_train.sample(n=train_sample_size_BIG, random_state=1)\n",
    "y_train_sample_BIG = pd.Series(data = [y_train[i] for i in X_train_sample_BIG.index], index = X_train_sample_BIG.index)\n",
    "\n",
    "X_test_sample_BIG = X_test.sample(n=test_sample_size_BIG, random_state=1)\n",
    "y_test_sample_BIG = pd.Series(data = [y_test[i] for i in X_test_sample_BIG.index], index = X_test_sample_BIG.index)"
   ]
  },
  {
   "cell_type": "code",
   "execution_count": 25,
   "metadata": {},
   "outputs": [
    {
     "name": "stdout",
     "output_type": "stream",
     "text": [
      "   MSE : 377.8658357061992\n",
      "   MAE : 15.863612520634558\n",
      "    R2 : 0.06353998914848746\n"
     ]
    }
   ],
   "source": [
    "krr = learner.best_estimator_\n",
    "krr.fit(X_train_sample_BIG, y_train_sample_BIG)\n",
    "y_prediction = krr.predict(X_test_sample_BIG)\n",
    "\n",
    "print('   MSE :', mean_squared_error(y_test_sample_BIG, y_prediction))\n",
    "print('   MAE :', mean_absolute_error(y_test_sample_BIG, y_prediction))\n",
    "print('    R2 :', r2_score(y_test_sample_BIG, y_prediction))"
   ]
  },
  {
   "cell_type": "code",
   "execution_count": 26,
   "metadata": {},
   "outputs": [
    {
     "data": {
      "image/png": "[encoded data removed]",
      "text/plain": [
       "<Figure size 576x360 with 1 Axes>"
      ]
     },
     "metadata": {
      "needs_background": "light"
     },
     "output_type": "display_data"
    }
   ],
   "source": [
    "fig, ax = plt.subplots()\n",
    "fig.set_figwidth(8)\n",
    "fig.set_figheight(5)\n",
    "ax.hist(y_test_sample_BIG - y_prediction, density=True, bins=100)\n",
    "plt.show()"
   ]
  },
  {
   "cell_type": "markdown",
   "metadata": {},
   "source": [
    "Checking that my implementation performs exactly as the one in *sklearn*"
   ]
  },
  {
   "cell_type": "code",
   "execution_count": 27,
   "metadata": {},
   "outputs": [
    {
     "name": "stdout",
     "output_type": "stream",
     "text": [
      "   MSE : 377.86583570619894\n",
      "   MAE : 15.86361252063455\n",
      "    R2 : 0.06353998914848813\n"
     ]
    }
   ],
   "source": [
    "from sklearn.kernel_ridge import KernelRidge\n",
    "\n",
    "debug = True\n",
    "\n",
    "if debug:\n",
    "\n",
    "    krr = KernelRidge(alpha=learner.best_params_[\"λ\"], kernel=\"rbf\", gamma=1/(learner.best_params_[\"γ\"] * 2))\n",
    "    krr.fit(X_train_sample_BIG, y_train_sample_BIG)\n",
    "    y_prediction = krr.predict(X_test_sample_BIG)\n",
    "\n",
    "    print('   MSE :', mean_squared_error(y_test_sample_BIG, y_prediction))\n",
    "    print('   MAE :', mean_absolute_error(y_test_sample_BIG, y_prediction))\n",
    "    print('    R2 :', r2_score(y_test_sample_BIG, y_prediction))"
   ]
  }
 ],
 "metadata": {
  "kernelspec": {
   "display_name": "Python 3",
   "language": "python",
   "name": "python3"
  },
  "language_info": {
   "codemirror_mode": {
    "name": "ipython",
    "version": 3
   },
   "file_extension": ".py",
   "mimetype": "text/x-python",
   "name": "python",
   "nbconvert_exporter": "python",
   "pygments_lexer": "ipython3",
   "version": "3.10.5"
  },
  "orig_nbformat": 4,
  "vscode": {
   "interpreter": {
    "hash": "aee8b7b246df8f9039afb4144a1f6fd8d2ca17a180786b69acc140d282b71a49"
   }
  }
 },
 "nbformat": 4,
 "nbformat_minor": 2
}
