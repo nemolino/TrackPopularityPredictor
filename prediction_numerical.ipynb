{
 "cells": [
  {
   "cell_type": "code",
   "execution_count": 2,
   "metadata": {},
   "outputs": [],
   "source": [
    "import numpy as np\n",
    "import pandas as pd\n",
    "import matplotlib.pyplot as plt\n",
    "\n",
    "plt.rcParams['figure.figsize'] = (15, 8)\n",
    "\n",
    "import seaborn as sns\n",
    "\n",
    "from sklearn import preprocessing\n",
    "from sklearn.feature_selection import SelectKBest, f_regression\n",
    "\n",
    "from sklearn.model_selection import train_test_split, cross_val_score, GridSearchCV\n",
    "\n",
    "from sklearn.metrics import mean_squared_error, mean_absolute_error, r2_score"
   ]
  },
  {
   "cell_type": "code",
   "execution_count": 3,
   "metadata": {},
   "outputs": [
    {
     "data": {
      "text/html": [
       "<div>\n",
       "<style scoped>\n",
       "    .dataframe tbody tr th:only-of-type {\n",
       "        vertical-align: middle;\n",
       "    }\n",
       "\n",
       "    .dataframe tbody tr th {\n",
       "        vertical-align: top;\n",
       "    }\n",
       "\n",
       "    .dataframe thead th {\n",
       "        text-align: right;\n",
       "    }\n",
       "</style>\n",
       "<table border=\"1\" class=\"dataframe\">\n",
       "  <thead>\n",
       "    <tr style=\"text-align: right;\">\n",
       "      <th></th>\n",
       "      <th>Unnamed: 0</th>\n",
       "      <th>track_id</th>\n",
       "      <th>artists</th>\n",
       "      <th>album_name</th>\n",
       "      <th>track_name</th>\n",
       "      <th>popularity</th>\n",
       "      <th>duration_ms</th>\n",
       "      <th>explicit</th>\n",
       "      <th>danceability</th>\n",
       "      <th>energy</th>\n",
       "      <th>...</th>\n",
       "      <th>loudness</th>\n",
       "      <th>mode</th>\n",
       "      <th>speechiness</th>\n",
       "      <th>acousticness</th>\n",
       "      <th>instrumentalness</th>\n",
       "      <th>liveness</th>\n",
       "      <th>valence</th>\n",
       "      <th>tempo</th>\n",
       "      <th>time_signature</th>\n",
       "      <th>track_genre</th>\n",
       "    </tr>\n",
       "  </thead>\n",
       "  <tbody>\n",
       "    <tr>\n",
       "      <th>0</th>\n",
       "      <td>0</td>\n",
       "      <td>5SuOikwiRyPMVoIQDJUgSV</td>\n",
       "      <td>Gen Hoshino</td>\n",
       "      <td>Comedy</td>\n",
       "      <td>Comedy</td>\n",
       "      <td>73</td>\n",
       "      <td>230666</td>\n",
       "      <td>False</td>\n",
       "      <td>0.676</td>\n",
       "      <td>0.4610</td>\n",
       "      <td>...</td>\n",
       "      <td>-6.746</td>\n",
       "      <td>0</td>\n",
       "      <td>0.1430</td>\n",
       "      <td>0.0322</td>\n",
       "      <td>0.000001</td>\n",
       "      <td>0.3580</td>\n",
       "      <td>0.715</td>\n",
       "      <td>87.917</td>\n",
       "      <td>4</td>\n",
       "      <td>acoustic</td>\n",
       "    </tr>\n",
       "    <tr>\n",
       "      <th>1</th>\n",
       "      <td>1</td>\n",
       "      <td>4qPNDBW1i3p13qLCt0Ki3A</td>\n",
       "      <td>Ben Woodward</td>\n",
       "      <td>Ghost (Acoustic)</td>\n",
       "      <td>Ghost - Acoustic</td>\n",
       "      <td>55</td>\n",
       "      <td>149610</td>\n",
       "      <td>False</td>\n",
       "      <td>0.420</td>\n",
       "      <td>0.1660</td>\n",
       "      <td>...</td>\n",
       "      <td>-17.235</td>\n",
       "      <td>1</td>\n",
       "      <td>0.0763</td>\n",
       "      <td>0.9240</td>\n",
       "      <td>0.000006</td>\n",
       "      <td>0.1010</td>\n",
       "      <td>0.267</td>\n",
       "      <td>77.489</td>\n",
       "      <td>4</td>\n",
       "      <td>acoustic</td>\n",
       "    </tr>\n",
       "    <tr>\n",
       "      <th>2</th>\n",
       "      <td>2</td>\n",
       "      <td>1iJBSr7s7jYXzM8EGcbK5b</td>\n",
       "      <td>Ingrid Michaelson;ZAYN</td>\n",
       "      <td>To Begin Again</td>\n",
       "      <td>To Begin Again</td>\n",
       "      <td>57</td>\n",
       "      <td>210826</td>\n",
       "      <td>False</td>\n",
       "      <td>0.438</td>\n",
       "      <td>0.3590</td>\n",
       "      <td>...</td>\n",
       "      <td>-9.734</td>\n",
       "      <td>1</td>\n",
       "      <td>0.0557</td>\n",
       "      <td>0.2100</td>\n",
       "      <td>0.000000</td>\n",
       "      <td>0.1170</td>\n",
       "      <td>0.120</td>\n",
       "      <td>76.332</td>\n",
       "      <td>4</td>\n",
       "      <td>acoustic</td>\n",
       "    </tr>\n",
       "    <tr>\n",
       "      <th>3</th>\n",
       "      <td>3</td>\n",
       "      <td>6lfxq3CG4xtTiEg7opyCyx</td>\n",
       "      <td>Kina Grannis</td>\n",
       "      <td>Crazy Rich Asians (Original Motion Picture Sou...</td>\n",
       "      <td>Can't Help Falling In Love</td>\n",
       "      <td>71</td>\n",
       "      <td>201933</td>\n",
       "      <td>False</td>\n",
       "      <td>0.266</td>\n",
       "      <td>0.0596</td>\n",
       "      <td>...</td>\n",
       "      <td>-18.515</td>\n",
       "      <td>1</td>\n",
       "      <td>0.0363</td>\n",
       "      <td>0.9050</td>\n",
       "      <td>0.000071</td>\n",
       "      <td>0.1320</td>\n",
       "      <td>0.143</td>\n",
       "      <td>181.740</td>\n",
       "      <td>3</td>\n",
       "      <td>acoustic</td>\n",
       "    </tr>\n",
       "    <tr>\n",
       "      <th>4</th>\n",
       "      <td>4</td>\n",
       "      <td>5vjLSffimiIP26QG5WcN2K</td>\n",
       "      <td>Chord Overstreet</td>\n",
       "      <td>Hold On</td>\n",
       "      <td>Hold On</td>\n",
       "      <td>82</td>\n",
       "      <td>198853</td>\n",
       "      <td>False</td>\n",
       "      <td>0.618</td>\n",
       "      <td>0.4430</td>\n",
       "      <td>...</td>\n",
       "      <td>-9.681</td>\n",
       "      <td>1</td>\n",
       "      <td>0.0526</td>\n",
       "      <td>0.4690</td>\n",
       "      <td>0.000000</td>\n",
       "      <td>0.0829</td>\n",
       "      <td>0.167</td>\n",
       "      <td>119.949</td>\n",
       "      <td>4</td>\n",
       "      <td>acoustic</td>\n",
       "    </tr>\n",
       "  </tbody>\n",
       "</table>\n",
       "<p>5 rows × 21 columns</p>\n",
       "</div>"
      ],
      "text/plain": [
       "   Unnamed: 0                track_id                 artists  \\\n",
       "0           0  5SuOikwiRyPMVoIQDJUgSV             Gen Hoshino   \n",
       "1           1  4qPNDBW1i3p13qLCt0Ki3A            Ben Woodward   \n",
       "2           2  1iJBSr7s7jYXzM8EGcbK5b  Ingrid Michaelson;ZAYN   \n",
       "3           3  6lfxq3CG4xtTiEg7opyCyx            Kina Grannis   \n",
       "4           4  5vjLSffimiIP26QG5WcN2K        Chord Overstreet   \n",
       "\n",
       "                                          album_name  \\\n",
       "0                                             Comedy   \n",
       "1                                   Ghost (Acoustic)   \n",
       "2                                     To Begin Again   \n",
       "3  Crazy Rich Asians (Original Motion Picture Sou...   \n",
       "4                                            Hold On   \n",
       "\n",
       "                   track_name  popularity  duration_ms  explicit  \\\n",
       "0                      Comedy          73       230666     False   \n",
       "1            Ghost - Acoustic          55       149610     False   \n",
       "2              To Begin Again          57       210826     False   \n",
       "3  Can't Help Falling In Love          71       201933     False   \n",
       "4                     Hold On          82       198853     False   \n",
       "\n",
       "   danceability  energy  ...  loudness  mode  speechiness  acousticness  \\\n",
       "0         0.676  0.4610  ...    -6.746     0       0.1430        0.0322   \n",
       "1         0.420  0.1660  ...   -17.235     1       0.0763        0.9240   \n",
       "2         0.438  0.3590  ...    -9.734     1       0.0557        0.2100   \n",
       "3         0.266  0.0596  ...   -18.515     1       0.0363        0.9050   \n",
       "4         0.618  0.4430  ...    -9.681     1       0.0526        0.4690   \n",
       "\n",
       "   instrumentalness  liveness  valence    tempo  time_signature  track_genre  \n",
       "0          0.000001    0.3580    0.715   87.917               4     acoustic  \n",
       "1          0.000006    0.1010    0.267   77.489               4     acoustic  \n",
       "2          0.000000    0.1170    0.120   76.332               4     acoustic  \n",
       "3          0.000071    0.1320    0.143  181.740               3     acoustic  \n",
       "4          0.000000    0.0829    0.167  119.949               4     acoustic  \n",
       "\n",
       "[5 rows x 21 columns]"
      ]
     },
     "execution_count": 3,
     "metadata": {},
     "output_type": "execute_result"
    }
   ],
   "source": [
    "# load dataset\n",
    "dataset = pd.read_csv('dataset/spotify_tracks.csv')\n",
    "dataset.head()"
   ]
  },
  {
   "attachments": {},
   "cell_type": "markdown",
   "metadata": {},
   "source": [
    "<span style=\"color:blue\">**NUMERICAL**</span> features of the dataset :\n",
    "\n",
    "- <span style=\"color:orange\">***popularity***</span>: The popularity of a track is a value between 0 and 100, with 100 being the most popular. The popularity is calculated by algorithm and is based, in the most part, on the total number of plays the track has had and how recent those plays are. Generally speaking, songs that are being played a lot now will have a higher popularity than songs that were played a lot in the past. Duplicate tracks (e.g. the same track from a single and an album) are rated independently. Artist and album popularity is derived mathematically from track popularity.\n",
    "\n",
    "- <span style=\"color:blue\">***duration_ms***</span>: The track length in milliseconds\n",
    "\n",
    "- <span style=\"color:blue\">***danceability***</span>: Danceability describes how suitable a track is for dancing based on a combination of musical elements including tempo, rhythm stability, beat strength, and overall regularity. A value of 0.0 is least danceable and 1.0 is most danceable\n",
    "\n",
    "- <span style=\"color:blue\">***energy***</span>: Energy is a measure from 0.0 to 1.0 and represents a perceptual measure of intensity and activity. Typically, energetic tracks feel fast, loud, and noisy. For example, death metal has high energy, while a Bach prelude scores low on the scale\n",
    "    \n",
    "- <span style=\"color:blue\">***loudness***</span>: The overall loudness of a track in decibels (dB)\n",
    "    \n",
    "- <span style=\"color:blue\">***speechiness***</span>: Speechiness detects the presence of spoken words in a track. The more exclusively speech-like the recording (e.g. talk show, audio book, poetry), the closer to 1.0 the attribute value. Values above 0.66 describe tracks that are probably made entirely of spoken words. Values between 0.33 and 0.66 describe tracks that may contain both music and speech, either in sections or layered, including such cases as rap music. Values below 0.33 most likely represent music and other non-speech-like tracks\n",
    "    \n",
    "- <span style=\"color:blue\">***acousticness***</span>: A confidence measure from 0.0 to 1.0 of whether the track is acoustic. 1.0 represents high confidence the track is acoustic\n",
    "    \n",
    "- <span style=\"color:blue\">***instrumentalness***</span>: Predicts whether a track contains no vocals. \"Ooh\" and \"aah\" sounds are treated as instrumental in this context. Rap or spoken word tracks are clearly \"vocal\". The closer the instrumentalness value is to 1.0, the greater likelihood the track contains no vocal content\n",
    "    \n",
    "- <span style=\"color:blue\">***liveness***</span>: Detects the presence of an audience in the recording. Higher liveness values represent an increased probability that the track was performed live. A value above 0.8 provides strong likelihood that the track is live\n",
    "    \n",
    "- <span style=\"color:blue\">***valence***</span>: A measure from 0.0 to 1.0 describing the musical positiveness conveyed by a track. Tracks with high valence sound more positive (e.g. happy, cheerful, euphoric), while tracks with low valence sound more negative (e.g. sad, depressed, angry)\n",
    "    \n",
    "- <span style=\"color:blue\">***tempo***</span>: The overall estimated tempo of a track in beats per minute (BPM). In musical terminology, tempo is the speed or pace of a given piece and derives directly from the average beat duration"
   ]
  },
  {
   "cell_type": "code",
   "execution_count": 4,
   "metadata": {},
   "outputs": [],
   "source": [
    "# drop columns that are not useful\n",
    "dataset.drop(columns=['Unnamed: 0', 'track_id'], inplace=True)"
   ]
  },
  {
   "cell_type": "code",
   "execution_count": 5,
   "metadata": {},
   "outputs": [],
   "source": [
    "#dataset.drop_duplicates(inplace=True)"
   ]
  },
  {
   "cell_type": "code",
   "execution_count": 6,
   "metadata": {},
   "outputs": [],
   "source": [
    "#dataset.head(100)"
   ]
  },
  {
   "cell_type": "code",
   "execution_count": 7,
   "metadata": {},
   "outputs": [],
   "source": [
    "# drop columns corresponding to categorical features\n",
    "dataset.drop(columns=['artists', 'album_name', 'track_name', 'explicit', \n",
    "                      'key', 'mode', 'time_signature', 'track_genre'], inplace=True)"
   ]
  },
  {
   "cell_type": "code",
   "execution_count": 8,
   "metadata": {},
   "outputs": [],
   "source": [
    "#dataset.isnull().sum()         # to check if there are missing values\n",
    "#dataset.dropna(inplace=True)   # to drop records with missing values"
   ]
  },
  {
   "cell_type": "code",
   "execution_count": 9,
   "metadata": {},
   "outputs": [],
   "source": [
    "#dataset.nunique(axis=0)    # to check the number of distinct values for each column"
   ]
  },
  {
   "cell_type": "code",
   "execution_count": 10,
   "metadata": {},
   "outputs": [],
   "source": [
    "X = dataset.drop(columns=['popularity'])    # features\n",
    "y = dataset['popularity']                   # target variable"
   ]
  },
  {
   "cell_type": "code",
   "execution_count": 11,
   "metadata": {},
   "outputs": [
    {
     "name": "stdout",
     "output_type": "stream",
     "text": [
      "(114000, 10)\n"
     ]
    },
    {
     "data": {
      "text/html": [
       "<div>\n",
       "<style scoped>\n",
       "    .dataframe tbody tr th:only-of-type {\n",
       "        vertical-align: middle;\n",
       "    }\n",
       "\n",
       "    .dataframe tbody tr th {\n",
       "        vertical-align: top;\n",
       "    }\n",
       "\n",
       "    .dataframe thead th {\n",
       "        text-align: right;\n",
       "    }\n",
       "</style>\n",
       "<table border=\"1\" class=\"dataframe\">\n",
       "  <thead>\n",
       "    <tr style=\"text-align: right;\">\n",
       "      <th></th>\n",
       "      <th>duration_ms</th>\n",
       "      <th>danceability</th>\n",
       "      <th>energy</th>\n",
       "      <th>loudness</th>\n",
       "      <th>speechiness</th>\n",
       "      <th>acousticness</th>\n",
       "      <th>instrumentalness</th>\n",
       "      <th>liveness</th>\n",
       "      <th>valence</th>\n",
       "      <th>tempo</th>\n",
       "    </tr>\n",
       "  </thead>\n",
       "  <tbody>\n",
       "    <tr>\n",
       "      <th>count</th>\n",
       "      <td>1.140000e+05</td>\n",
       "      <td>114000.000000</td>\n",
       "      <td>114000.000000</td>\n",
       "      <td>114000.000000</td>\n",
       "      <td>114000.000000</td>\n",
       "      <td>114000.000000</td>\n",
       "      <td>114000.000000</td>\n",
       "      <td>114000.000000</td>\n",
       "      <td>114000.000000</td>\n",
       "      <td>114000.000000</td>\n",
       "    </tr>\n",
       "    <tr>\n",
       "      <th>mean</th>\n",
       "      <td>2.280292e+05</td>\n",
       "      <td>0.566800</td>\n",
       "      <td>0.641383</td>\n",
       "      <td>-8.258960</td>\n",
       "      <td>0.084652</td>\n",
       "      <td>0.314910</td>\n",
       "      <td>0.156050</td>\n",
       "      <td>0.213553</td>\n",
       "      <td>0.474068</td>\n",
       "      <td>122.147837</td>\n",
       "    </tr>\n",
       "    <tr>\n",
       "      <th>std</th>\n",
       "      <td>1.072977e+05</td>\n",
       "      <td>0.173542</td>\n",
       "      <td>0.251529</td>\n",
       "      <td>5.029337</td>\n",
       "      <td>0.105732</td>\n",
       "      <td>0.332523</td>\n",
       "      <td>0.309555</td>\n",
       "      <td>0.190378</td>\n",
       "      <td>0.259261</td>\n",
       "      <td>29.978197</td>\n",
       "    </tr>\n",
       "    <tr>\n",
       "      <th>min</th>\n",
       "      <td>0.000000e+00</td>\n",
       "      <td>0.000000</td>\n",
       "      <td>0.000000</td>\n",
       "      <td>-49.531000</td>\n",
       "      <td>0.000000</td>\n",
       "      <td>0.000000</td>\n",
       "      <td>0.000000</td>\n",
       "      <td>0.000000</td>\n",
       "      <td>0.000000</td>\n",
       "      <td>0.000000</td>\n",
       "    </tr>\n",
       "    <tr>\n",
       "      <th>25%</th>\n",
       "      <td>1.740660e+05</td>\n",
       "      <td>0.456000</td>\n",
       "      <td>0.472000</td>\n",
       "      <td>-10.013000</td>\n",
       "      <td>0.035900</td>\n",
       "      <td>0.016900</td>\n",
       "      <td>0.000000</td>\n",
       "      <td>0.098000</td>\n",
       "      <td>0.260000</td>\n",
       "      <td>99.218750</td>\n",
       "    </tr>\n",
       "    <tr>\n",
       "      <th>50%</th>\n",
       "      <td>2.129060e+05</td>\n",
       "      <td>0.580000</td>\n",
       "      <td>0.685000</td>\n",
       "      <td>-7.004000</td>\n",
       "      <td>0.048900</td>\n",
       "      <td>0.169000</td>\n",
       "      <td>0.000042</td>\n",
       "      <td>0.132000</td>\n",
       "      <td>0.464000</td>\n",
       "      <td>122.017000</td>\n",
       "    </tr>\n",
       "    <tr>\n",
       "      <th>75%</th>\n",
       "      <td>2.615060e+05</td>\n",
       "      <td>0.695000</td>\n",
       "      <td>0.854000</td>\n",
       "      <td>-5.003000</td>\n",
       "      <td>0.084500</td>\n",
       "      <td>0.598000</td>\n",
       "      <td>0.049000</td>\n",
       "      <td>0.273000</td>\n",
       "      <td>0.683000</td>\n",
       "      <td>140.071000</td>\n",
       "    </tr>\n",
       "    <tr>\n",
       "      <th>max</th>\n",
       "      <td>5.237295e+06</td>\n",
       "      <td>0.985000</td>\n",
       "      <td>1.000000</td>\n",
       "      <td>4.532000</td>\n",
       "      <td>0.965000</td>\n",
       "      <td>0.996000</td>\n",
       "      <td>1.000000</td>\n",
       "      <td>1.000000</td>\n",
       "      <td>0.995000</td>\n",
       "      <td>243.372000</td>\n",
       "    </tr>\n",
       "  </tbody>\n",
       "</table>\n",
       "</div>"
      ],
      "text/plain": [
       "        duration_ms   danceability         energy       loudness  \\\n",
       "count  1.140000e+05  114000.000000  114000.000000  114000.000000   \n",
       "mean   2.280292e+05       0.566800       0.641383      -8.258960   \n",
       "std    1.072977e+05       0.173542       0.251529       5.029337   \n",
       "min    0.000000e+00       0.000000       0.000000     -49.531000   \n",
       "25%    1.740660e+05       0.456000       0.472000     -10.013000   \n",
       "50%    2.129060e+05       0.580000       0.685000      -7.004000   \n",
       "75%    2.615060e+05       0.695000       0.854000      -5.003000   \n",
       "max    5.237295e+06       0.985000       1.000000       4.532000   \n",
       "\n",
       "         speechiness   acousticness  instrumentalness       liveness  \\\n",
       "count  114000.000000  114000.000000     114000.000000  114000.000000   \n",
       "mean        0.084652       0.314910          0.156050       0.213553   \n",
       "std         0.105732       0.332523          0.309555       0.190378   \n",
       "min         0.000000       0.000000          0.000000       0.000000   \n",
       "25%         0.035900       0.016900          0.000000       0.098000   \n",
       "50%         0.048900       0.169000          0.000042       0.132000   \n",
       "75%         0.084500       0.598000          0.049000       0.273000   \n",
       "max         0.965000       0.996000          1.000000       1.000000   \n",
       "\n",
       "             valence          tempo  \n",
       "count  114000.000000  114000.000000  \n",
       "mean        0.474068     122.147837  \n",
       "std         0.259261      29.978197  \n",
       "min         0.000000       0.000000  \n",
       "25%         0.260000      99.218750  \n",
       "50%         0.464000     122.017000  \n",
       "75%         0.683000     140.071000  \n",
       "max         0.995000     243.372000  "
      ]
     },
     "execution_count": 11,
     "metadata": {},
     "output_type": "execute_result"
    }
   ],
   "source": [
    "print(X.shape) \n",
    "X.describe()"
   ]
  },
  {
   "cell_type": "code",
   "execution_count": 12,
   "metadata": {},
   "outputs": [
    {
     "name": "stdout",
     "output_type": "stream",
     "text": [
      "(114000,)\n",
      "popularity\n",
      "99         1\n",
      "100        2\n",
      "95         5\n",
      "98         7\n",
      "94         7\n",
      "       ...  \n",
      "1       2140\n",
      "44      2288\n",
      "21      2344\n",
      "22      2354\n",
      "0      16020\n",
      "Name: count, Length: 101, dtype: int64\n"
     ]
    },
    {
     "data": {
      "text/plain": [
       "<Axes: >"
      ]
     },
     "execution_count": 12,
     "metadata": {},
     "output_type": "execute_result"
    },
    {
     "data": {
      "image/png": "[encoded data removed]",
      "text/plain": [
       "<Figure size 720x360 with 1 Axes>"
      ]
     },
     "metadata": {
      "needs_background": "light"
     },
     "output_type": "display_data"
    }
   ],
   "source": [
    "print(y.shape)\n",
    "print(y.value_counts().sort_values())\n",
    "y.hist(bins=101, figsize=(10,5))"
   ]
  },
  {
   "cell_type": "code",
   "execution_count": 13,
   "metadata": {},
   "outputs": [],
   "source": [
    "X['popularity_subsamples'] = y.map(lambda x: x if x % 2 == 0 else x+1)\n",
    "\n",
    "X_train, X_test, y_train, y_test = train_test_split(X, y, test_size=0.2, random_state=42, stratify=X['popularity_subsamples'])\n",
    "\n",
    "X_train.drop(columns='popularity_subsamples', inplace=True)\n",
    "X_test.drop(columns='popularity_subsamples', inplace=True)"
   ]
  },
  {
   "attachments": {},
   "cell_type": "markdown",
   "metadata": {},
   "source": [
    "### Features selection"
   ]
  },
  {
   "cell_type": "code",
   "execution_count": 14,
   "metadata": {},
   "outputs": [
    {
     "data": {
      "image/png": "[encoded data removed]",
      "text/plain": [
       "<Figure size 720x576 with 2 Axes>"
      ]
     },
     "metadata": {
      "needs_background": "light"
     },
     "output_type": "display_data"
    }
   ],
   "source": [
    "all_data = X_train.copy()\n",
    "all_data['target'] = y_train\n",
    "plt.figure(figsize=(10,8))\n",
    "sns.heatmap(all_data.corr(), annot=True, cmap=plt.cm.CMRmap_r)\n",
    "plt.show()"
   ]
  },
  {
   "cell_type": "code",
   "execution_count": 15,
   "metadata": {},
   "outputs": [
    {
     "data": {
      "image/png": "[encoded data removed]",
      "text/plain": [
       "<Figure size 1224x360 with 1 Axes>"
      ]
     },
     "metadata": {
      "needs_background": "light"
     },
     "output_type": "display_data"
    }
   ],
   "source": [
    "fs = SelectKBest(score_func=f_regression, k='all')\n",
    "fs.fit(X_train, y_train)\n",
    "\n",
    "plt.figure(figsize=(17,5))\n",
    "plt.bar([X_train.columns[i] for i in range(len(fs.scores_))], fs.scores_)\n",
    "plt.show()"
   ]
  },
  {
   "cell_type": "code",
   "execution_count": 16,
   "metadata": {},
   "outputs": [],
   "source": [
    "worst_features = ['duration_ms', 'energy', 'liveness', 'tempo']\n",
    "X_train.drop(columns=worst_features, inplace=True)\n",
    "X_test.drop(columns=worst_features, inplace=True)"
   ]
  },
  {
   "attachments": {},
   "cell_type": "markdown",
   "metadata": {},
   "source": [
    "### Features normalization"
   ]
  },
  {
   "cell_type": "code",
   "execution_count": 17,
   "metadata": {},
   "outputs": [],
   "source": [
    "standard_scaler = preprocessing.StandardScaler().set_output(transform=\"pandas\")\n",
    "\n",
    "X_train = standard_scaler.fit_transform(X_train)\n",
    "X_test = standard_scaler.transform(X_test)"
   ]
  },
  {
   "attachments": {},
   "cell_type": "markdown",
   "metadata": {},
   "source": [
    "## *Ridge Regression* on *Spotify Tracks Dataset* "
   ]
  },
  {
   "cell_type": "code",
   "execution_count": 18,
   "metadata": {},
   "outputs": [],
   "source": [
    "from ridge_regression import RR"
   ]
  },
  {
   "cell_type": "markdown",
   "metadata": {},
   "source": [
    "### Hyperparameters tuning"
   ]
  },
  {
   "cell_type": "code",
   "execution_count": 19,
   "metadata": {},
   "outputs": [
    {
     "name": "stdout",
     "output_type": "stream",
     "text": [
      "Fitting 5 folds for each of 20 candidates, totalling 100 fits\n",
      "[CV 1/5] END ..........................λ=0.0;, score=-488.927 total time=   0.0s\n",
      "[CV 4/5] END ............λ=7.894736842105263;, score=-487.770 total time=   0.0s\n",
      "[CV 2/5] END ..........................λ=0.0;, score=-486.332 total time=   0.0s\n",
      "[CV 5/5] END ............λ=7.894736842105263;, score=-480.141 total time=   0.0s\n",
      "[CV 3/5] END ..........................λ=0.0;, score=-489.407 total time=   0.0s\n",
      "[CV 1/5] END ...........λ=15.789473684210526;, score=-488.927 total time=   0.0s\n",
      "[CV 2/5] END ...........λ=15.789473684210526;, score=-486.332 total time=   0.0s\n",
      "[CV 4/5] END ..........................λ=0.0;, score=-487.771 total time=   0.0s\n",
      "[CV 3/5] END ...........λ=15.789473684210526;, score=-489.407 total time=   0.0s\n",
      "[CV 2/5] END ............λ=7.894736842105263;, score=-486.332 total time=   0.0s\n",
      "[CV 4/5] END ...........λ=15.789473684210526;, score=-487.770 total time=   0.0s\n",
      "[CV 5/5] END ...........λ=15.789473684210526;, score=-480.141 total time=   0.0s\n",
      "[CV 1/5] END ...........λ=23.684210526315788;, score=-488.927 total time=   0.0s\n",
      "[CV 1/5] END ............λ=7.894736842105263;, score=-488.927 total time=   0.0s\n",
      "[CV 2/5] END ...........λ=23.684210526315788;, score=-486.332 total time=   0.0s\n",
      "[CV 3/5] END ...........λ=23.684210526315788;, score=-489.407 total time=   0.0s\n",
      "[CV 4/5] END ...........λ=23.684210526315788;, score=-487.769 total time=   0.0s\n",
      "[CV 5/5] END ..........................λ=0.0;, score=-480.141 total time=   0.0s\n",
      "[CV 3/5] END ............λ=7.894736842105263;, score=-489.407 total time=   0.0s\n",
      "[CV 1/5] END ............λ=31.57894736842105;, score=-488.927 total time=   0.0s\n",
      "[CV 5/5] END ...........λ=23.684210526315788;, score=-480.141 total time=   0.0s\n",
      "[CV 2/5] END ............λ=31.57894736842105;, score=-486.333 total time=   0.0s\n",
      "[CV 3/5] END ............λ=31.57894736842105;, score=-489.407 total time=   0.0s\n",
      "[CV 4/5] END ............λ=31.57894736842105;, score=-487.769 total time=   0.0s\n",
      "[CV 5/5] END ............λ=31.57894736842105;, score=-480.141 total time=   0.0s\n",
      "[CV 1/5] END ...........λ=39.473684210526315;, score=-488.927 total time=   0.0s\n",
      "[CV 2/5] END ...........λ=39.473684210526315;, score=-486.333 total time=   0.0s\n",
      "[CV 3/5] END ...........λ=39.473684210526315;, score=-489.408 total time=   0.0s\n",
      "[CV 4/5] END ...........λ=39.473684210526315;, score=-487.769 total time=   0.0s\n",
      "[CV 5/5] END ...........λ=39.473684210526315;, score=-480.141 total time=   0.0s\n",
      "[CV 2/5] END ...........λ=47.368421052631575;, score=-486.333 total time=   0.0s\n",
      "[CV 1/5] END ...........λ=47.368421052631575;, score=-488.927 total time=   0.0s\n",
      "[CV 3/5] END ...........λ=47.368421052631575;, score=-489.408 total time=   0.0s\n",
      "[CV 4/5] END ...........λ=47.368421052631575;, score=-487.768 total time=   0.0s\n",
      "[CV 5/5] END ...........λ=47.368421052631575;, score=-480.141 total time=   0.0s\n",
      "[CV 1/5] END ............λ=55.26315789473684;, score=-488.927 total time=   0.0s\n",
      "[CV 3/5] END ............λ=55.26315789473684;, score=-489.408 total time=   0.0s\n",
      "[CV 2/5] END ............λ=55.26315789473684;, score=-486.333 total time=   0.0s\n",
      "[CV 4/5] END ............λ=55.26315789473684;, score=-487.768 total time=   0.0s\n",
      "[CV 5/5] END ............λ=55.26315789473684;, score=-480.141 total time=   0.0s\n",
      "[CV 1/5] END .............λ=63.1578947368421;, score=-488.927 total time=   0.0s\n",
      "[CV 2/5] END .............λ=63.1578947368421;, score=-486.333 total time=   0.0s\n",
      "[CV 3/5] END .............λ=63.1578947368421;, score=-489.408 total time=   0.0s\n",
      "[CV 4/5] END .............λ=63.1578947368421;, score=-487.767 total time=   0.0s\n",
      "[CV 5/5] END .............λ=63.1578947368421;, score=-480.141 total time=   0.0s\n",
      "[CV 1/5] END ............λ=71.05263157894737;, score=-488.927 total time=   0.0s\n",
      "[CV 2/5] END ............λ=71.05263157894737;, score=-486.333 total time=   0.0s\n",
      "[CV 4/5] END ............λ=71.05263157894737;, score=-487.767 total time=   0.0s\n",
      "[CV 3/5] END ............λ=71.05263157894737;, score=-489.408 total time=   0.0s\n",
      "[CV 5/5] END ............λ=71.05263157894737;, score=-480.141 total time=   0.0s\n",
      "[CV 1/5] END ............λ=78.94736842105263;, score=-488.927 total time=   0.0s\n",
      "[CV 2/5] END ............λ=78.94736842105263;, score=-486.334 total time=   0.0s\n",
      "[CV 3/5] END ............λ=78.94736842105263;, score=-489.408 total time=   0.0s\n",
      "[CV 4/5] END ............λ=78.94736842105263;, score=-487.767 total time=   0.0s\n",
      "[CV 5/5] END ............λ=78.94736842105263;, score=-480.141 total time=   0.0s\n",
      "[CV 1/5] END ............λ=86.84210526315789;, score=-488.927 total time=   0.0s\n",
      "[CV 2/5] END ............λ=86.84210526315789;, score=-486.334 total time=   0.0s\n",
      "[CV 3/5] END ............λ=86.84210526315789;, score=-489.409 total time=   0.0s\n",
      "[CV 4/5] END ............λ=86.84210526315789;, score=-487.766 total time=   0.0s\n",
      "[CV 5/5] END ............λ=86.84210526315789;, score=-480.141 total time=   0.0s\n",
      "[CV 1/5] END ............λ=94.73684210526315;, score=-488.927 total time=   0.0s\n",
      "[CV 2/5] END ............λ=94.73684210526315;, score=-486.334 total time=   0.0s\n",
      "[CV 3/5] END ............λ=94.73684210526315;, score=-489.409 total time=   0.0s\n",
      "[CV 4/5] END ............λ=94.73684210526315;, score=-487.766 total time=   0.0s\n",
      "[CV 5/5] END ............λ=94.73684210526315;, score=-480.141 total time=   0.0s\n",
      "[CV 1/5] END ...........λ=102.63157894736841;, score=-488.927 total time=   0.0s\n",
      "[CV 2/5] END ...........λ=102.63157894736841;, score=-486.334 total time=   0.0s\n",
      "[CV 3/5] END ...........λ=102.63157894736841;, score=-489.409 total time=   0.0s\n",
      "[CV 4/5] END ...........λ=102.63157894736841;, score=-487.765 total time=   0.0s\n",
      "[CV 5/5] END ...........λ=102.63157894736841;, score=-480.141 total time=   0.0s\n",
      "[CV 1/5] END ...........λ=110.52631578947368;, score=-488.927 total time=   0.0s\n",
      "[CV 2/5] END ...........λ=110.52631578947368;, score=-486.334 total time=   0.0s\n",
      "[CV 3/5] END ...........λ=110.52631578947368;, score=-489.409 total time=   0.0s\n",
      "[CV 4/5] END ...........λ=110.52631578947368;, score=-487.765 total time=   0.0s\n",
      "[CV 5/5] END ...........λ=110.52631578947368;, score=-480.141 total time=   0.0s\n",
      "[CV 1/5] END ...........λ=118.42105263157895;, score=-488.927 total time=   0.0s\n",
      "[CV 2/5] END ...........λ=118.42105263157895;, score=-486.334 total time=   0.0s\n",
      "[CV 4/5] END ...........λ=118.42105263157895;, score=-487.765 total time=   0.0s\n",
      "[CV 3/5] END ...........λ=118.42105263157895;, score=-489.409 total time=   0.0s\n",
      "[CV 5/5] END ...........λ=118.42105263157895;, score=-480.142 total time=   0.0s\n",
      "[CV 1/5] END ............λ=126.3157894736842;, score=-488.927 total time=   0.0s\n",
      "[CV 2/5] END ............λ=126.3157894736842;, score=-486.335 total time=   0.0s\n",
      "[CV 3/5] END ............λ=126.3157894736842;, score=-489.409 total time=   0.0s\n",
      "[CV 4/5] END ............λ=126.3157894736842;, score=-487.764 total time=   0.0s\n",
      "[CV 5/5] END ............λ=126.3157894736842;, score=-480.142 total time=   0.0s\n",
      "[CV 1/5] END ...........λ=134.21052631578948;, score=-488.927 total time=   0.0s\n",
      "[CV 2/5] END ...........λ=134.21052631578948;, score=-486.335 total time=   0.0s\n",
      "[CV 3/5] END ...........λ=134.21052631578948;, score=-489.409 total time=   0.0s\n",
      "[CV 4/5] END ...........λ=134.21052631578948;, score=-487.764 total time=   0.0s\n",
      "[CV 5/5] END ...........λ=134.21052631578948;, score=-480.142 total time=   0.0s\n",
      "[CV 1/5] END ...........λ=142.10526315789474;, score=-488.927 total time=   0.0s\n",
      "[CV 2/5] END ...........λ=142.10526315789474;, score=-486.335 total time=   0.0s\n",
      "[CV 3/5] END ...........λ=142.10526315789474;, score=-489.410 total time=   0.0s\n",
      "[CV 4/5] END ...........λ=142.10526315789474;, score=-487.764 total time=   0.0s\n",
      "[CV 5/5] END ...........λ=142.10526315789474;, score=-480.142 total time=   0.0s\n",
      "[CV 1/5] END ........................λ=150.0;, score=-488.927 total time=   0.0s\n",
      "[CV 2/5] END ........................λ=150.0;, score=-486.335 total time=   0.0s\n",
      "[CV 3/5] END ........................λ=150.0;, score=-489.410 total time=   0.0s\n",
      "[CV 4/5] END ........................λ=150.0;, score=-487.763 total time=   0.0s\n",
      "[CV 5/5] END ........................λ=150.0;, score=-480.142 total time=   0.0s\n"
     ]
    },
    {
     "data": {
      "text/html": [
       "<style>#sk-container-id-1 {color: black;}#sk-container-id-1 pre{padding: 0;}#sk-container-id-1 div.sk-toggleable {background-color: white;}#sk-container-id-1 label.sk-toggleable__label {cursor: pointer;display: block;width: 100%;margin-bottom: 0;padding: 0.3em;box-sizing: border-box;text-align: center;}#sk-container-id-1 label.sk-toggleable__label-arrow:before {content: \"▸\";float: left;margin-right: 0.25em;color: #696969;}#sk-container-id-1 label.sk-toggleable__label-arrow:hover:before {color: black;}#sk-container-id-1 div.sk-estimator:hover label.sk-toggleable__label-arrow:before {color: black;}#sk-container-id-1 div.sk-toggleable__content {max-height: 0;max-width: 0;overflow: hidden;text-align: left;background-color: #f0f8ff;}#sk-container-id-1 div.sk-toggleable__content pre {margin: 0.2em;color: black;border-radius: 0.25em;background-color: #f0f8ff;}#sk-container-id-1 input.sk-toggleable__control:checked~div.sk-toggleable__content {max-height: 200px;max-width: 100%;overflow: auto;}#sk-container-id-1 input.sk-toggleable__control:checked~label.sk-toggleable__label-arrow:before {content: \"▾\";}#sk-container-id-1 div.sk-estimator input.sk-toggleable__control:checked~label.sk-toggleable__label {background-color: #d4ebff;}#sk-container-id-1 div.sk-label input.sk-toggleable__control:checked~label.sk-toggleable__label {background-color: #d4ebff;}#sk-container-id-1 input.sk-hidden--visually {border: 0;clip: rect(1px 1px 1px 1px);clip: rect(1px, 1px, 1px, 1px);height: 1px;margin: -1px;overflow: hidden;padding: 0;position: absolute;width: 1px;}#sk-container-id-1 div.sk-estimator {font-family: monospace;background-color: #f0f8ff;border: 1px dotted black;border-radius: 0.25em;box-sizing: border-box;margin-bottom: 0.5em;}#sk-container-id-1 div.sk-estimator:hover {background-color: #d4ebff;}#sk-container-id-1 div.sk-parallel-item::after {content: \"\";width: 100%;border-bottom: 1px solid gray;flex-grow: 1;}#sk-container-id-1 div.sk-label:hover label.sk-toggleable__label {background-color: #d4ebff;}#sk-container-id-1 div.sk-serial::before {content: \"\";position: absolute;border-left: 1px solid gray;box-sizing: border-box;top: 0;bottom: 0;left: 50%;z-index: 0;}#sk-container-id-1 div.sk-serial {display: flex;flex-direction: column;align-items: center;background-color: white;padding-right: 0.2em;padding-left: 0.2em;position: relative;}#sk-container-id-1 div.sk-item {position: relative;z-index: 1;}#sk-container-id-1 div.sk-parallel {display: flex;align-items: stretch;justify-content: center;background-color: white;position: relative;}#sk-container-id-1 div.sk-item::before, #sk-container-id-1 div.sk-parallel-item::before {content: \"\";position: absolute;border-left: 1px solid gray;box-sizing: border-box;top: 0;bottom: 0;left: 50%;z-index: -1;}#sk-container-id-1 div.sk-parallel-item {display: flex;flex-direction: column;z-index: 1;position: relative;background-color: white;}#sk-container-id-1 div.sk-parallel-item:first-child::after {align-self: flex-end;width: 50%;}#sk-container-id-1 div.sk-parallel-item:last-child::after {align-self: flex-start;width: 50%;}#sk-container-id-1 div.sk-parallel-item:only-child::after {width: 0;}#sk-container-id-1 div.sk-dashed-wrapped {border: 1px dashed gray;margin: 0 0.4em 0.5em 0.4em;box-sizing: border-box;padding-bottom: 0.4em;background-color: white;}#sk-container-id-1 div.sk-label label {font-family: monospace;font-weight: bold;display: inline-block;line-height: 1.2em;}#sk-container-id-1 div.sk-label-container {text-align: center;}#sk-container-id-1 div.sk-container {/* jupyter's `normalize.less` sets `[hidden] { display: none; }` but bootstrap.min.css set `[hidden] { display: none !important; }` so we also need the `!important` here to be able to override the default hidden behavior on the sphinx rendered scikit-learn.org. See: https://github.com/scikit-learn/scikit-learn/issues/21755 */display: inline-block !important;position: relative;}#sk-container-id-1 div.sk-text-repr-fallback {display: none;}</style><div id=\"sk-container-id-1\" class=\"sk-top-container\"><div class=\"sk-text-repr-fallback\"><pre>GridSearchCV(cv=5, estimator=RR(), n_jobs=-1,\n",
       "             param_grid={&#x27;λ&#x27;: array([  0.        ,   7.89473684,  15.78947368,  23.68421053,\n",
       "        31.57894737,  39.47368421,  47.36842105,  55.26315789,\n",
       "        63.15789474,  71.05263158,  78.94736842,  86.84210526,\n",
       "        94.73684211, 102.63157895, 110.52631579, 118.42105263,\n",
       "       126.31578947, 134.21052632, 142.10526316, 150.        ])},\n",
       "             scoring=&#x27;neg_mean_squared_error&#x27;, verbose=3)</pre><b>In a Jupyter environment, please rerun this cell to show the HTML representation or trust the notebook. <br />On GitHub, the HTML representation is unable to render, please try loading this page with nbviewer.org.</b></div><div class=\"sk-container\" hidden><div class=\"sk-item sk-dashed-wrapped\"><div class=\"sk-label-container\"><div class=\"sk-label sk-toggleable\"><input class=\"sk-toggleable__control sk-hidden--visually\" id=\"sk-estimator-id-1\" type=\"checkbox\" ><label for=\"sk-estimator-id-1\" class=\"sk-toggleable__label sk-toggleable__label-arrow\">GridSearchCV</label><div class=\"sk-toggleable__content\"><pre>GridSearchCV(cv=5, estimator=RR(), n_jobs=-1,\n",
       "             param_grid={&#x27;λ&#x27;: array([  0.        ,   7.89473684,  15.78947368,  23.68421053,\n",
       "        31.57894737,  39.47368421,  47.36842105,  55.26315789,\n",
       "        63.15789474,  71.05263158,  78.94736842,  86.84210526,\n",
       "        94.73684211, 102.63157895, 110.52631579, 118.42105263,\n",
       "       126.31578947, 134.21052632, 142.10526316, 150.        ])},\n",
       "             scoring=&#x27;neg_mean_squared_error&#x27;, verbose=3)</pre></div></div></div><div class=\"sk-parallel\"><div class=\"sk-parallel-item\"><div class=\"sk-item\"><div class=\"sk-label-container\"><div class=\"sk-label sk-toggleable\"><input class=\"sk-toggleable__control sk-hidden--visually\" id=\"sk-estimator-id-2\" type=\"checkbox\" ><label for=\"sk-estimator-id-2\" class=\"sk-toggleable__label sk-toggleable__label-arrow\">estimator: RR</label><div class=\"sk-toggleable__content\"><pre>RR()</pre></div></div></div><div class=\"sk-serial\"><div class=\"sk-item\"><div class=\"sk-estimator sk-toggleable\"><input class=\"sk-toggleable__control sk-hidden--visually\" id=\"sk-estimator-id-3\" type=\"checkbox\" ><label for=\"sk-estimator-id-3\" class=\"sk-toggleable__label sk-toggleable__label-arrow\">RR</label><div class=\"sk-toggleable__content\"><pre>RR()</pre></div></div></div></div></div></div></div></div></div></div>"
      ],
      "text/plain": [
       "GridSearchCV(cv=5, estimator=RR(), n_jobs=-1,\n",
       "             param_grid={'λ': array([  0.        ,   7.89473684,  15.78947368,  23.68421053,\n",
       "        31.57894737,  39.47368421,  47.36842105,  55.26315789,\n",
       "        63.15789474,  71.05263158,  78.94736842,  86.84210526,\n",
       "        94.73684211, 102.63157895, 110.52631579, 118.42105263,\n",
       "       126.31578947, 134.21052632, 142.10526316, 150.        ])},\n",
       "             scoring='neg_mean_squared_error', verbose=3)"
      ]
     },
     "execution_count": 19,
     "metadata": {},
     "output_type": "execute_result"
    }
   ],
   "source": [
    "λ_grid = np.linspace(0, 150, num=20)\n",
    "\n",
    "learner = GridSearchCV(estimator=RR(), n_jobs=-1, param_grid={'λ': λ_grid}, scoring='neg_mean_squared_error', cv=5, verbose=3)\n",
    "learner.fit(X_train, y_train)"
   ]
  },
  {
   "cell_type": "code",
   "execution_count": 20,
   "metadata": {},
   "outputs": [
    {
     "name": "stdout",
     "output_type": "stream",
     "text": [
      "Best hyperparams : λ = 71.05263157894737\n"
     ]
    }
   ],
   "source": [
    "print(f'Best hyperparams : λ = {learner.best_params_[\"λ\"]}')"
   ]
  },
  {
   "cell_type": "code",
   "execution_count": 21,
   "metadata": {},
   "outputs": [
    {
     "data": {
      "image/png": "[encoded data removed]",
      "text/plain": [
       "<Figure size 432x288 with 1 Axes>"
      ]
     },
     "metadata": {
      "needs_background": "light"
     },
     "output_type": "display_data"
    }
   ],
   "source": [
    "fig, ax = plt.subplots()\n",
    "ax.plot(learner.cv_results_['param_λ'].data, \n",
    "        learner.cv_results_['mean_test_score'])\n",
    "ax.plot(learner.best_params_['λ'], learner.best_score_, 'ro') \n",
    "ax.set(xlabel='λ', ylabel='neg_mean_squared_error', title='MSE score varying λ parameter')\n",
    "ax.grid()\n",
    "plt.show()"
   ]
  },
  {
   "cell_type": "code",
   "execution_count": 22,
   "metadata": {},
   "outputs": [
    {
     "name": "stdout",
     "output_type": "stream",
     "text": [
      "   MSE : 487.34679791196885\n",
      "   MAE : 18.445929838507816\n",
      "    R2 : 0.020614763344325104\n"
     ]
    }
   ],
   "source": [
    "rr = learner.best_estimator_\n",
    "rr.fit(X_train, y_train)\n",
    "y_prediction = rr.predict(X_test)\n",
    "\n",
    "print('   MSE :', mean_squared_error(y_test, y_prediction))\n",
    "print('   MAE :', mean_absolute_error(y_test, y_prediction))\n",
    "print('    R2 :', r2_score(y_test, y_prediction))"
   ]
  },
  {
   "cell_type": "code",
   "execution_count": 23,
   "metadata": {},
   "outputs": [
    {
     "data": {
      "image/png": "[encoded data removed]",
      "text/plain": [
       "<Figure size 432x288 with 1 Axes>"
      ]
     },
     "metadata": {
      "needs_background": "light"
     },
     "output_type": "display_data"
    }
   ],
   "source": [
    "fig, ax = plt.subplots()\n",
    "ax.hist(y_test - y_prediction, density=True, bins=100)\n",
    "plt.show()"
   ]
  },
  {
   "attachments": {},
   "cell_type": "markdown",
   "metadata": {},
   "source": [
    "Checking that my implementation performs exactly as the one in *sklearn*"
   ]
  },
  {
   "cell_type": "code",
   "execution_count": 24,
   "metadata": {},
   "outputs": [
    {
     "name": "stdout",
     "output_type": "stream",
     "text": [
      "   MSE : 487.34679791196885\n",
      "   MAE : 18.445929838507823\n",
      "    R2 : 0.020614763344325104\n"
     ]
    }
   ],
   "source": [
    "from sklearn.linear_model import Ridge\n",
    "\n",
    "debug = True\n",
    "\n",
    "if debug:\n",
    "\n",
    "    rr = Ridge(alpha=learner.best_params_['λ'])\n",
    "    rr.fit(X_train, y_train)\n",
    "    y_prediction = rr.predict(X_test)\n",
    "\n",
    "    print('   MSE :', mean_squared_error(y_test, y_prediction))\n",
    "    print('   MAE :', mean_absolute_error(y_test, y_prediction))\n",
    "    print('    R2 :', r2_score(y_test, y_prediction))"
   ]
  },
  {
   "attachments": {},
   "cell_type": "markdown",
   "metadata": {},
   "source": [
    "## *Kernel Ridge Regression* on *Spotify Tracks Dataset*"
   ]
  },
  {
   "cell_type": "code",
   "execution_count": 25,
   "metadata": {},
   "outputs": [],
   "source": [
    "from kernel_ridge_regression import KRR"
   ]
  },
  {
   "attachments": {},
   "cell_type": "markdown",
   "metadata": {},
   "source": [
    "We run KRR just on samples of the dataset because, otherwise, it would get too computationally expensive "
   ]
  },
  {
   "cell_type": "code",
   "execution_count": 26,
   "metadata": {},
   "outputs": [],
   "source": [
    "train_sample_size = 5000\n",
    "test_sample_size = 1000\n",
    "\n",
    "X_train_sample = X_train.sample(n=train_sample_size, random_state=1)\n",
    "y_train_sample = pd.Series(data = [y_train[i] for i in X_train_sample.index], index = X_train_sample.index)\n",
    "\n",
    "X_test_sample = X_test.sample(n=test_sample_size, random_state=1)\n",
    "y_test_sample = pd.Series(data = [y_test[i] for i in X_test_sample.index], index = X_test_sample.index)"
   ]
  },
  {
   "attachments": {},
   "cell_type": "markdown",
   "metadata": {},
   "source": [
    "### Hyperparameters tuning"
   ]
  },
  {
   "cell_type": "code",
   "execution_count": 27,
   "metadata": {},
   "outputs": [
    {
     "name": "stdout",
     "output_type": "stream",
     "text": [
      "Fitting 5 folds for each of 25 candidates, totalling 125 fits\n",
      "[CV 1/5] END ..................γ=0.1, λ=0.01;, score=-906.671 total time=   8.7s\n",
      "[CV 2/5] END ..................γ=0.1, λ=0.01;, score=-888.155 total time=   8.7s\n",
      "[CV 3/5] END ..................γ=0.1, λ=0.01;, score=-948.230 total time=   8.9s\n",
      "[CV 4/5] END ..................γ=0.1, λ=0.01;, score=-901.641 total time=   8.9s\n",
      "[CV 1/5] END ...................γ=0.1, λ=0.1;, score=-714.480 total time=   8.9s\n",
      "[CV 2/5] END ...................γ=0.1, λ=0.1;, score=-736.664 total time=   8.9s\n",
      "[CV 3/5] END ...................γ=0.1, λ=0.1;, score=-771.020 total time=   8.9s\n",
      "[CV 5/5] END ..................γ=0.1, λ=0.01;, score=-935.931 total time=   8.9s\n"
     ]
    },
    {
     "name": "stderr",
     "output_type": "stream",
     "text": [
      "/Library/Frameworks/Python.framework/Versions/3.10/lib/python3.10/site-packages/joblib/externals/loky/process_executor.py:752: UserWarning: A worker stopped while some jobs were given to the executor. This can be caused by a too short worker timeout or by a memory leak.\n",
      "  warnings.warn(\n"
     ]
    },
    {
     "name": "stdout",
     "output_type": "stream",
     "text": [
      "[CV 5/5] END ...................γ=0.1, λ=0.1;, score=-763.352 total time=   8.7s\n",
      "[CV 4/5] END ...................γ=0.1, λ=0.1;, score=-756.125 total time=   8.7s\n",
      "[CV 1/5] END ...................γ=0.1, λ=1.0;, score=-672.419 total time=   8.8s\n",
      "[CV 2/5] END ...................γ=0.1, λ=1.0;, score=-714.742 total time=   8.7s\n",
      "[CV 3/5] END ...................γ=0.1, λ=1.0;, score=-739.724 total time=   8.7s\n",
      "[CV 4/5] END ...................γ=0.1, λ=1.0;, score=-722.077 total time=   8.5s\n",
      "[CV 1/5] END ..................γ=0.1, λ=10.0;, score=-913.654 total time=   8.7s\n",
      "[CV 5/5] END ...................γ=0.1, λ=1.0;, score=-733.063 total time=   8.8s\n",
      "[CV 2/5] END ..................γ=0.1, λ=10.0;, score=-974.187 total time=   8.7s\n",
      "[CV 4/5] END .................γ=0.1, λ=10.0;, score=-1005.053 total time=   8.7s\n",
      "[CV 3/5] END .................γ=0.1, λ=10.0;, score=-1024.005 total time=   9.0s\n",
      "[CV 1/5] END ................γ=0.1, λ=100.0;, score=-1323.963 total time=   8.9s\n",
      "[CV 5/5] END ..................γ=0.1, λ=10.0;, score=-994.148 total time=   9.2s\n",
      "[CV 2/5] END ................γ=0.1, λ=100.0;, score=-1390.713 total time=   9.0s\n",
      "[CV 3/5] END ................γ=0.1, λ=100.0;, score=-1462.373 total time=   8.8s\n",
      "[CV 4/5] END ................γ=0.1, λ=100.0;, score=-1452.743 total time=   9.2s\n",
      "[CV 5/5] END ................γ=0.1, λ=100.0;, score=-1405.130 total time=   8.8s\n",
      "[CV 2/5] END ..................γ=1.0, λ=0.01;, score=-607.165 total time=   8.6s\n",
      "[CV 1/5] END ..................γ=1.0, λ=0.01;, score=-580.808 total time=   8.9s\n",
      "[CV 3/5] END ..................γ=1.0, λ=0.01;, score=-624.304 total time=   9.1s\n",
      "[CV 5/5] END ..................γ=1.0, λ=0.01;, score=-660.545 total time=   9.0s\n",
      "[CV 4/5] END ..................γ=1.0, λ=0.01;, score=-637.618 total time=   9.1s\n",
      "[CV 1/5] END ...................γ=1.0, λ=0.1;, score=-465.107 total time=   8.9s\n",
      "[CV 2/5] END ...................γ=1.0, λ=0.1;, score=-493.877 total time=   9.0s\n",
      "[CV 3/5] END ...................γ=1.0, λ=0.1;, score=-516.726 total time=   9.0s\n",
      "[CV 4/5] END ...................γ=1.0, λ=0.1;, score=-519.756 total time=   9.1s\n",
      "[CV 5/5] END ...................γ=1.0, λ=0.1;, score=-526.219 total time=   9.1s\n",
      "[CV 1/5] END ...................γ=1.0, λ=1.0;, score=-441.888 total time=   8.8s\n",
      "[CV 4/5] END ...................γ=1.0, λ=1.0;, score=-485.577 total time=   8.8s\n",
      "[CV 3/5] END ...................γ=1.0, λ=1.0;, score=-486.011 total time=   9.0s\n",
      "[CV 2/5] END ...................γ=1.0, λ=1.0;, score=-467.094 total time=   9.1s\n",
      "[CV 5/5] END ...................γ=1.0, λ=1.0;, score=-480.981 total time=   9.1s\n",
      "[CV 1/5] END ..................γ=1.0, λ=10.0;, score=-464.720 total time=   8.7s\n",
      "[CV 2/5] END ..................γ=1.0, λ=10.0;, score=-483.796 total time=   8.9s\n",
      "[CV 3/5] END ..................γ=1.0, λ=10.0;, score=-509.270 total time=   8.9s\n",
      "[CV 4/5] END ..................γ=1.0, λ=10.0;, score=-502.497 total time=   8.7s\n",
      "[CV 1/5] END .................γ=1.0, λ=100.0;, score=-591.593 total time=   8.6s\n",
      "[CV 2/5] END .................γ=1.0, λ=100.0;, score=-631.934 total time=   8.7s\n",
      "[CV 5/5] END ..................γ=1.0, λ=10.0;, score=-496.354 total time=   9.1s\n",
      "[CV 3/5] END .................γ=1.0, λ=100.0;, score=-661.607 total time=   8.5s\n",
      "[CV 4/5] END .................γ=1.0, λ=100.0;, score=-644.758 total time=   9.1s\n",
      "[CV 5/5] END .................γ=1.0, λ=100.0;, score=-650.068 total time=   8.9s\n",
      "[CV 1/5] END .................γ=10.0, λ=0.01;, score=-431.797 total time=   8.9s\n",
      "[CV 2/5] END .................γ=10.0, λ=0.01;, score=-464.507 total time=   9.0s\n",
      "[CV 3/5] END .................γ=10.0, λ=0.01;, score=-479.170 total time=   9.2s\n",
      "[CV 5/5] END .................γ=10.0, λ=0.01;, score=-466.368 total time=   9.0s\n",
      "[CV 4/5] END .................γ=10.0, λ=0.01;, score=-479.077 total time=   9.4s\n",
      "[CV 1/5] END ..................γ=10.0, λ=0.1;, score=-430.831 total time=   9.4s\n",
      "[CV 2/5] END ..................γ=10.0, λ=0.1;, score=-460.757 total time=   9.0s\n",
      "[CV 3/5] END ..................γ=10.0, λ=0.1;, score=-476.322 total time=   9.0s\n",
      "[CV 4/5] END ..................γ=10.0, λ=0.1;, score=-475.134 total time=   9.4s\n",
      "[CV 5/5] END ..................γ=10.0, λ=0.1;, score=-459.118 total time=   9.4s\n",
      "[CV 2/5] END ..................γ=10.0, λ=1.0;, score=-462.301 total time=   9.1s\n",
      "[CV 1/5] END ..................γ=10.0, λ=1.0;, score=-433.445 total time=   9.3s\n",
      "[CV 3/5] END ..................γ=10.0, λ=1.0;, score=-477.489 total time=   9.1s\n",
      "[CV 4/5] END ..................γ=10.0, λ=1.0;, score=-474.639 total time=   9.4s\n",
      "[CV 5/5] END ..................γ=10.0, λ=1.0;, score=-458.960 total time=   8.5s\n",
      "[CV 1/5] END .................γ=10.0, λ=10.0;, score=-437.622 total time=   9.0s\n",
      "[CV 2/5] END .................γ=10.0, λ=10.0;, score=-467.954 total time=   8.6s\n",
      "[CV 3/5] END .................γ=10.0, λ=10.0;, score=-486.323 total time=   8.8s\n",
      "[CV 1/5] END ................γ=10.0, λ=100.0;, score=-448.486 total time=   8.6s\n",
      "[CV 5/5] END .................γ=10.0, λ=10.0;, score=-462.607 total time=   8.9s\n",
      "[CV 4/5] END .................γ=10.0, λ=10.0;, score=-481.694 total time=   9.0s\n",
      "[CV 2/5] END ................γ=10.0, λ=100.0;, score=-480.832 total time=   8.8s\n",
      "[CV 3/5] END ................γ=10.0, λ=100.0;, score=-508.938 total time=   9.6s\n",
      "[CV 4/5] END ................γ=10.0, λ=100.0;, score=-499.844 total time=   9.4s\n",
      "[CV 5/5] END ................γ=10.0, λ=100.0;, score=-480.030 total time=   9.0s\n",
      "[CV 1/5] END ................γ=100.0, λ=0.01;, score=-436.110 total time=   9.4s\n",
      "[CV 2/5] END ................γ=100.0, λ=0.01;, score=-463.797 total time=   9.2s\n",
      "[CV 3/5] END ................γ=100.0, λ=0.01;, score=-480.748 total time=   9.3s\n",
      "[CV 4/5] END ................γ=100.0, λ=0.01;, score=-479.416 total time=   9.3s\n",
      "[CV 5/5] END ................γ=100.0, λ=0.01;, score=-459.901 total time=   9.6s\n",
      "[CV 1/5] END .................γ=100.0, λ=0.1;, score=-438.959 total time=   8.9s\n",
      "[CV 3/5] END .................γ=100.0, λ=0.1;, score=-486.307 total time=   9.0s\n",
      "[CV 2/5] END .................γ=100.0, λ=0.1;, score=-467.354 total time=   9.0s\n",
      "[CV 5/5] END .................γ=100.0, λ=0.1;, score=-460.758 total time=   8.8s\n",
      "[CV 2/5] END .................γ=100.0, λ=1.0;, score=-473.956 total time=   8.7s\n",
      "[CV 1/5] END .................γ=100.0, λ=1.0;, score=-444.026 total time=   8.9s\n",
      "[CV 4/5] END .................γ=100.0, λ=0.1;, score=-483.701 total time=   9.3s\n",
      "[CV 3/5] END .................γ=100.0, λ=1.0;, score=-495.594 total time=   8.7s\n",
      "[CV 4/5] END .................γ=100.0, λ=1.0;, score=-492.344 total time=   8.8s\n",
      "[CV 5/5] END .................γ=100.0, λ=1.0;, score=-466.808 total time=   8.6s\n",
      "[CV 1/5] END ................γ=100.0, λ=10.0;, score=-447.570 total time=   8.8s\n",
      "[CV 3/5] END ................γ=100.0, λ=10.0;, score=-501.578 total time=   8.5s\n",
      "[CV 2/5] END ................γ=100.0, λ=10.0;, score=-480.016 total time=   9.0s\n",
      "[CV 5/5] END ................γ=100.0, λ=10.0;, score=-471.872 total time=   9.0s\n",
      "[CV 4/5] END ................γ=100.0, λ=10.0;, score=-498.847 total time=   9.0s\n",
      "[CV 1/5] END ...............γ=100.0, λ=100.0;, score=-449.298 total time=   8.6s\n",
      "[CV 2/5] END ...............γ=100.0, λ=100.0;, score=-484.546 total time=   8.6s\n",
      "[CV 3/5] END ...............γ=100.0, λ=100.0;, score=-506.527 total time=   8.6s\n",
      "[CV 4/5] END ...............γ=100.0, λ=100.0;, score=-506.882 total time=   8.6s\n",
      "[CV 5/5] END ...............γ=100.0, λ=100.0;, score=-476.158 total time=   8.6s\n",
      "[CV 1/5] END ...............γ=1000.0, λ=0.01;, score=-444.784 total time=   8.6s\n",
      "[CV 3/5] END ...............γ=1000.0, λ=0.01;, score=-496.156 total time=   8.5s\n",
      "[CV 2/5] END ...............γ=1000.0, λ=0.01;, score=-474.043 total time=   8.5s\n",
      "[CV 4/5] END ...............γ=1000.0, λ=0.01;, score=-493.000 total time=   8.5s\n",
      "[CV 5/5] END ...............γ=1000.0, λ=0.01;, score=-467.329 total time=   8.4s\n",
      "[CV 1/5] END ................γ=1000.0, λ=0.1;, score=-448.983 total time=   8.4s\n",
      "[CV 2/5] END ................γ=1000.0, λ=0.1;, score=-479.078 total time=   8.9s\n",
      "[CV 3/5] END ................γ=1000.0, λ=0.1;, score=-501.974 total time=   8.6s\n",
      "[CV 4/5] END ................γ=1000.0, λ=0.1;, score=-497.722 total time=   8.5s\n",
      "[CV 1/5] END ................γ=1000.0, λ=1.0;, score=-449.110 total time=   8.3s\n",
      "[CV 5/5] END ................γ=1000.0, λ=0.1;, score=-472.282 total time=   8.8s\n",
      "[CV 2/5] END ................γ=1000.0, λ=1.0;, score=-481.267 total time=   8.5s\n",
      "[CV 3/5] END ................γ=1000.0, λ=1.0;, score=-503.022 total time=   8.9s\n",
      "[CV 4/5] END ................γ=1000.0, λ=1.0;, score=-500.621 total time=   8.8s\n",
      "[CV 5/5] END ................γ=1000.0, λ=1.0;, score=-473.454 total time=   8.5s\n",
      "[CV 1/5] END ...............γ=1000.0, λ=10.0;, score=-451.599 total time=   8.6s\n",
      "[CV 2/5] END ...............γ=1000.0, λ=10.0;, score=-486.152 total time=   8.9s\n",
      "[CV 3/5] END ...............γ=1000.0, λ=10.0;, score=-506.285 total time=   9.0s\n",
      "[CV 4/5] END ...............γ=1000.0, λ=10.0;, score=-507.755 total time=   8.9s\n",
      "[CV 5/5] END ...............γ=1000.0, λ=10.0;, score=-476.635 total time=   9.1s\n",
      "[CV 1/5] END ..............γ=1000.0, λ=100.0;, score=-452.942 total time=   7.1s\n",
      "[CV 2/5] END ..............γ=1000.0, λ=100.0;, score=-488.773 total time=   7.0s\n",
      "[CV 4/5] END ..............γ=1000.0, λ=100.0;, score=-512.673 total time=   6.5s\n",
      "[CV 3/5] END ..............γ=1000.0, λ=100.0;, score=-510.101 total time=   7.0s\n",
      "[CV 5/5] END ..............γ=1000.0, λ=100.0;, score=-479.461 total time=   6.3s\n"
     ]
    },
    {
     "data": {
      "text/html": [
       "<style>#sk-container-id-2 {color: black;}#sk-container-id-2 pre{padding: 0;}#sk-container-id-2 div.sk-toggleable {background-color: white;}#sk-container-id-2 label.sk-toggleable__label {cursor: pointer;display: block;width: 100%;margin-bottom: 0;padding: 0.3em;box-sizing: border-box;text-align: center;}#sk-container-id-2 label.sk-toggleable__label-arrow:before {content: \"▸\";float: left;margin-right: 0.25em;color: #696969;}#sk-container-id-2 label.sk-toggleable__label-arrow:hover:before {color: black;}#sk-container-id-2 div.sk-estimator:hover label.sk-toggleable__label-arrow:before {color: black;}#sk-container-id-2 div.sk-toggleable__content {max-height: 0;max-width: 0;overflow: hidden;text-align: left;background-color: #f0f8ff;}#sk-container-id-2 div.sk-toggleable__content pre {margin: 0.2em;color: black;border-radius: 0.25em;background-color: #f0f8ff;}#sk-container-id-2 input.sk-toggleable__control:checked~div.sk-toggleable__content {max-height: 200px;max-width: 100%;overflow: auto;}#sk-container-id-2 input.sk-toggleable__control:checked~label.sk-toggleable__label-arrow:before {content: \"▾\";}#sk-container-id-2 div.sk-estimator input.sk-toggleable__control:checked~label.sk-toggleable__label {background-color: #d4ebff;}#sk-container-id-2 div.sk-label input.sk-toggleable__control:checked~label.sk-toggleable__label {background-color: #d4ebff;}#sk-container-id-2 input.sk-hidden--visually {border: 0;clip: rect(1px 1px 1px 1px);clip: rect(1px, 1px, 1px, 1px);height: 1px;margin: -1px;overflow: hidden;padding: 0;position: absolute;width: 1px;}#sk-container-id-2 div.sk-estimator {font-family: monospace;background-color: #f0f8ff;border: 1px dotted black;border-radius: 0.25em;box-sizing: border-box;margin-bottom: 0.5em;}#sk-container-id-2 div.sk-estimator:hover {background-color: #d4ebff;}#sk-container-id-2 div.sk-parallel-item::after {content: \"\";width: 100%;border-bottom: 1px solid gray;flex-grow: 1;}#sk-container-id-2 div.sk-label:hover label.sk-toggleable__label {background-color: #d4ebff;}#sk-container-id-2 div.sk-serial::before {content: \"\";position: absolute;border-left: 1px solid gray;box-sizing: border-box;top: 0;bottom: 0;left: 50%;z-index: 0;}#sk-container-id-2 div.sk-serial {display: flex;flex-direction: column;align-items: center;background-color: white;padding-right: 0.2em;padding-left: 0.2em;position: relative;}#sk-container-id-2 div.sk-item {position: relative;z-index: 1;}#sk-container-id-2 div.sk-parallel {display: flex;align-items: stretch;justify-content: center;background-color: white;position: relative;}#sk-container-id-2 div.sk-item::before, #sk-container-id-2 div.sk-parallel-item::before {content: \"\";position: absolute;border-left: 1px solid gray;box-sizing: border-box;top: 0;bottom: 0;left: 50%;z-index: -1;}#sk-container-id-2 div.sk-parallel-item {display: flex;flex-direction: column;z-index: 1;position: relative;background-color: white;}#sk-container-id-2 div.sk-parallel-item:first-child::after {align-self: flex-end;width: 50%;}#sk-container-id-2 div.sk-parallel-item:last-child::after {align-self: flex-start;width: 50%;}#sk-container-id-2 div.sk-parallel-item:only-child::after {width: 0;}#sk-container-id-2 div.sk-dashed-wrapped {border: 1px dashed gray;margin: 0 0.4em 0.5em 0.4em;box-sizing: border-box;padding-bottom: 0.4em;background-color: white;}#sk-container-id-2 div.sk-label label {font-family: monospace;font-weight: bold;display: inline-block;line-height: 1.2em;}#sk-container-id-2 div.sk-label-container {text-align: center;}#sk-container-id-2 div.sk-container {/* jupyter's `normalize.less` sets `[hidden] { display: none; }` but bootstrap.min.css set `[hidden] { display: none !important; }` so we also need the `!important` here to be able to override the default hidden behavior on the sphinx rendered scikit-learn.org. See: https://github.com/scikit-learn/scikit-learn/issues/21755 */display: inline-block !important;position: relative;}#sk-container-id-2 div.sk-text-repr-fallback {display: none;}</style><div id=\"sk-container-id-2\" class=\"sk-top-container\"><div class=\"sk-text-repr-fallback\"><pre>GridSearchCV(cv=5, estimator=KRR(), n_jobs=-1,\n",
       "             param_grid={&#x27;γ&#x27;: array([1.e-01, 1.e+00, 1.e+01, 1.e+02, 1.e+03]),\n",
       "                         &#x27;λ&#x27;: array([1.e-02, 1.e-01, 1.e+00, 1.e+01, 1.e+02])},\n",
       "             scoring=&#x27;neg_mean_squared_error&#x27;, verbose=3)</pre><b>In a Jupyter environment, please rerun this cell to show the HTML representation or trust the notebook. <br />On GitHub, the HTML representation is unable to render, please try loading this page with nbviewer.org.</b></div><div class=\"sk-container\" hidden><div class=\"sk-item sk-dashed-wrapped\"><div class=\"sk-label-container\"><div class=\"sk-label sk-toggleable\"><input class=\"sk-toggleable__control sk-hidden--visually\" id=\"sk-estimator-id-4\" type=\"checkbox\" ><label for=\"sk-estimator-id-4\" class=\"sk-toggleable__label sk-toggleable__label-arrow\">GridSearchCV</label><div class=\"sk-toggleable__content\"><pre>GridSearchCV(cv=5, estimator=KRR(), n_jobs=-1,\n",
       "             param_grid={&#x27;γ&#x27;: array([1.e-01, 1.e+00, 1.e+01, 1.e+02, 1.e+03]),\n",
       "                         &#x27;λ&#x27;: array([1.e-02, 1.e-01, 1.e+00, 1.e+01, 1.e+02])},\n",
       "             scoring=&#x27;neg_mean_squared_error&#x27;, verbose=3)</pre></div></div></div><div class=\"sk-parallel\"><div class=\"sk-parallel-item\"><div class=\"sk-item\"><div class=\"sk-label-container\"><div class=\"sk-label sk-toggleable\"><input class=\"sk-toggleable__control sk-hidden--visually\" id=\"sk-estimator-id-5\" type=\"checkbox\" ><label for=\"sk-estimator-id-5\" class=\"sk-toggleable__label sk-toggleable__label-arrow\">estimator: KRR</label><div class=\"sk-toggleable__content\"><pre>KRR()</pre></div></div></div><div class=\"sk-serial\"><div class=\"sk-item\"><div class=\"sk-estimator sk-toggleable\"><input class=\"sk-toggleable__control sk-hidden--visually\" id=\"sk-estimator-id-6\" type=\"checkbox\" ><label for=\"sk-estimator-id-6\" class=\"sk-toggleable__label sk-toggleable__label-arrow\">KRR</label><div class=\"sk-toggleable__content\"><pre>KRR()</pre></div></div></div></div></div></div></div></div></div></div>"
      ],
      "text/plain": [
       "GridSearchCV(cv=5, estimator=KRR(), n_jobs=-1,\n",
       "             param_grid={'γ': array([1.e-01, 1.e+00, 1.e+01, 1.e+02, 1.e+03]),\n",
       "                         'λ': array([1.e-02, 1.e-01, 1.e+00, 1.e+01, 1.e+02])},\n",
       "             scoring='neg_mean_squared_error', verbose=3)"
      ]
     },
     "execution_count": 27,
     "metadata": {},
     "output_type": "execute_result"
    }
   ],
   "source": [
    "λ_grid = 10. ** np.arange(-2, 3) \n",
    "γ_grid = 10. ** np.arange(-1, 4) \n",
    "\n",
    "learner = GridSearchCV(estimator=KRR(), n_jobs=-1, param_grid={'λ': λ_grid, 'γ': γ_grid}, scoring='neg_mean_squared_error', cv=5, verbose=3)\n",
    "learner.fit(X_train_sample, y_train_sample)"
   ]
  },
  {
   "cell_type": "code",
   "execution_count": 28,
   "metadata": {},
   "outputs": [
    {
     "name": "stdout",
     "output_type": "stream",
     "text": [
      "Best hyperparams : λ = 0.1 , γ = 10.0\n"
     ]
    }
   ],
   "source": [
    "print(f'Best hyperparams : λ = {learner.best_params_[\"λ\"]} , γ = {learner.best_params_[\"γ\"]}')"
   ]
  },
  {
   "cell_type": "code",
   "execution_count": 29,
   "metadata": {},
   "outputs": [
    {
     "data": {
      "image/png": "[encoded data removed]",
      "text/plain": [
       "<Figure size 576x576 with 1 Axes>"
      ]
     },
     "metadata": {
      "needs_background": "light"
     },
     "output_type": "display_data"
    }
   ],
   "source": [
    "score = learner.cv_results_['mean_test_score']\n",
    "\n",
    "dict_λ = {}\n",
    "for v in set(learner.cv_results_['param_λ'].data):\n",
    "    dict_λ[v] = (sorted(set(learner.cv_results_['param_γ'].data)), [])\n",
    "for i, p in enumerate(learner.cv_results_['params']):\n",
    "    dict_λ[p['λ']][1].append(score[i])\n",
    "#del(dict_λ[0.0])\n",
    "\n",
    "plt.figure(figsize=(8,8))\n",
    "\n",
    "colors = ['purple', 'green', 'blue', 'orange', 'cyan']\n",
    "for k in sorted(dict_λ.keys()):\n",
    "    plt.plot(dict_λ[k][0], dict_λ[k][1], label = f\"λ = {k}\", linestyle=\"-\", color = colors.pop())\n",
    "\n",
    "plt.xscale(\"log\")\n",
    "plt.xlabel(\"γ\")\n",
    "plt.ylabel(\"neg_mean_squared_error\")\n",
    "plt.legend()\n",
    "plt.show()"
   ]
  },
  {
   "cell_type": "code",
   "execution_count": 30,
   "metadata": {},
   "outputs": [],
   "source": [
    "train_sample_size_BIG = 20000\n",
    "test_sample_size_BIG = 4000\n",
    "\n",
    "X_train_sample_BIG = X_train.sample(n=train_sample_size_BIG, random_state=1)\n",
    "y_train_sample_BIG = pd.Series(data = [y_train[i] for i in X_train_sample_BIG.index], index = X_train_sample_BIG.index)\n",
    "\n",
    "X_test_sample_BIG = X_test.sample(n=test_sample_size_BIG, random_state=1)\n",
    "y_test_sample_BIG = pd.Series(data = [y_test[i] for i in X_test_sample_BIG.index], index = X_test_sample_BIG.index)"
   ]
  },
  {
   "cell_type": "code",
   "execution_count": 31,
   "metadata": {},
   "outputs": [
    {
     "name": "stdout",
     "output_type": "stream",
     "text": [
      "   MSE : 474.8702104128954\n",
      "   MAE : 17.98881380993144\n",
      "    R2 : 0.04902383319425352\n"
     ]
    }
   ],
   "source": [
    "krr = learner.best_estimator_\n",
    "krr.fit(X_train_sample_BIG, y_train_sample_BIG)\n",
    "y_prediction = krr.predict(X_test_sample_BIG)\n",
    "\n",
    "print('   MSE :', mean_squared_error(y_test_sample_BIG, y_prediction))\n",
    "print('   MAE :', mean_absolute_error(y_test_sample_BIG, y_prediction))\n",
    "print('    R2 :', r2_score(y_test_sample_BIG, y_prediction))"
   ]
  },
  {
   "cell_type": "code",
   "execution_count": 32,
   "metadata": {},
   "outputs": [
    {
     "data": {
      "image/png": "[encoded data removed]",
      "text/plain": [
       "<Figure size 432x288 with 1 Axes>"
      ]
     },
     "metadata": {
      "needs_background": "light"
     },
     "output_type": "display_data"
    }
   ],
   "source": [
    "fig, ax = plt.subplots()\n",
    "ax.hist(y_test_sample_BIG - y_prediction, density=True, bins=100)\n",
    "plt.show()"
   ]
  },
  {
   "cell_type": "markdown",
   "metadata": {},
   "source": [
    "Checking that my implementation performs exactly as the one in *sklearn*"
   ]
  },
  {
   "cell_type": "code",
   "execution_count": 33,
   "metadata": {},
   "outputs": [
    {
     "name": "stdout",
     "output_type": "stream",
     "text": [
      "   MSE : 474.87021041314057\n",
      "   MAE : 17.988813809943036\n",
      "    R2 : 0.04902383319376247\n"
     ]
    }
   ],
   "source": [
    "from sklearn.kernel_ridge import KernelRidge\n",
    "\n",
    "debug = True\n",
    "\n",
    "if debug:\n",
    "\n",
    "    krr = KernelRidge(alpha=learner.best_params_[\"λ\"], kernel=\"rbf\", gamma=1/(learner.best_params_[\"γ\"] * 2))\n",
    "    krr.fit(X_train_sample_BIG, y_train_sample_BIG)\n",
    "    y_prediction = krr.predict(X_test_sample_BIG)\n",
    "\n",
    "    print('   MSE :', mean_squared_error(y_test_sample_BIG, y_prediction))\n",
    "    print('   MAE :', mean_absolute_error(y_test_sample_BIG, y_prediction))\n",
    "    print('    R2 :', r2_score(y_test_sample_BIG, y_prediction))"
   ]
  }
 ],
 "metadata": {
  "kernelspec": {
   "display_name": "Python 3",
   "language": "python",
   "name": "python3"
  },
  "language_info": {
   "codemirror_mode": {
    "name": "ipython",
    "version": 3
   },
   "file_extension": ".py",
   "mimetype": "text/x-python",
   "name": "python",
   "nbconvert_exporter": "python",
   "pygments_lexer": "ipython3",
   "version": "3.10.5"
  },
  "orig_nbformat": 4,
  "vscode": {
   "interpreter": {
    "hash": "aee8b7b246df8f9039afb4144a1f6fd8d2ca17a180786b69acc140d282b71a49"
   }
  }
 },
 "nbformat": 4,
 "nbformat_minor": 2
}
