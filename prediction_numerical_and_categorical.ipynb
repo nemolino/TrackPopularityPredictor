{
 "cells": [
  {
   "cell_type": "code",
   "execution_count": 1,
   "metadata": {},
   "outputs": [],
   "source": [
    "import numpy as np\n",
    "import pandas as pd\n",
    "import matplotlib.pyplot as plt\n",
    "from math import ceil, log2\n",
    "\n",
    "import category_encoders as ce\n",
    "\n",
    "from sklearn import preprocessing\n",
    "from sklearn.model_selection import train_test_split, GridSearchCV\n",
    "from sklearn.metrics import mean_squared_error, mean_absolute_error, r2_score"
   ]
  },
  {
   "cell_type": "code",
   "execution_count": 2,
   "metadata": {},
   "outputs": [
    {
     "data": {
      "text/html": [
       "<div>\n",
       "<style scoped>\n",
       "    .dataframe tbody tr th:only-of-type {\n",
       "        vertical-align: middle;\n",
       "    }\n",
       "\n",
       "    .dataframe tbody tr th {\n",
       "        vertical-align: top;\n",
       "    }\n",
       "\n",
       "    .dataframe thead th {\n",
       "        text-align: right;\n",
       "    }\n",
       "</style>\n",
       "<table border=\"1\" class=\"dataframe\">\n",
       "  <thead>\n",
       "    <tr style=\"text-align: right;\">\n",
       "      <th></th>\n",
       "      <th>Unnamed: 0</th>\n",
       "      <th>track_id</th>\n",
       "      <th>artists</th>\n",
       "      <th>album_name</th>\n",
       "      <th>track_name</th>\n",
       "      <th>popularity</th>\n",
       "      <th>duration_ms</th>\n",
       "      <th>explicit</th>\n",
       "      <th>danceability</th>\n",
       "      <th>energy</th>\n",
       "      <th>...</th>\n",
       "      <th>loudness</th>\n",
       "      <th>mode</th>\n",
       "      <th>speechiness</th>\n",
       "      <th>acousticness</th>\n",
       "      <th>instrumentalness</th>\n",
       "      <th>liveness</th>\n",
       "      <th>valence</th>\n",
       "      <th>tempo</th>\n",
       "      <th>time_signature</th>\n",
       "      <th>track_genre</th>\n",
       "    </tr>\n",
       "  </thead>\n",
       "  <tbody>\n",
       "    <tr>\n",
       "      <th>0</th>\n",
       "      <td>0</td>\n",
       "      <td>5SuOikwiRyPMVoIQDJUgSV</td>\n",
       "      <td>Gen Hoshino</td>\n",
       "      <td>Comedy</td>\n",
       "      <td>Comedy</td>\n",
       "      <td>73</td>\n",
       "      <td>230666</td>\n",
       "      <td>False</td>\n",
       "      <td>0.676</td>\n",
       "      <td>0.4610</td>\n",
       "      <td>...</td>\n",
       "      <td>-6.746</td>\n",
       "      <td>0</td>\n",
       "      <td>0.1430</td>\n",
       "      <td>0.0322</td>\n",
       "      <td>0.000001</td>\n",
       "      <td>0.3580</td>\n",
       "      <td>0.715</td>\n",
       "      <td>87.917</td>\n",
       "      <td>4</td>\n",
       "      <td>acoustic</td>\n",
       "    </tr>\n",
       "    <tr>\n",
       "      <th>1</th>\n",
       "      <td>1</td>\n",
       "      <td>4qPNDBW1i3p13qLCt0Ki3A</td>\n",
       "      <td>Ben Woodward</td>\n",
       "      <td>Ghost (Acoustic)</td>\n",
       "      <td>Ghost - Acoustic</td>\n",
       "      <td>55</td>\n",
       "      <td>149610</td>\n",
       "      <td>False</td>\n",
       "      <td>0.420</td>\n",
       "      <td>0.1660</td>\n",
       "      <td>...</td>\n",
       "      <td>-17.235</td>\n",
       "      <td>1</td>\n",
       "      <td>0.0763</td>\n",
       "      <td>0.9240</td>\n",
       "      <td>0.000006</td>\n",
       "      <td>0.1010</td>\n",
       "      <td>0.267</td>\n",
       "      <td>77.489</td>\n",
       "      <td>4</td>\n",
       "      <td>acoustic</td>\n",
       "    </tr>\n",
       "    <tr>\n",
       "      <th>2</th>\n",
       "      <td>2</td>\n",
       "      <td>1iJBSr7s7jYXzM8EGcbK5b</td>\n",
       "      <td>Ingrid Michaelson;ZAYN</td>\n",
       "      <td>To Begin Again</td>\n",
       "      <td>To Begin Again</td>\n",
       "      <td>57</td>\n",
       "      <td>210826</td>\n",
       "      <td>False</td>\n",
       "      <td>0.438</td>\n",
       "      <td>0.3590</td>\n",
       "      <td>...</td>\n",
       "      <td>-9.734</td>\n",
       "      <td>1</td>\n",
       "      <td>0.0557</td>\n",
       "      <td>0.2100</td>\n",
       "      <td>0.000000</td>\n",
       "      <td>0.1170</td>\n",
       "      <td>0.120</td>\n",
       "      <td>76.332</td>\n",
       "      <td>4</td>\n",
       "      <td>acoustic</td>\n",
       "    </tr>\n",
       "    <tr>\n",
       "      <th>3</th>\n",
       "      <td>3</td>\n",
       "      <td>6lfxq3CG4xtTiEg7opyCyx</td>\n",
       "      <td>Kina Grannis</td>\n",
       "      <td>Crazy Rich Asians (Original Motion Picture Sou...</td>\n",
       "      <td>Can't Help Falling In Love</td>\n",
       "      <td>71</td>\n",
       "      <td>201933</td>\n",
       "      <td>False</td>\n",
       "      <td>0.266</td>\n",
       "      <td>0.0596</td>\n",
       "      <td>...</td>\n",
       "      <td>-18.515</td>\n",
       "      <td>1</td>\n",
       "      <td>0.0363</td>\n",
       "      <td>0.9050</td>\n",
       "      <td>0.000071</td>\n",
       "      <td>0.1320</td>\n",
       "      <td>0.143</td>\n",
       "      <td>181.740</td>\n",
       "      <td>3</td>\n",
       "      <td>acoustic</td>\n",
       "    </tr>\n",
       "    <tr>\n",
       "      <th>4</th>\n",
       "      <td>4</td>\n",
       "      <td>5vjLSffimiIP26QG5WcN2K</td>\n",
       "      <td>Chord Overstreet</td>\n",
       "      <td>Hold On</td>\n",
       "      <td>Hold On</td>\n",
       "      <td>82</td>\n",
       "      <td>198853</td>\n",
       "      <td>False</td>\n",
       "      <td>0.618</td>\n",
       "      <td>0.4430</td>\n",
       "      <td>...</td>\n",
       "      <td>-9.681</td>\n",
       "      <td>1</td>\n",
       "      <td>0.0526</td>\n",
       "      <td>0.4690</td>\n",
       "      <td>0.000000</td>\n",
       "      <td>0.0829</td>\n",
       "      <td>0.167</td>\n",
       "      <td>119.949</td>\n",
       "      <td>4</td>\n",
       "      <td>acoustic</td>\n",
       "    </tr>\n",
       "  </tbody>\n",
       "</table>\n",
       "<p>5 rows × 21 columns</p>\n",
       "</div>"
      ],
      "text/plain": [
       "   Unnamed: 0                track_id                 artists  \\\n",
       "0           0  5SuOikwiRyPMVoIQDJUgSV             Gen Hoshino   \n",
       "1           1  4qPNDBW1i3p13qLCt0Ki3A            Ben Woodward   \n",
       "2           2  1iJBSr7s7jYXzM8EGcbK5b  Ingrid Michaelson;ZAYN   \n",
       "3           3  6lfxq3CG4xtTiEg7opyCyx            Kina Grannis   \n",
       "4           4  5vjLSffimiIP26QG5WcN2K        Chord Overstreet   \n",
       "\n",
       "                                          album_name  \\\n",
       "0                                             Comedy   \n",
       "1                                   Ghost (Acoustic)   \n",
       "2                                     To Begin Again   \n",
       "3  Crazy Rich Asians (Original Motion Picture Sou...   \n",
       "4                                            Hold On   \n",
       "\n",
       "                   track_name  popularity  duration_ms  explicit  \\\n",
       "0                      Comedy          73       230666     False   \n",
       "1            Ghost - Acoustic          55       149610     False   \n",
       "2              To Begin Again          57       210826     False   \n",
       "3  Can't Help Falling In Love          71       201933     False   \n",
       "4                     Hold On          82       198853     False   \n",
       "\n",
       "   danceability  energy  ...  loudness  mode  speechiness  acousticness  \\\n",
       "0         0.676  0.4610  ...    -6.746     0       0.1430        0.0322   \n",
       "1         0.420  0.1660  ...   -17.235     1       0.0763        0.9240   \n",
       "2         0.438  0.3590  ...    -9.734     1       0.0557        0.2100   \n",
       "3         0.266  0.0596  ...   -18.515     1       0.0363        0.9050   \n",
       "4         0.618  0.4430  ...    -9.681     1       0.0526        0.4690   \n",
       "\n",
       "   instrumentalness  liveness  valence    tempo  time_signature  track_genre  \n",
       "0          0.000001    0.3580    0.715   87.917               4     acoustic  \n",
       "1          0.000006    0.1010    0.267   77.489               4     acoustic  \n",
       "2          0.000000    0.1170    0.120   76.332               4     acoustic  \n",
       "3          0.000071    0.1320    0.143  181.740               3     acoustic  \n",
       "4          0.000000    0.0829    0.167  119.949               4     acoustic  \n",
       "\n",
       "[5 rows x 21 columns]"
      ]
     },
     "execution_count": 2,
     "metadata": {},
     "output_type": "execute_result"
    }
   ],
   "source": [
    "# load dataset\n",
    "dataset = pd.read_csv('dataset/spotify_tracks.csv')\n",
    "dataset.head()"
   ]
  },
  {
   "attachments": {},
   "cell_type": "markdown",
   "metadata": {},
   "source": [
    "<span style=\"color:blue\">**NUMERICAL**</span> and <span style=\"color:red\">**CATEGORICAL**</span> features of the dataset :\n",
    "\n",
    "- <span style=\"color:red\"> ***track_id***</span>: The Spotify ID for the track \n",
    "\n",
    "- <span style=\"color:red\">***artists***</span>: The artists' names who performed the track. If there is more than one artist, they are separated by a ;\n",
    "\n",
    "- <span style=\"color:red\">***album_name***</span>: The album name in which the track appears\n",
    "\n",
    "- <span style=\"color:red\">***track_name***</span>: Name of the track\n",
    "\n",
    "- <span style=\"color:orange\">***popularity***</span>: The popularity of a track is a value between 0 and 100, with 100 being the most popular. The popularity is calculated by algorithm and is based, in the most part, on the total number of plays the track has had and how recent those plays are. Generally speaking, songs that are being played a lot now will have a higher popularity than songs that were played a lot in the past. Duplicate tracks (e.g. the same track from a single and an album) are rated independently. Artist and album popularity is derived mathematically from track popularity.\n",
    "\n",
    "- <span style=\"color:blue\">***duration_ms***</span>: The track length in milliseconds\n",
    "\n",
    "- <span style=\"color:red\">***explicit***</span>: Whether or not the track has explicit lyrics (true = yes it does; false = no it does not OR unknown)\n",
    "\n",
    "- <span style=\"color:blue\">***danceability***</span>: Danceability describes how suitable a track is for dancing based on a combination of musical elements including tempo, rhythm stability, beat strength, and overall regularity. A value of 0.0 is least danceable and 1.0 is most danceable\n",
    "\n",
    "- <span style=\"color:blue\">***energy***</span>: Energy is a measure from 0.0 to 1.0 and represents a perceptual measure of intensity and activity. Typically, energetic tracks feel fast, loud, and noisy. For example, death metal has high energy, while a Bach prelude scores low on the scale\n",
    " \n",
    "- <span style=\"color:red\">***key***</span>: The key the track is in. Integers map to pitches using standard Pitch Class notation. E.g. 0 = C, 1 = C♯/D♭, 2 = D, and so on. If no key was detected, the value is -1\n",
    "    \n",
    "- <span style=\"color:blue\">***loudness***</span>: The overall loudness of a track in decibels (dB)\n",
    "\n",
    "- <span style=\"color:red\">***mode***</span>: Mode indicates the modality (major or minor) of a track, the type of scale from which its melodic content is derived. Major is represented by 1 and minor is 0\n",
    "    \n",
    "- <span style=\"color:blue\">***speechiness***</span>: Speechiness detects the presence of spoken words in a track. The more exclusively speech-like the recording (e.g. talk show, audio book, poetry), the closer to 1.0 the attribute value. Values above 0.66 describe tracks that are probably made entirely of spoken words. Values between 0.33 and 0.66 describe tracks that may contain both music and speech, either in sections or layered, including such cases as rap music. Values below 0.33 most likely represent music and other non-speech-like tracks\n",
    "    \n",
    "- <span style=\"color:blue\">***acousticness***</span>: A confidence measure from 0.0 to 1.0 of whether the track is acoustic. 1.0 represents high confidence the track is acoustic\n",
    "    \n",
    "- <span style=\"color:blue\">***instrumentalness***</span>: Predicts whether a track contains no vocals. \"Ooh\" and \"aah\" sounds are treated as instrumental in this context. Rap or spoken word tracks are clearly \"vocal\". The closer the instrumentalness value is to 1.0, the greater likelihood the track contains no vocal content\n",
    "    \n",
    "- <span style=\"color:blue\">***liveness***</span>: Detects the presence of an audience in the recording. Higher liveness values represent an increased probability that the track was performed live. A value above 0.8 provides strong likelihood that the track is live\n",
    "    \n",
    "- <span style=\"color:blue\">***valence***</span>: A measure from 0.0 to 1.0 describing the musical positiveness conveyed by a track. Tracks with high valence sound more positive (e.g. happy, cheerful, euphoric), while tracks with low valence sound more negative (e.g. sad, depressed, angry)\n",
    "    \n",
    "- <span style=\"color:blue\">***tempo***</span>: The overall estimated tempo of a track in beats per minute (BPM). In musical terminology, tempo is the speed or pace of a given piece and derives directly from the average beat duration\n",
    "    \n",
    "- <span style=\"color:red\">***time_signature***</span>: An estimated time signature. The time signature (meter) is a notational convention to specify how many beats are in each bar (or measure). The time signature ranges from 3 to 7 indicating time signatures of 3/4, to 7/4.\n",
    "    \n",
    "- <span style=\"color:red\">***track_genre***</span>: The genre in which the track belongs"
   ]
  },
  {
   "cell_type": "code",
   "execution_count": 3,
   "metadata": {},
   "outputs": [],
   "source": [
    "# drop columns that are not useful\n",
    "dataset.drop(columns=['Unnamed: 0', 'track_id'], inplace=True)"
   ]
  },
  {
   "cell_type": "code",
   "execution_count": 4,
   "metadata": {},
   "outputs": [],
   "source": [
    "# dataset.isnull().sum()        # to check if there are missing values\n",
    "dataset.dropna(inplace=True)    # to drop records with missing values"
   ]
  },
  {
   "cell_type": "code",
   "execution_count": 5,
   "metadata": {},
   "outputs": [],
   "source": [
    "#dataset.nunique(axis=0)    # to check the number of distinct values for each column"
   ]
  },
  {
   "attachments": {},
   "cell_type": "markdown",
   "metadata": {},
   "source": [
    "Observation : examples are uniformly divided by genre"
   ]
  },
  {
   "cell_type": "code",
   "execution_count": 6,
   "metadata": {},
   "outputs": [
    {
     "data": {
      "text/plain": [
       "track_genre\n",
       "k-pop           999\n",
       "alternative    1000\n",
       "ambient        1000\n",
       "anime          1000\n",
       "black-metal    1000\n",
       "               ... \n",
       "trip-hop       1000\n",
       "turkish        1000\n",
       "sleep          1000\n",
       "punk           1000\n",
       "indie          1000\n",
       "Name: count, Length: 114, dtype: int64"
      ]
     },
     "execution_count": 6,
     "metadata": {},
     "output_type": "execute_result"
    }
   ],
   "source": [
    "dataset['track_genre'].value_counts().sort_values()"
   ]
  },
  {
   "cell_type": "code",
   "execution_count": 7,
   "metadata": {},
   "outputs": [],
   "source": [
    "# taking the number of artists as a column does not improve the results\n",
    "\n",
    "#dataset['#artists'] = dataset['artists'].map(lambda x: len(x.split(';')))\n",
    "#dataset['#artists'].corr(dataset['popularity'])"
   ]
  },
  {
   "cell_type": "code",
   "execution_count": 8,
   "metadata": {},
   "outputs": [],
   "source": [
    "X = dataset.drop(columns=['popularity'])    # features\n",
    "y = dataset['popularity']                   # target variable"
   ]
  },
  {
   "attachments": {},
   "cell_type": "markdown",
   "metadata": {},
   "source": [
    "#### Categorical features encoding"
   ]
  },
  {
   "attachments": {},
   "cell_type": "markdown",
   "metadata": {},
   "source": [
    "***mode*** is a binary categorical feature already mapped in {0,1}"
   ]
  },
  {
   "attachments": {},
   "cell_type": "markdown",
   "metadata": {},
   "source": [
    "***explicit*** is a binary categorical feature that we map in {0,1}"
   ]
  },
  {
   "cell_type": "code",
   "execution_count": 9,
   "metadata": {},
   "outputs": [],
   "source": [
    "X['explicit'] = X['explicit'].map({False : 0, True : 1})"
   ]
  },
  {
   "attachments": {},
   "cell_type": "markdown",
   "metadata": {},
   "source": [
    "***key***, ***time_signature*** and ***track_genre*** are categorical features on which we apply one-hot encoding"
   ]
  },
  {
   "cell_type": "code",
   "execution_count": 10,
   "metadata": {},
   "outputs": [
    {
     "name": "stdout",
     "output_type": "stream",
     "text": [
      "  12 columns used to one-hot encode key\n",
      "   5 columns used to one-hot encode time_signature\n",
      " 114 columns used to one-hot encode track_genre\n"
     ]
    }
   ],
   "source": [
    "features = ['key', 'time_signature', 'track_genre']\n",
    "\n",
    "ohe = ce.OneHotEncoder(cols=features) \n",
    "X = ohe.fit_transform(X)\n",
    "\n",
    "for f in features:\n",
    "    print(f'{dataset[f].nunique():>4} columns used to one-hot encode {f}')"
   ]
  },
  {
   "attachments": {},
   "cell_type": "markdown",
   "metadata": {},
   "source": [
    "***artists***, ***album_name*** and ***track_name*** are categorical features with a large number of distinct values on which we apply binary encoding"
   ]
  },
  {
   "cell_type": "code",
   "execution_count": 11,
   "metadata": {},
   "outputs": [
    {
     "name": "stdout",
     "output_type": "stream",
     "text": [
      "  15 columns used to binary encode artists\n",
      "  16 columns used to binary encode album_name\n",
      "  17 columns used to binary encode track_name\n"
     ]
    }
   ],
   "source": [
    "features = ['artists', 'album_name', 'track_name']\n",
    "\n",
    "be = ce.BinaryEncoder(cols=features)\n",
    "X = be.fit_transform(X)\n",
    "\n",
    "for f in features:\n",
    "    print(f'{ceil(log2(dataset[f].nunique())):>4} columns used to binary encode {f}')"
   ]
  },
  {
   "cell_type": "code",
   "execution_count": 12,
   "metadata": {},
   "outputs": [],
   "source": [
    "X['popularity_subsamples'] = y.map(lambda x: x if x % 2 == 0 else x+1)\n",
    "\n",
    "X_train, X_test, y_train, y_test = train_test_split(X, y, test_size=0.2, random_state=42, stratify=X['popularity_subsamples'])\n",
    "\n",
    "X_train.drop(columns='popularity_subsamples', inplace=True)\n",
    "X_test.drop(columns='popularity_subsamples', inplace=True)"
   ]
  },
  {
   "cell_type": "code",
   "execution_count": 13,
   "metadata": {},
   "outputs": [
    {
     "data": {
      "text/plain": [
       "-0.015777534923376642"
      ]
     },
     "execution_count": 13,
     "metadata": {},
     "output_type": "execute_result"
    }
   ],
   "source": [
    "X_train['mode'].corr(y_train)"
   ]
  },
  {
   "cell_type": "code",
   "execution_count": 14,
   "metadata": {},
   "outputs": [
    {
     "data": {
      "text/plain": [
       "0.04379514638386198"
      ]
     },
     "execution_count": 14,
     "metadata": {},
     "output_type": "execute_result"
    }
   ],
   "source": [
    "X_train['explicit'].corr(y_train)"
   ]
  },
  {
   "cell_type": "code",
   "execution_count": 18,
   "metadata": {},
   "outputs": [],
   "source": [
    "worst_features = ['duration_ms', 'energy', 'liveness', 'tempo']\n",
    "X_train.drop(columns=worst_features, inplace=True)\n",
    "X_test.drop(columns=worst_features, inplace=True)"
   ]
  },
  {
   "attachments": {},
   "cell_type": "markdown",
   "metadata": {},
   "source": [
    "### Features normalization"
   ]
  },
  {
   "cell_type": "code",
   "execution_count": 19,
   "metadata": {},
   "outputs": [],
   "source": [
    "standard_scaler = preprocessing.StandardScaler().set_output(transform=\"pandas\")\n",
    "\n",
    "X_train = standard_scaler.fit_transform(X_train)\n",
    "X_test = standard_scaler.transform(X_test)"
   ]
  },
  {
   "attachments": {},
   "cell_type": "markdown",
   "metadata": {},
   "source": [
    "## *Ridge Regression* on *Spotify Tracks Dataset*"
   ]
  },
  {
   "cell_type": "code",
   "execution_count": 20,
   "metadata": {},
   "outputs": [],
   "source": [
    "from ridge_regression import RR"
   ]
  },
  {
   "cell_type": "markdown",
   "metadata": {},
   "source": [
    "### Hyperparameters tuning"
   ]
  },
  {
   "cell_type": "code",
   "execution_count": 21,
   "metadata": {},
   "outputs": [
    {
     "name": "stdout",
     "output_type": "stream",
     "text": [
      "Fitting 5 folds for each of 20 candidates, totalling 100 fits\n",
      "[CV 2/5] END ..........................λ=0.0;, score=-311.984 total time=   0.5s\n",
      "[CV 3/5] END ..........................λ=0.0;, score=-319.428 total time=   0.5s\n",
      "[CV 1/5] END ..........................λ=0.0;, score=-326.302 total time=   0.5s\n",
      "[CV 4/5] END ..........................λ=0.0;, score=-318.342 total time=   0.5s\n",
      "[CV 5/5] END ..........................λ=0.0;, score=-314.261 total time=   0.5s\n",
      "[CV 1/5] END ............λ=52.63157894736842;, score=-312.290 total time=   0.5s\n",
      "[CV 3/5] END ............λ=52.63157894736842;, score=-306.036 total time=   0.5s\n",
      "[CV 2/5] END ............λ=52.63157894736842;, score=-301.566 total time=   0.5s\n",
      "[CV 1/5] END ...........λ=105.26315789473684;, score=-312.289 total time=   0.5s\n",
      "[CV 2/5] END ...........λ=105.26315789473684;, score=-301.584 total time=   0.5s\n",
      "[CV 5/5] END ............λ=52.63157894736842;, score=-301.982 total time=   0.5s\n",
      "[CV 3/5] END ...........λ=105.26315789473684;, score=-306.030 total time=   0.5s\n",
      "[CV 4/5] END ...........λ=105.26315789473684;, score=-304.689 total time=   0.5s\n",
      "[CV 4/5] END ............λ=52.63157894736842;, score=-304.687 total time=   0.6s\n",
      "[CV 5/5] END ...........λ=105.26315789473684;, score=-301.974 total time=   0.5s\n",
      "[CV 1/5] END ...........λ=157.89473684210526;, score=-312.290 total time=   0.4s\n",
      "[CV 4/5] END ...........λ=157.89473684210526;, score=-304.692 total time=   0.4s\n",
      "[CV 3/5] END ...........λ=210.52631578947367;, score=-306.025 total time=   0.4s\n",
      "[CV 5/5] END ...........λ=157.89473684210526;, score=-301.967 total time=   0.5s\n",
      "[CV 2/5] END ...........λ=157.89473684210526;, score=-301.604 total time=   0.5s\n",
      "[CV 1/5] END ...........λ=210.52631578947367;, score=-312.292 total time=   0.5s\n",
      "[CV 3/5] END ...........λ=157.89473684210526;, score=-306.027 total time=   0.5s\n",
      "[CV 2/5] END ...........λ=210.52631578947367;, score=-301.625 total time=   0.5s\n",
      "[CV 4/5] END ...........λ=210.52631578947367;, score=-304.696 total time=   0.5s\n",
      "[CV 5/5] END ...........λ=210.52631578947367;, score=-301.963 total time=   0.5s\n",
      "[CV 1/5] END ............λ=263.1578947368421;, score=-312.296 total time=   0.5s\n",
      "[CV 2/5] END ............λ=263.1578947368421;, score=-301.647 total time=   0.5s\n",
      "[CV 4/5] END ............λ=263.1578947368421;, score=-304.703 total time=   0.5s\n",
      "[CV 3/5] END ............λ=263.1578947368421;, score=-306.025 total time=   0.5s\n",
      "[CV 5/5] END ............λ=263.1578947368421;, score=-301.960 total time=   0.5s\n",
      "[CV 1/5] END ............λ=315.7894736842105;, score=-312.302 total time=   0.5s\n",
      "[CV 2/5] END ............λ=315.7894736842105;, score=-301.671 total time=   0.4s\n",
      "[CV 3/5] END ............λ=315.7894736842105;, score=-306.027 total time=   0.5s\n",
      "[CV 4/5] END ............λ=315.7894736842105;, score=-304.710 total time=   0.4s\n",
      "[CV 5/5] END ............λ=315.7894736842105;, score=-301.959 total time=   0.4s\n",
      "[CV 1/5] END ............λ=368.4210526315789;, score=-312.309 total time=   0.5s\n",
      "[CV 5/5] END ............λ=368.4210526315789;, score=-301.959 total time=   0.4s\n",
      "[CV 3/5] END ............λ=368.4210526315789;, score=-306.030 total time=   0.5s\n",
      "[CV 2/5] END ............λ=368.4210526315789;, score=-301.695 total time=   0.5s\n",
      "[CV 4/5] END ............λ=368.4210526315789;, score=-304.720 total time=   0.5s\n",
      "[CV 1/5] END ...........λ=421.05263157894734;, score=-312.317 total time=   0.5s\n",
      "[CV 2/5] END ...........λ=421.05263157894734;, score=-301.722 total time=   0.5s\n",
      "[CV 3/5] END ...........λ=421.05263157894734;, score=-306.035 total time=   0.5s\n",
      "[CV 4/5] END ...........λ=421.05263157894734;, score=-304.731 total time=   0.5s\n",
      "[CV 5/5] END ...........λ=421.05263157894734;, score=-301.961 total time=   0.5s\n",
      "[CV 2/5] END ............λ=473.6842105263158;, score=-301.749 total time=   0.5s\n",
      "[CV 1/5] END ............λ=473.6842105263158;, score=-312.327 total time=   0.5s\n",
      "[CV 3/5] END ............λ=473.6842105263158;, score=-306.041 total time=   0.5s\n",
      "[CV 4/5] END ............λ=473.6842105263158;, score=-304.743 total time=   0.5s\n",
      "[CV 5/5] END ............λ=473.6842105263158;, score=-301.965 total time=   0.4s\n",
      "[CV 2/5] END ............λ=526.3157894736842;, score=-301.777 total time=   0.5s\n",
      "[CV 1/5] END ............λ=526.3157894736842;, score=-312.338 total time=   0.5s\n",
      "[CV 5/5] END ............λ=526.3157894736842;, score=-301.971 total time=   0.4s\n",
      "[CV 3/5] END ............λ=526.3157894736842;, score=-306.049 total time=   0.5s\n",
      "[CV 4/5] END ............λ=526.3157894736842;, score=-304.757 total time=   0.4s\n",
      "[CV 1/5] END ............λ=578.9473684210526;, score=-312.350 total time=   0.4s\n",
      "[CV 3/5] END ............λ=578.9473684210526;, score=-306.059 total time=   0.5s\n",
      "[CV 2/5] END ............λ=578.9473684210526;, score=-301.807 total time=   0.5s\n",
      "[CV 5/5] END ............λ=578.9473684210526;, score=-301.977 total time=   0.4s\n",
      "[CV 4/5] END ............λ=578.9473684210526;, score=-304.772 total time=   0.5s\n",
      "[CV 3/5] END .............λ=631.578947368421;, score=-306.070 total time=   0.5s\n",
      "[CV 2/5] END .............λ=631.578947368421;, score=-301.838 total time=   0.5s\n",
      "[CV 4/5] END .............λ=631.578947368421;, score=-304.789 total time=   0.5s\n",
      "[CV 1/5] END .............λ=631.578947368421;, score=-312.364 total time=   0.6s\n",
      "[CV 5/5] END .............λ=631.578947368421;, score=-301.986 total time=   0.4s\n",
      "[CV 1/5] END ............λ=684.2105263157895;, score=-312.379 total time=   0.5s\n",
      "[CV 3/5] END ............λ=684.2105263157895;, score=-306.082 total time=   0.5s\n",
      "[CV 2/5] END ............λ=684.2105263157895;, score=-301.870 total time=   0.5s\n",
      "[CV 5/5] END ............λ=684.2105263157895;, score=-301.995 total time=   0.4s\n",
      "[CV 1/5] END ............λ=736.8421052631578;, score=-312.395 total time=   0.4s\n",
      "[CV 4/5] END ............λ=684.2105263157895;, score=-304.807 total time=   0.5s\n",
      "[CV 2/5] END ............λ=736.8421052631578;, score=-301.903 total time=   0.4s\n",
      "[CV 4/5] END ............λ=736.8421052631578;, score=-304.826 total time=   0.5s\n",
      "[CV 3/5] END ............λ=736.8421052631578;, score=-306.096 total time=   0.5s\n",
      "[CV 1/5] END ............λ=789.4736842105262;, score=-312.413 total time=   0.5s\n",
      "[CV 3/5] END ............λ=789.4736842105262;, score=-306.111 total time=   0.5s\n",
      "[CV 5/5] END ............λ=736.8421052631578;, score=-302.007 total time=   0.5s\n",
      "[CV 2/5] END ............λ=789.4736842105262;, score=-301.937 total time=   0.5s\n",
      "[CV 4/5] END ............λ=789.4736842105262;, score=-304.847 total time=   0.5s\n",
      "[CV 5/5] END ............λ=789.4736842105262;, score=-302.019 total time=   0.5s\n",
      "[CV 2/5] END ............λ=842.1052631578947;, score=-301.972 total time=   0.4s\n",
      "[CV 1/5] END ............λ=842.1052631578947;, score=-312.432 total time=   0.5s\n",
      "[CV 4/5] END ............λ=842.1052631578947;, score=-304.869 total time=   0.5s\n",
      "[CV 1/5] END ............λ=894.7368421052631;, score=-312.451 total time=   0.4s\n",
      "[CV 5/5] END ............λ=842.1052631578947;, score=-302.033 total time=   0.4s\n",
      "[CV 3/5] END ............λ=842.1052631578947;, score=-306.127 total time=   0.5s\n",
      "[CV 2/5] END ............λ=894.7368421052631;, score=-302.009 total time=   0.4s\n",
      "[CV 3/5] END ............λ=894.7368421052631;, score=-306.145 total time=   0.4s\n",
      "[CV 4/5] END ............λ=894.7368421052631;, score=-304.892 total time=   0.4s\n",
      "[CV 5/5] END ............λ=894.7368421052631;, score=-302.048 total time=   0.5s\n",
      "[CV 1/5] END ............λ=947.3684210526316;, score=-312.472 total time=   0.4s\n",
      "[CV 3/5] END ............λ=947.3684210526316;, score=-306.164 total time=   0.4s\n",
      "[CV 4/5] END ............λ=947.3684210526316;, score=-304.916 total time=   0.4s\n",
      "[CV 5/5] END ............λ=947.3684210526316;, score=-302.065 total time=   0.4s\n",
      "[CV 2/5] END ............λ=947.3684210526316;, score=-302.046 total time=   0.5s\n",
      "[CV 1/5] END .......................λ=1000.0;, score=-312.494 total time=   0.4s\n",
      "[CV 2/5] END .......................λ=1000.0;, score=-302.084 total time=   0.3s\n",
      "[CV 3/5] END .......................λ=1000.0;, score=-306.184 total time=   0.3s\n",
      "[CV 4/5] END .......................λ=1000.0;, score=-304.941 total time=   0.3s\n",
      "[CV 5/5] END .......................λ=1000.0;, score=-302.082 total time=   0.3s\n"
     ]
    },
    {
     "data": {
      "text/html": [
       "<style>#sk-container-id-1 {color: black;}#sk-container-id-1 pre{padding: 0;}#sk-container-id-1 div.sk-toggleable {background-color: white;}#sk-container-id-1 label.sk-toggleable__label {cursor: pointer;display: block;width: 100%;margin-bottom: 0;padding: 0.3em;box-sizing: border-box;text-align: center;}#sk-container-id-1 label.sk-toggleable__label-arrow:before {content: \"▸\";float: left;margin-right: 0.25em;color: #696969;}#sk-container-id-1 label.sk-toggleable__label-arrow:hover:before {color: black;}#sk-container-id-1 div.sk-estimator:hover label.sk-toggleable__label-arrow:before {color: black;}#sk-container-id-1 div.sk-toggleable__content {max-height: 0;max-width: 0;overflow: hidden;text-align: left;background-color: #f0f8ff;}#sk-container-id-1 div.sk-toggleable__content pre {margin: 0.2em;color: black;border-radius: 0.25em;background-color: #f0f8ff;}#sk-container-id-1 input.sk-toggleable__control:checked~div.sk-toggleable__content {max-height: 200px;max-width: 100%;overflow: auto;}#sk-container-id-1 input.sk-toggleable__control:checked~label.sk-toggleable__label-arrow:before {content: \"▾\";}#sk-container-id-1 div.sk-estimator input.sk-toggleable__control:checked~label.sk-toggleable__label {background-color: #d4ebff;}#sk-container-id-1 div.sk-label input.sk-toggleable__control:checked~label.sk-toggleable__label {background-color: #d4ebff;}#sk-container-id-1 input.sk-hidden--visually {border: 0;clip: rect(1px 1px 1px 1px);clip: rect(1px, 1px, 1px, 1px);height: 1px;margin: -1px;overflow: hidden;padding: 0;position: absolute;width: 1px;}#sk-container-id-1 div.sk-estimator {font-family: monospace;background-color: #f0f8ff;border: 1px dotted black;border-radius: 0.25em;box-sizing: border-box;margin-bottom: 0.5em;}#sk-container-id-1 div.sk-estimator:hover {background-color: #d4ebff;}#sk-container-id-1 div.sk-parallel-item::after {content: \"\";width: 100%;border-bottom: 1px solid gray;flex-grow: 1;}#sk-container-id-1 div.sk-label:hover label.sk-toggleable__label {background-color: #d4ebff;}#sk-container-id-1 div.sk-serial::before {content: \"\";position: absolute;border-left: 1px solid gray;box-sizing: border-box;top: 0;bottom: 0;left: 50%;z-index: 0;}#sk-container-id-1 div.sk-serial {display: flex;flex-direction: column;align-items: center;background-color: white;padding-right: 0.2em;padding-left: 0.2em;position: relative;}#sk-container-id-1 div.sk-item {position: relative;z-index: 1;}#sk-container-id-1 div.sk-parallel {display: flex;align-items: stretch;justify-content: center;background-color: white;position: relative;}#sk-container-id-1 div.sk-item::before, #sk-container-id-1 div.sk-parallel-item::before {content: \"\";position: absolute;border-left: 1px solid gray;box-sizing: border-box;top: 0;bottom: 0;left: 50%;z-index: -1;}#sk-container-id-1 div.sk-parallel-item {display: flex;flex-direction: column;z-index: 1;position: relative;background-color: white;}#sk-container-id-1 div.sk-parallel-item:first-child::after {align-self: flex-end;width: 50%;}#sk-container-id-1 div.sk-parallel-item:last-child::after {align-self: flex-start;width: 50%;}#sk-container-id-1 div.sk-parallel-item:only-child::after {width: 0;}#sk-container-id-1 div.sk-dashed-wrapped {border: 1px dashed gray;margin: 0 0.4em 0.5em 0.4em;box-sizing: border-box;padding-bottom: 0.4em;background-color: white;}#sk-container-id-1 div.sk-label label {font-family: monospace;font-weight: bold;display: inline-block;line-height: 1.2em;}#sk-container-id-1 div.sk-label-container {text-align: center;}#sk-container-id-1 div.sk-container {/* jupyter's `normalize.less` sets `[hidden] { display: none; }` but bootstrap.min.css set `[hidden] { display: none !important; }` so we also need the `!important` here to be able to override the default hidden behavior on the sphinx rendered scikit-learn.org. See: https://github.com/scikit-learn/scikit-learn/issues/21755 */display: inline-block !important;position: relative;}#sk-container-id-1 div.sk-text-repr-fallback {display: none;}</style><div id=\"sk-container-id-1\" class=\"sk-top-container\"><div class=\"sk-text-repr-fallback\"><pre>GridSearchCV(cv=5, estimator=RR(), n_jobs=-1,\n",
       "             param_grid={&#x27;λ&#x27;: array([   0.        ,   52.63157895,  105.26315789,  157.89473684,\n",
       "        210.52631579,  263.15789474,  315.78947368,  368.42105263,\n",
       "        421.05263158,  473.68421053,  526.31578947,  578.94736842,\n",
       "        631.57894737,  684.21052632,  736.84210526,  789.47368421,\n",
       "        842.10526316,  894.73684211,  947.36842105, 1000.        ])},\n",
       "             scoring=&#x27;neg_mean_squared_error&#x27;, verbose=3)</pre><b>In a Jupyter environment, please rerun this cell to show the HTML representation or trust the notebook. <br />On GitHub, the HTML representation is unable to render, please try loading this page with nbviewer.org.</b></div><div class=\"sk-container\" hidden><div class=\"sk-item sk-dashed-wrapped\"><div class=\"sk-label-container\"><div class=\"sk-label sk-toggleable\"><input class=\"sk-toggleable__control sk-hidden--visually\" id=\"sk-estimator-id-1\" type=\"checkbox\" ><label for=\"sk-estimator-id-1\" class=\"sk-toggleable__label sk-toggleable__label-arrow\">GridSearchCV</label><div class=\"sk-toggleable__content\"><pre>GridSearchCV(cv=5, estimator=RR(), n_jobs=-1,\n",
       "             param_grid={&#x27;λ&#x27;: array([   0.        ,   52.63157895,  105.26315789,  157.89473684,\n",
       "        210.52631579,  263.15789474,  315.78947368,  368.42105263,\n",
       "        421.05263158,  473.68421053,  526.31578947,  578.94736842,\n",
       "        631.57894737,  684.21052632,  736.84210526,  789.47368421,\n",
       "        842.10526316,  894.73684211,  947.36842105, 1000.        ])},\n",
       "             scoring=&#x27;neg_mean_squared_error&#x27;, verbose=3)</pre></div></div></div><div class=\"sk-parallel\"><div class=\"sk-parallel-item\"><div class=\"sk-item\"><div class=\"sk-label-container\"><div class=\"sk-label sk-toggleable\"><input class=\"sk-toggleable__control sk-hidden--visually\" id=\"sk-estimator-id-2\" type=\"checkbox\" ><label for=\"sk-estimator-id-2\" class=\"sk-toggleable__label sk-toggleable__label-arrow\">estimator: RR</label><div class=\"sk-toggleable__content\"><pre>RR()</pre></div></div></div><div class=\"sk-serial\"><div class=\"sk-item\"><div class=\"sk-estimator sk-toggleable\"><input class=\"sk-toggleable__control sk-hidden--visually\" id=\"sk-estimator-id-3\" type=\"checkbox\" ><label for=\"sk-estimator-id-3\" class=\"sk-toggleable__label sk-toggleable__label-arrow\">RR</label><div class=\"sk-toggleable__content\"><pre>RR()</pre></div></div></div></div></div></div></div></div></div></div>"
      ],
      "text/plain": [
       "GridSearchCV(cv=5, estimator=RR(), n_jobs=-1,\n",
       "             param_grid={'λ': array([   0.        ,   52.63157895,  105.26315789,  157.89473684,\n",
       "        210.52631579,  263.15789474,  315.78947368,  368.42105263,\n",
       "        421.05263158,  473.68421053,  526.31578947,  578.94736842,\n",
       "        631.57894737,  684.21052632,  736.84210526,  789.47368421,\n",
       "        842.10526316,  894.73684211,  947.36842105, 1000.        ])},\n",
       "             scoring='neg_mean_squared_error', verbose=3)"
      ]
     },
     "execution_count": 21,
     "metadata": {},
     "output_type": "execute_result"
    }
   ],
   "source": [
    "λ_grid = np.linspace(0, 1000, num=20)\n",
    "\n",
    "learner = GridSearchCV(estimator=RR(), n_jobs=-1, param_grid={'λ': λ_grid}, scoring='neg_mean_squared_error', cv=5, verbose=3)\n",
    "learner.fit(X_train, y_train)"
   ]
  },
  {
   "cell_type": "code",
   "execution_count": 22,
   "metadata": {},
   "outputs": [
    {
     "name": "stdout",
     "output_type": "stream",
     "text": [
      "Best hyperparams : λ = 52.63157894736842\n"
     ]
    }
   ],
   "source": [
    "print(f'Best hyperparams : λ = {learner.best_params_[\"λ\"]}')"
   ]
  },
  {
   "cell_type": "code",
   "execution_count": 23,
   "metadata": {},
   "outputs": [
    {
     "data": {
      "image/png": "[encoded data removed]",
      "text/plain": [
       "<Figure size 720x432 with 1 Axes>"
      ]
     },
     "metadata": {
      "needs_background": "light"
     },
     "output_type": "display_data"
    }
   ],
   "source": [
    "fig, ax = plt.subplots()\n",
    "fig.set_figwidth(10)\n",
    "fig.set_figheight(6)\n",
    "ax.plot(learner.cv_results_['param_λ'].data, learner.cv_results_['mean_test_score'])\n",
    "ax.plot(learner.best_params_['λ'], learner.best_score_, 'ro') \n",
    "ax.set(xlabel='λ', ylabel='neg_mean_squared_error', title='negated MSE score varying λ')\n",
    "plt.show()"
   ]
  },
  {
   "cell_type": "code",
   "execution_count": 24,
   "metadata": {},
   "outputs": [
    {
     "name": "stdout",
     "output_type": "stream",
     "text": [
      "   MSE : 307.49938469487626\n",
      "   MAE : 13.244046406146872\n",
      "    R2 : 0.38158592549838166\n"
     ]
    }
   ],
   "source": [
    "rr = learner.best_estimator_\n",
    "rr.fit(X_train, y_train)\n",
    "y_prediction = rr.predict(X_test)\n",
    "\n",
    "print('   MSE :', mean_squared_error(y_test, y_prediction))\n",
    "print('   MAE :', mean_absolute_error(y_test, y_prediction))\n",
    "print('    R2 :', r2_score(y_test, y_prediction))"
   ]
  },
  {
   "cell_type": "code",
   "execution_count": 25,
   "metadata": {},
   "outputs": [
    {
     "data": {
      "image/png": "[encoded data removed]",
      "text/plain": [
       "<Figure size 576x360 with 1 Axes>"
      ]
     },
     "metadata": {
      "needs_background": "light"
     },
     "output_type": "display_data"
    }
   ],
   "source": [
    "fig, ax = plt.subplots()\n",
    "fig.set_figwidth(8)\n",
    "fig.set_figheight(5)\n",
    "ax.hist(y_test - y_prediction, density=True, bins=100)\n",
    "plt.show()"
   ]
  },
  {
   "cell_type": "markdown",
   "metadata": {},
   "source": [
    "## *Kernel Ridge Regression* on *Spotify Tracks Dataset*"
   ]
  },
  {
   "cell_type": "code",
   "execution_count": 26,
   "metadata": {},
   "outputs": [],
   "source": [
    "from kernel_ridge_regression import KRR"
   ]
  },
  {
   "cell_type": "markdown",
   "metadata": {},
   "source": [
    "We run KRR just on samples of the dataset because, otherwise, it would get too computationally expensive "
   ]
  },
  {
   "cell_type": "code",
   "execution_count": 27,
   "metadata": {},
   "outputs": [],
   "source": [
    "train_sample_size = 5000\n",
    "test_sample_size = 1000\n",
    "\n",
    "X_train_sample = X_train.sample(n=train_sample_size, random_state=1)\n",
    "y_train_sample = pd.Series(data = [y_train[i] for i in X_train_sample.index], index = X_train_sample.index)\n",
    "\n",
    "X_test_sample = X_test.sample(n=test_sample_size, random_state=1)\n",
    "y_test_sample = pd.Series(data = [y_test[i] for i in X_test_sample.index], index = X_test_sample.index)"
   ]
  },
  {
   "cell_type": "markdown",
   "metadata": {},
   "source": [
    "### Hyperparameters tuning"
   ]
  },
  {
   "cell_type": "code",
   "execution_count": 32,
   "metadata": {},
   "outputs": [
    {
     "name": "stdout",
     "output_type": "stream",
     "text": [
      "Fitting 5 folds for each of 25 candidates, totalling 125 fits\n",
      "[CV 3/5] END .................γ=1.0, λ=0.01;, score=-1573.835 total time=  11.8s\n",
      "[CV 2/5] END ..................γ=1.0, λ=0.1;, score=-1734.063 total time=  12.4s\n",
      "[CV 5/5] END .................γ=1.0, λ=0.01;, score=-1553.139 total time=  12.5s\n",
      "[CV 1/5] END .................γ=1.0, λ=0.01;, score=-1620.821 total time=  12.6s\n",
      "[CV 1/5] END ..................γ=1.0, λ=0.1;, score=-1620.821 total time=  12.7s\n",
      "[CV 3/5] END ..................γ=1.0, λ=0.1;, score=-1573.851 total time=  12.8s\n",
      "[CV 2/5] END .................γ=1.0, λ=0.01;, score=-1734.040 total time=  12.9s\n",
      "[CV 4/5] END .................γ=1.0, λ=0.01;, score=-1561.924 total time=  13.1s\n",
      "[CV 4/5] END ..................γ=1.0, λ=0.1;, score=-1561.957 total time=  12.1s\n",
      "[CV 1/5] END ..................γ=1.0, λ=1.0;, score=-1620.823 total time=  12.1s\n",
      "[CV 3/5] END ..................γ=1.0, λ=1.0;, score=-1573.931 total time=  12.2s\n",
      "[CV 2/5] END ..................γ=1.0, λ=1.0;, score=-1734.182 total time=  12.3s\n",
      "[CV 5/5] END ..................γ=1.0, λ=0.1;, score=-1553.164 total time=  12.5s\n",
      "[CV 5/5] END ..................γ=1.0, λ=1.0;, score=-1553.829 total time=  12.4s\n",
      "[CV 4/5] END ..................γ=1.0, λ=1.0;, score=-1562.664 total time=  12.7s\n",
      "[CV 1/5] END .................γ=1.0, λ=10.0;, score=-1620.825 total time=  12.6s\n",
      "[CV 2/5] END .................γ=1.0, λ=10.0;, score=-1734.301 total time=  11.8s\n",
      "[CV 3/5] END .................γ=1.0, λ=10.0;, score=-1574.012 total time=  12.1s\n",
      "[CV 5/5] END .................γ=1.0, λ=10.0;, score=-1555.400 total time=  12.0s\n",
      "[CV 4/5] END .................γ=1.0, λ=10.0;, score=-1564.277 total time=  12.3s\n",
      "[CV 1/5] END ................γ=1.0, λ=100.0;, score=-1620.825 total time=  12.5s\n",
      "[CV 2/5] END ................γ=1.0, λ=100.0;, score=-1734.325 total time=  12.3s\n",
      "[CV 4/5] END ................γ=1.0, λ=100.0;, score=-1564.703 total time=  12.1s\n",
      "[CV 3/5] END ................γ=1.0, λ=100.0;, score=-1574.028 total time=  12.7s\n",
      "[CV 5/5] END ................γ=1.0, λ=100.0;, score=-1555.818 total time=  11.7s\n",
      "[CV 1/5] END ................γ=10.0, λ=0.01;, score=-1170.019 total time=  11.9s\n",
      "[CV 3/5] END ................γ=10.0, λ=0.01;, score=-1128.610 total time=  11.7s\n",
      "[CV 2/5] END ................γ=10.0, λ=0.01;, score=-1239.974 total time=  12.4s\n",
      "[CV 4/5] END ................γ=10.0, λ=0.01;, score=-1095.386 total time=  12.1s\n",
      "[CV 1/5] END .................γ=10.0, λ=0.1;, score=-1194.875 total time=  12.0s\n",
      "[CV 5/5] END ................γ=10.0, λ=0.01;, score=-1116.363 total time=  12.8s\n",
      "[CV 2/5] END .................γ=10.0, λ=0.1;, score=-1267.116 total time=  12.5s\n",
      "[CV 3/5] END .................γ=10.0, λ=0.1;, score=-1152.937 total time=  11.7s\n",
      "[CV 4/5] END .................γ=10.0, λ=0.1;, score=-1120.926 total time=  12.0s\n",
      "[CV 2/5] END .................γ=10.0, λ=1.0;, score=-1432.816 total time=  11.3s\n",
      "[CV 5/5] END .................γ=10.0, λ=0.1;, score=-1139.940 total time=  12.7s\n",
      "[CV 3/5] END .................γ=10.0, λ=1.0;, score=-1301.720 total time=  12.0s\n",
      "[CV 1/5] END .................γ=10.0, λ=1.0;, score=-1346.093 total time=  12.5s\n",
      "[CV 4/5] END .................γ=10.0, λ=1.0;, score=-1277.560 total time=  12.1s\n",
      "[CV 5/5] END .................γ=10.0, λ=1.0;, score=-1285.291 total time=  12.0s\n",
      "[CV 1/5] END ................γ=10.0, λ=10.0;, score=-1560.258 total time=  11.0s\n",
      "[CV 2/5] END ................γ=10.0, λ=10.0;, score=-1667.944 total time=  11.9s\n",
      "[CV 3/5] END ................γ=10.0, λ=10.0;, score=-1513.822 total time=  12.2s\n",
      "[CV 4/5] END ................γ=10.0, λ=10.0;, score=-1501.347 total time=  11.9s\n",
      "[CV 1/5] END ...............γ=10.0, λ=100.0;, score=-1613.933 total time=  12.0s\n",
      "[CV 5/5] END ................γ=10.0, λ=10.0;, score=-1495.629 total time=  12.2s\n",
      "[CV 2/5] END ...............γ=10.0, λ=100.0;, score=-1726.779 total time=  12.0s\n",
      "[CV 3/5] END ...............γ=10.0, λ=100.0;, score=-1567.175 total time=  12.1s\n",
      "[CV 4/5] END ...............γ=10.0, λ=100.0;, score=-1557.543 total time=  11.3s\n",
      "[CV 5/5] END ...............γ=10.0, λ=100.0;, score=-1549.002 total time=  11.0s\n",
      "[CV 1/5] END ................γ=100.0, λ=0.01;, score=-317.312 total time=  12.1s\n",
      "[CV 2/5] END ................γ=100.0, λ=0.01;, score=-309.024 total time=  11.9s\n",
      "[CV 3/5] END ................γ=100.0, λ=0.01;, score=-319.452 total time=  12.2s\n",
      "[CV 4/5] END ................γ=100.0, λ=0.01;, score=-295.043 total time=  12.5s\n",
      "[CV 5/5] END ................γ=100.0, λ=0.01;, score=-328.492 total time=  12.3s\n",
      "[CV 1/5] END .................γ=100.0, λ=0.1;, score=-286.773 total time=  12.7s\n",
      "[CV 2/5] END .................γ=100.0, λ=0.1;, score=-292.844 total time=  10.9s\n",
      "[CV 3/5] END .................γ=100.0, λ=0.1;, score=-296.231 total time=  11.1s\n",
      "[CV 4/5] END .................γ=100.0, λ=0.1;, score=-277.151 total time=  11.3s\n",
      "[CV 5/5] END .................γ=100.0, λ=0.1;, score=-307.975 total time=  11.9s\n",
      "[CV 2/5] END .................γ=100.0, λ=1.0;, score=-309.300 total time=  11.2s\n",
      "[CV 1/5] END .................γ=100.0, λ=1.0;, score=-280.636 total time=  12.1s\n",
      "[CV 3/5] END .................γ=100.0, λ=1.0;, score=-300.170 total time=  12.2s\n",
      "[CV 4/5] END .................γ=100.0, λ=1.0;, score=-286.231 total time=  11.8s\n",
      "[CV 5/5] END .................γ=100.0, λ=1.0;, score=-313.666 total time=  11.2s\n",
      "[CV 1/5] END ................γ=100.0, λ=10.0;, score=-346.824 total time=  11.1s\n",
      "[CV 2/5] END ................γ=100.0, λ=10.0;, score=-380.551 total time=  11.2s\n",
      "[CV 3/5] END ................γ=100.0, λ=10.0;, score=-372.764 total time=  11.8s\n",
      "[CV 4/5] END ................γ=100.0, λ=10.0;, score=-354.597 total time=  11.8s\n",
      "[CV 5/5] END ................γ=100.0, λ=10.0;, score=-376.989 total time=  11.8s\n",
      "[CV 1/5] END ...............γ=100.0, λ=100.0;, score=-471.993 total time=  11.4s\n",
      "[CV 2/5] END ...............γ=100.0, λ=100.0;, score=-511.814 total time=  11.6s\n",
      "[CV 3/5] END ...............γ=100.0, λ=100.0;, score=-487.031 total time=  10.6s\n",
      "[CV 4/5] END ...............γ=100.0, λ=100.0;, score=-470.220 total time=  11.6s\n",
      "[CV 5/5] END ...............γ=100.0, λ=100.0;, score=-480.520 total time=  12.1s\n",
      "[CV 2/5] END ...............γ=1000.0, λ=0.01;, score=-289.395 total time=  11.3s\n",
      "[CV 1/5] END ...............γ=1000.0, λ=0.01;, score=-277.159 total time=  11.7s\n",
      "[CV 3/5] END ...............γ=1000.0, λ=0.01;, score=-289.331 total time=  11.8s\n",
      "[CV 4/5] END ...............γ=1000.0, λ=0.01;, score=-269.936 total time=  11.6s\n",
      "[CV 5/5] END ...............γ=1000.0, λ=0.01;, score=-298.289 total time=  11.9s\n",
      "[CV 1/5] END ................γ=1000.0, λ=0.1;, score=-288.093 total time=  11.3s\n",
      "[CV 2/5] END ................γ=1000.0, λ=0.1;, score=-314.879 total time=  10.3s\n",
      "[CV 3/5] END ................γ=1000.0, λ=0.1;, score=-304.964 total time=  11.6s\n",
      "[CV 4/5] END ................γ=1000.0, λ=0.1;, score=-290.353 total time=  11.4s\n",
      "[CV 5/5] END ................γ=1000.0, λ=0.1;, score=-317.574 total time=  11.7s\n",
      "[CV 1/5] END ................γ=1000.0, λ=1.0;, score=-315.130 total time=  11.9s\n",
      "[CV 2/5] END ................γ=1000.0, λ=1.0;, score=-344.270 total time=  11.7s\n",
      "[CV 3/5] END ................γ=1000.0, λ=1.0;, score=-335.234 total time=  11.6s\n",
      "[CV 4/5] END ................γ=1000.0, λ=1.0;, score=-321.349 total time=  11.1s\n",
      "[CV 5/5] END ................γ=1000.0, λ=1.0;, score=-344.857 total time=  11.2s\n",
      "[CV 1/5] END ...............γ=1000.0, λ=10.0;, score=-405.542 total time=  12.6s\n",
      "[CV 2/5] END ...............γ=1000.0, λ=10.0;, score=-425.595 total time=  12.7s\n",
      "[CV 3/5] END ...............γ=1000.0, λ=10.0;, score=-425.179 total time=  13.1s\n",
      "[CV 4/5] END ...............γ=1000.0, λ=10.0;, score=-411.055 total time=  13.5s\n",
      "[CV 5/5] END ...............γ=1000.0, λ=10.0;, score=-424.744 total time=  13.6s\n",
      "[CV 1/5] END ..............γ=1000.0, λ=100.0;, score=-473.589 total time=  13.0s\n",
      "[CV 2/5] END ..............γ=1000.0, λ=100.0;, score=-491.568 total time=  13.3s\n",
      "[CV 3/5] END ..............γ=1000.0, λ=100.0;, score=-490.348 total time=  12.7s\n",
      "[CV 4/5] END ..............γ=1000.0, λ=100.0;, score=-478.243 total time=  11.9s\n",
      "[CV 5/5] END ..............γ=1000.0, λ=100.0;, score=-486.556 total time=  11.6s\n",
      "[CV 1/5] END ..............γ=10000.0, λ=0.01;, score=-299.274 total time=  12.1s\n",
      "[CV 2/5] END ..............γ=10000.0, λ=0.01;, score=-327.370 total time=  11.2s\n",
      "[CV 3/5] END ..............γ=10000.0, λ=0.01;, score=-316.715 total time=  11.5s\n",
      "[CV 4/5] END ..............γ=10000.0, λ=0.01;, score=-301.801 total time=  11.6s\n",
      "[CV 5/5] END ..............γ=10000.0, λ=0.01;, score=-329.179 total time=  11.0s\n",
      "[CV 1/5] END ...............γ=10000.0, λ=0.1;, score=-314.377 total time=  11.4s\n",
      "[CV 2/5] END ...............γ=10000.0, λ=0.1;, score=-343.468 total time=  11.5s\n",
      "[CV 3/5] END ...............γ=10000.0, λ=0.1;, score=-334.216 total time=  11.1s\n",
      "[CV 4/5] END ...............γ=10000.0, λ=0.1;, score=-320.417 total time=  11.5s\n",
      "[CV 5/5] END ...............γ=10000.0, λ=0.1;, score=-344.077 total time=  11.4s\n",
      "[CV 2/5] END ...............γ=10000.0, λ=1.0;, score=-419.860 total time=  11.9s\n",
      "[CV 1/5] END ...............γ=10000.0, λ=1.0;, score=-400.622 total time=  12.4s\n",
      "[CV 3/5] END ...............γ=10000.0, λ=1.0;, score=-419.814 total time=  11.5s\n",
      "[CV 4/5] END ...............γ=10000.0, λ=1.0;, score=-405.859 total time=  11.2s\n",
      "[CV 5/5] END ...............γ=10000.0, λ=1.0;, score=-419.714 total time=  10.4s\n",
      "[CV 1/5] END ..............γ=10000.0, λ=10.0;, score=-471.511 total time=  12.0s\n",
      "[CV 2/5] END ..............γ=10000.0, λ=10.0;, score=-484.976 total time=  12.6s\n",
      "[CV 3/5] END ..............γ=10000.0, λ=10.0;, score=-489.426 total time=  12.9s\n",
      "[CV 4/5] END ..............γ=10000.0, λ=10.0;, score=-477.759 total time=  13.0s\n",
      "[CV 5/5] END ..............γ=10000.0, λ=10.0;, score=-486.431 total time=  12.9s\n",
      "[CV 1/5] END .............γ=10000.0, λ=100.0;, score=-485.403 total time=  12.5s\n",
      "[CV 2/5] END .............γ=10000.0, λ=100.0;, score=-500.648 total time=  12.1s\n",
      "[CV 3/5] END .............γ=10000.0, λ=100.0;, score=-501.365 total time=  10.2s\n",
      "[CV 4/5] END .............γ=10000.0, λ=100.0;, score=-490.160 total time=   9.4s\n",
      "[CV 5/5] END .............γ=10000.0, λ=100.0;, score=-497.641 total time=   8.2s\n"
     ]
    },
    {
     "data": {
      "text/html": [
       "<style>#sk-container-id-3 {color: black;}#sk-container-id-3 pre{padding: 0;}#sk-container-id-3 div.sk-toggleable {background-color: white;}#sk-container-id-3 label.sk-toggleable__label {cursor: pointer;display: block;width: 100%;margin-bottom: 0;padding: 0.3em;box-sizing: border-box;text-align: center;}#sk-container-id-3 label.sk-toggleable__label-arrow:before {content: \"▸\";float: left;margin-right: 0.25em;color: #696969;}#sk-container-id-3 label.sk-toggleable__label-arrow:hover:before {color: black;}#sk-container-id-3 div.sk-estimator:hover label.sk-toggleable__label-arrow:before {color: black;}#sk-container-id-3 div.sk-toggleable__content {max-height: 0;max-width: 0;overflow: hidden;text-align: left;background-color: #f0f8ff;}#sk-container-id-3 div.sk-toggleable__content pre {margin: 0.2em;color: black;border-radius: 0.25em;background-color: #f0f8ff;}#sk-container-id-3 input.sk-toggleable__control:checked~div.sk-toggleable__content {max-height: 200px;max-width: 100%;overflow: auto;}#sk-container-id-3 input.sk-toggleable__control:checked~label.sk-toggleable__label-arrow:before {content: \"▾\";}#sk-container-id-3 div.sk-estimator input.sk-toggleable__control:checked~label.sk-toggleable__label {background-color: #d4ebff;}#sk-container-id-3 div.sk-label input.sk-toggleable__control:checked~label.sk-toggleable__label {background-color: #d4ebff;}#sk-container-id-3 input.sk-hidden--visually {border: 0;clip: rect(1px 1px 1px 1px);clip: rect(1px, 1px, 1px, 1px);height: 1px;margin: -1px;overflow: hidden;padding: 0;position: absolute;width: 1px;}#sk-container-id-3 div.sk-estimator {font-family: monospace;background-color: #f0f8ff;border: 1px dotted black;border-radius: 0.25em;box-sizing: border-box;margin-bottom: 0.5em;}#sk-container-id-3 div.sk-estimator:hover {background-color: #d4ebff;}#sk-container-id-3 div.sk-parallel-item::after {content: \"\";width: 100%;border-bottom: 1px solid gray;flex-grow: 1;}#sk-container-id-3 div.sk-label:hover label.sk-toggleable__label {background-color: #d4ebff;}#sk-container-id-3 div.sk-serial::before {content: \"\";position: absolute;border-left: 1px solid gray;box-sizing: border-box;top: 0;bottom: 0;left: 50%;z-index: 0;}#sk-container-id-3 div.sk-serial {display: flex;flex-direction: column;align-items: center;background-color: white;padding-right: 0.2em;padding-left: 0.2em;position: relative;}#sk-container-id-3 div.sk-item {position: relative;z-index: 1;}#sk-container-id-3 div.sk-parallel {display: flex;align-items: stretch;justify-content: center;background-color: white;position: relative;}#sk-container-id-3 div.sk-item::before, #sk-container-id-3 div.sk-parallel-item::before {content: \"\";position: absolute;border-left: 1px solid gray;box-sizing: border-box;top: 0;bottom: 0;left: 50%;z-index: -1;}#sk-container-id-3 div.sk-parallel-item {display: flex;flex-direction: column;z-index: 1;position: relative;background-color: white;}#sk-container-id-3 div.sk-parallel-item:first-child::after {align-self: flex-end;width: 50%;}#sk-container-id-3 div.sk-parallel-item:last-child::after {align-self: flex-start;width: 50%;}#sk-container-id-3 div.sk-parallel-item:only-child::after {width: 0;}#sk-container-id-3 div.sk-dashed-wrapped {border: 1px dashed gray;margin: 0 0.4em 0.5em 0.4em;box-sizing: border-box;padding-bottom: 0.4em;background-color: white;}#sk-container-id-3 div.sk-label label {font-family: monospace;font-weight: bold;display: inline-block;line-height: 1.2em;}#sk-container-id-3 div.sk-label-container {text-align: center;}#sk-container-id-3 div.sk-container {/* jupyter's `normalize.less` sets `[hidden] { display: none; }` but bootstrap.min.css set `[hidden] { display: none !important; }` so we also need the `!important` here to be able to override the default hidden behavior on the sphinx rendered scikit-learn.org. See: https://github.com/scikit-learn/scikit-learn/issues/21755 */display: inline-block !important;position: relative;}#sk-container-id-3 div.sk-text-repr-fallback {display: none;}</style><div id=\"sk-container-id-3\" class=\"sk-top-container\"><div class=\"sk-text-repr-fallback\"><pre>GridSearchCV(cv=5, estimator=KRR(), n_jobs=-1,\n",
       "             param_grid={&#x27;γ&#x27;: array([1.e+00, 1.e+01, 1.e+02, 1.e+03, 1.e+04]),\n",
       "                         &#x27;λ&#x27;: array([1.e-02, 1.e-01, 1.e+00, 1.e+01, 1.e+02])},\n",
       "             scoring=&#x27;neg_mean_squared_error&#x27;, verbose=3)</pre><b>In a Jupyter environment, please rerun this cell to show the HTML representation or trust the notebook. <br />On GitHub, the HTML representation is unable to render, please try loading this page with nbviewer.org.</b></div><div class=\"sk-container\" hidden><div class=\"sk-item sk-dashed-wrapped\"><div class=\"sk-label-container\"><div class=\"sk-label sk-toggleable\"><input class=\"sk-toggleable__control sk-hidden--visually\" id=\"sk-estimator-id-7\" type=\"checkbox\" ><label for=\"sk-estimator-id-7\" class=\"sk-toggleable__label sk-toggleable__label-arrow\">GridSearchCV</label><div class=\"sk-toggleable__content\"><pre>GridSearchCV(cv=5, estimator=KRR(), n_jobs=-1,\n",
       "             param_grid={&#x27;γ&#x27;: array([1.e+00, 1.e+01, 1.e+02, 1.e+03, 1.e+04]),\n",
       "                         &#x27;λ&#x27;: array([1.e-02, 1.e-01, 1.e+00, 1.e+01, 1.e+02])},\n",
       "             scoring=&#x27;neg_mean_squared_error&#x27;, verbose=3)</pre></div></div></div><div class=\"sk-parallel\"><div class=\"sk-parallel-item\"><div class=\"sk-item\"><div class=\"sk-label-container\"><div class=\"sk-label sk-toggleable\"><input class=\"sk-toggleable__control sk-hidden--visually\" id=\"sk-estimator-id-8\" type=\"checkbox\" ><label for=\"sk-estimator-id-8\" class=\"sk-toggleable__label sk-toggleable__label-arrow\">estimator: KRR</label><div class=\"sk-toggleable__content\"><pre>KRR()</pre></div></div></div><div class=\"sk-serial\"><div class=\"sk-item\"><div class=\"sk-estimator sk-toggleable\"><input class=\"sk-toggleable__control sk-hidden--visually\" id=\"sk-estimator-id-9\" type=\"checkbox\" ><label for=\"sk-estimator-id-9\" class=\"sk-toggleable__label sk-toggleable__label-arrow\">KRR</label><div class=\"sk-toggleable__content\"><pre>KRR()</pre></div></div></div></div></div></div></div></div></div></div>"
      ],
      "text/plain": [
       "GridSearchCV(cv=5, estimator=KRR(), n_jobs=-1,\n",
       "             param_grid={'γ': array([1.e+00, 1.e+01, 1.e+02, 1.e+03, 1.e+04]),\n",
       "                         'λ': array([1.e-02, 1.e-01, 1.e+00, 1.e+01, 1.e+02])},\n",
       "             scoring='neg_mean_squared_error', verbose=3)"
      ]
     },
     "execution_count": 32,
     "metadata": {},
     "output_type": "execute_result"
    }
   ],
   "source": [
    "λ_grid = 10. ** np.arange(-2, 3) \n",
    "γ_grid = 10. ** np.arange(0, 5) \n",
    "\n",
    "learner = GridSearchCV(estimator=KRR(), n_jobs=-1, param_grid={'λ': λ_grid, 'γ': γ_grid}, scoring='neg_mean_squared_error', cv=5, verbose=3)\n",
    "learner.fit(X_train_sample, y_train_sample)"
   ]
  },
  {
   "cell_type": "code",
   "execution_count": 33,
   "metadata": {},
   "outputs": [
    {
     "name": "stdout",
     "output_type": "stream",
     "text": [
      "Best hyperparams : λ = 0.01 , γ = 1000.0\n"
     ]
    }
   ],
   "source": [
    "print(f'Best hyperparams : λ = {learner.best_params_[\"λ\"]} , γ = {learner.best_params_[\"γ\"]}')"
   ]
  },
  {
   "cell_type": "code",
   "execution_count": 34,
   "metadata": {},
   "outputs": [
    {
     "data": {
      "image/png": "[encoded data removed]",
      "text/plain": [
       "<Figure size 720x432 with 1 Axes>"
      ]
     },
     "metadata": {
      "needs_background": "light"
     },
     "output_type": "display_data"
    }
   ],
   "source": [
    "# preparing the data to plot\n",
    "\n",
    "score = learner.cv_results_['mean_test_score']\n",
    "\n",
    "dict_λ = {}\n",
    "for v in set(learner.cv_results_['param_λ'].data):\n",
    "    dict_λ[v] = (sorted(set(learner.cv_results_['param_γ'].data)), [])\n",
    "for i, p in enumerate(learner.cv_results_['params']):\n",
    "    dict_λ[p['λ']][1].append(score[i])\n",
    "#del(dict_λ[0.0])\n",
    "\n",
    "fig, ax = plt.subplots()\n",
    "fig.set_figwidth(10)\n",
    "fig.set_figheight(6)\n",
    "\n",
    "colors = ['purple', 'green', 'blue', 'orange', 'cyan']\n",
    "for k in sorted(dict_λ.keys()):\n",
    "    ax.plot(dict_λ[k][0], dict_λ[k][1], label = f\"λ = {k}\", linestyle=\"-\", color = colors.pop())\n",
    "\n",
    "ax.set(xscale='log', xlabel='γ', ylabel='neg_mean_squared_error', title='negated MSE score varying λ and γ')\n",
    "plt.legend()\n",
    "plt.show()"
   ]
  },
  {
   "cell_type": "code",
   "execution_count": 36,
   "metadata": {},
   "outputs": [],
   "source": [
    "train_sample_size_BIG = 20000\n",
    "test_sample_size_BIG = 4000\n",
    "\n",
    "X_train_sample_BIG = X_train.sample(n=train_sample_size_BIG, random_state=1)\n",
    "y_train_sample_BIG = pd.Series(data = [y_train[i] for i in X_train_sample_BIG.index], index = X_train_sample_BIG.index)\n",
    "\n",
    "X_test_sample_BIG = X_test.sample(n=test_sample_size_BIG, random_state=1)\n",
    "y_test_sample_BIG = pd.Series(data = [y_test[i] for i in X_test_sample_BIG.index], index = X_test_sample_BIG.index)"
   ]
  },
  {
   "cell_type": "code",
   "execution_count": 37,
   "metadata": {},
   "outputs": [
    {
     "name": "stdout",
     "output_type": "stream",
     "text": [
      "   MSE : 224.78054636885972\n",
      "   MAE : 10.75679426967503\n",
      "    R2 : 0.5557452615609457\n"
     ]
    }
   ],
   "source": [
    "krr = learner.best_estimator_\n",
    "krr.fit(X_train_sample_BIG, y_train_sample_BIG)\n",
    "y_prediction = krr.predict(X_test_sample_BIG)\n",
    "\n",
    "print('   MSE :', mean_squared_error(y_test_sample_BIG, y_prediction))\n",
    "print('   MAE :', mean_absolute_error(y_test_sample_BIG, y_prediction))\n",
    "print('    R2 :', r2_score(y_test_sample_BIG, y_prediction))"
   ]
  },
  {
   "cell_type": "code",
   "execution_count": 38,
   "metadata": {},
   "outputs": [
    {
     "data": {
      "image/png": "[encoded data removed]",
      "text/plain": [
       "<Figure size 576x360 with 1 Axes>"
      ]
     },
     "metadata": {
      "needs_background": "light"
     },
     "output_type": "display_data"
    }
   ],
   "source": [
    "fig, ax = plt.subplots()\n",
    "fig.set_figwidth(8)\n",
    "fig.set_figheight(5)\n",
    "ax.hist(y_test_sample_BIG - y_prediction, density=True, bins=100)\n",
    "plt.show()"
   ]
  }
 ],
 "metadata": {
  "kernelspec": {
   "display_name": "Python 3",
   "language": "python",
   "name": "python3"
  },
  "language_info": {
   "codemirror_mode": {
    "name": "ipython",
    "version": 3
   },
   "file_extension": ".py",
   "mimetype": "text/x-python",
   "name": "python",
   "nbconvert_exporter": "python",
   "pygments_lexer": "ipython3",
   "version": "3.10.5"
  },
  "orig_nbformat": 4,
  "vscode": {
   "interpreter": {
    "hash": "aee8b7b246df8f9039afb4144a1f6fd8d2ca17a180786b69acc140d282b71a49"
   }
  }
 },
 "nbformat": 4,
 "nbformat_minor": 2
}
