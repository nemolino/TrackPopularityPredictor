{
 "cells": [
  {
   "cell_type": "code",
   "execution_count": 23,
   "metadata": {},
   "outputs": [],
   "source": [
    "import numpy as np\n",
    "import pandas as pd\n",
    "import matplotlib.pyplot as plt\n",
    "\n",
    "from math import ceil, log2\n",
    "import category_encoders as ce\n",
    "\n",
    "from sklearn import preprocessing\n",
    "from sklearn.model_selection import train_test_split, GridSearchCV\n",
    "from sklearn.metrics import mean_squared_error, mean_absolute_error, r2_score\n",
    "\n",
    "CV_verbose_param = 3"
   ]
  },
  {
   "cell_type": "code",
   "execution_count": 24,
   "metadata": {},
   "outputs": [
    {
     "data": {
      "text/html": [
       "<div>\n",
       "<style scoped>\n",
       "    .dataframe tbody tr th:only-of-type {\n",
       "        vertical-align: middle;\n",
       "    }\n",
       "\n",
       "    .dataframe tbody tr th {\n",
       "        vertical-align: top;\n",
       "    }\n",
       "\n",
       "    .dataframe thead th {\n",
       "        text-align: right;\n",
       "    }\n",
       "</style>\n",
       "<table border=\"1\" class=\"dataframe\">\n",
       "  <thead>\n",
       "    <tr style=\"text-align: right;\">\n",
       "      <th></th>\n",
       "      <th>artists</th>\n",
       "      <th>album_name</th>\n",
       "      <th>track_name</th>\n",
       "      <th>duration_ms</th>\n",
       "      <th>explicit</th>\n",
       "      <th>danceability</th>\n",
       "      <th>energy</th>\n",
       "      <th>key</th>\n",
       "      <th>loudness</th>\n",
       "      <th>mode</th>\n",
       "      <th>...</th>\n",
       "      <th>GENRE_spanish</th>\n",
       "      <th>GENRE_study</th>\n",
       "      <th>GENRE_swedish</th>\n",
       "      <th>GENRE_synth-pop</th>\n",
       "      <th>GENRE_tango</th>\n",
       "      <th>GENRE_techno</th>\n",
       "      <th>GENRE_trance</th>\n",
       "      <th>GENRE_trip-hop</th>\n",
       "      <th>GENRE_turkish</th>\n",
       "      <th>GENRE_world-music</th>\n",
       "    </tr>\n",
       "  </thead>\n",
       "  <tbody>\n",
       "    <tr>\n",
       "      <th>0</th>\n",
       "      <td>Rill</td>\n",
       "      <td>Lolly</td>\n",
       "      <td>Lolly</td>\n",
       "      <td>160725</td>\n",
       "      <td>True</td>\n",
       "      <td>0.910</td>\n",
       "      <td>0.374</td>\n",
       "      <td>8</td>\n",
       "      <td>-9.844</td>\n",
       "      <td>0</td>\n",
       "      <td>...</td>\n",
       "      <td>0</td>\n",
       "      <td>0</td>\n",
       "      <td>0</td>\n",
       "      <td>0</td>\n",
       "      <td>0</td>\n",
       "      <td>0</td>\n",
       "      <td>0</td>\n",
       "      <td>0</td>\n",
       "      <td>0</td>\n",
       "      <td>0</td>\n",
       "    </tr>\n",
       "    <tr>\n",
       "      <th>1</th>\n",
       "      <td>Glee Cast</td>\n",
       "      <td>Glee Love Songs</td>\n",
       "      <td>It's All Coming Back To Me Now (Glee Cast Vers...</td>\n",
       "      <td>322933</td>\n",
       "      <td>False</td>\n",
       "      <td>0.269</td>\n",
       "      <td>0.516</td>\n",
       "      <td>0</td>\n",
       "      <td>-7.361</td>\n",
       "      <td>1</td>\n",
       "      <td>...</td>\n",
       "      <td>0</td>\n",
       "      <td>0</td>\n",
       "      <td>0</td>\n",
       "      <td>0</td>\n",
       "      <td>0</td>\n",
       "      <td>0</td>\n",
       "      <td>0</td>\n",
       "      <td>0</td>\n",
       "      <td>0</td>\n",
       "      <td>0</td>\n",
       "    </tr>\n",
       "    <tr>\n",
       "      <th>2</th>\n",
       "      <td>Paul Kalkbrenner;Pig&amp;Dan</td>\n",
       "      <td>X</td>\n",
       "      <td>Böxig Leise - Pig &amp; Dan Remix</td>\n",
       "      <td>515360</td>\n",
       "      <td>False</td>\n",
       "      <td>0.686</td>\n",
       "      <td>0.560</td>\n",
       "      <td>5</td>\n",
       "      <td>-13.264</td>\n",
       "      <td>0</td>\n",
       "      <td>...</td>\n",
       "      <td>0</td>\n",
       "      <td>0</td>\n",
       "      <td>0</td>\n",
       "      <td>0</td>\n",
       "      <td>0</td>\n",
       "      <td>0</td>\n",
       "      <td>0</td>\n",
       "      <td>0</td>\n",
       "      <td>0</td>\n",
       "      <td>0</td>\n",
       "    </tr>\n",
       "    <tr>\n",
       "      <th>3</th>\n",
       "      <td>Jordan Sandhu</td>\n",
       "      <td>Teeje Week</td>\n",
       "      <td>Teeje Week</td>\n",
       "      <td>190203</td>\n",
       "      <td>False</td>\n",
       "      <td>0.679</td>\n",
       "      <td>0.770</td>\n",
       "      <td>0</td>\n",
       "      <td>-3.537</td>\n",
       "      <td>1</td>\n",
       "      <td>...</td>\n",
       "      <td>0</td>\n",
       "      <td>0</td>\n",
       "      <td>0</td>\n",
       "      <td>0</td>\n",
       "      <td>0</td>\n",
       "      <td>0</td>\n",
       "      <td>0</td>\n",
       "      <td>0</td>\n",
       "      <td>0</td>\n",
       "      <td>0</td>\n",
       "    </tr>\n",
       "    <tr>\n",
       "      <th>4</th>\n",
       "      <td>Paul Kalkbrenner</td>\n",
       "      <td>Zeit</td>\n",
       "      <td>Tief</td>\n",
       "      <td>331240</td>\n",
       "      <td>False</td>\n",
       "      <td>0.519</td>\n",
       "      <td>0.431</td>\n",
       "      <td>6</td>\n",
       "      <td>-13.606</td>\n",
       "      <td>0</td>\n",
       "      <td>...</td>\n",
       "      <td>0</td>\n",
       "      <td>0</td>\n",
       "      <td>0</td>\n",
       "      <td>0</td>\n",
       "      <td>0</td>\n",
       "      <td>0</td>\n",
       "      <td>0</td>\n",
       "      <td>0</td>\n",
       "      <td>0</td>\n",
       "      <td>0</td>\n",
       "    </tr>\n",
       "  </tbody>\n",
       "</table>\n",
       "<p>5 rows × 132 columns</p>\n",
       "</div>"
      ],
      "text/plain": [
       "                    artists       album_name  \\\n",
       "0                      Rill            Lolly   \n",
       "1                 Glee Cast  Glee Love Songs   \n",
       "2  Paul Kalkbrenner;Pig&Dan                X   \n",
       "3             Jordan Sandhu       Teeje Week   \n",
       "4          Paul Kalkbrenner             Zeit   \n",
       "\n",
       "                                          track_name  duration_ms  explicit  \\\n",
       "0                                              Lolly       160725      True   \n",
       "1  It's All Coming Back To Me Now (Glee Cast Vers...       322933     False   \n",
       "2                      Böxig Leise - Pig & Dan Remix       515360     False   \n",
       "3                                         Teeje Week       190203     False   \n",
       "4                                               Tief       331240     False   \n",
       "\n",
       "   danceability  energy  key  loudness  mode  ...  GENRE_spanish  GENRE_study  \\\n",
       "0         0.910   0.374    8    -9.844     0  ...              0            0   \n",
       "1         0.269   0.516    0    -7.361     1  ...              0            0   \n",
       "2         0.686   0.560    5   -13.264     0  ...              0            0   \n",
       "3         0.679   0.770    0    -3.537     1  ...              0            0   \n",
       "4         0.519   0.431    6   -13.606     0  ...              0            0   \n",
       "\n",
       "   GENRE_swedish  GENRE_synth-pop  GENRE_tango  GENRE_techno  GENRE_trance  \\\n",
       "0              0                0            0             0             0   \n",
       "1              0                0            0             0             0   \n",
       "2              0                0            0             0             0   \n",
       "3              0                0            0             0             0   \n",
       "4              0                0            0             0             0   \n",
       "\n",
       "   GENRE_trip-hop  GENRE_turkish  GENRE_world-music  \n",
       "0               0              0                  0  \n",
       "1               0              0                  0  \n",
       "2               0              0                  0  \n",
       "3               0              0                  0  \n",
       "4               0              0                  0  \n",
       "\n",
       "[5 rows x 132 columns]"
      ]
     },
     "execution_count": 24,
     "metadata": {},
     "output_type": "execute_result"
    }
   ],
   "source": [
    "dataset = pd.read_csv('datasets/spotify_tracks_cleaned.csv')\n",
    "dataset.head()"
   ]
  },
  {
   "attachments": {},
   "cell_type": "markdown",
   "metadata": {},
   "source": [
    "<span style=\"color:blue\">**NUMERICAL**</span> and <span style=\"color:red\">**CATEGORICAL**</span> features of the dataset :\n",
    "\n",
    "- <span style=\"color:orange\">**popularity**</span>: The popularity of a track is a value between 0 and 100, with 100 being the most popular. The popularity is calculated by algorithm and is based, in the most part, on the total number of plays the track has had and how recent those plays are. Generally speaking, songs that are being played a lot now will have a higher popularity than songs that were played a lot in the past. Duplicate tracks (e.g. the same track from a single and an album) are rated independently. Artist and album popularity is derived mathematically from track popularity.\n",
    "\n",
    "- <span style=\"color:red\">**artists**</span>: The artists' names who performed the track. If there is more than one artist, they are separated by a ;\n",
    "\n",
    "- <span style=\"color:red\">**album_name**</span>: The album name in which the track appears\n",
    "\n",
    "- <span style=\"color:red\">**track_name**</span>: Name of the track\n",
    "\n",
    "- <span style=\"color:blue\">**duration_ms**</span>: The track length in milliseconds\n",
    "\n",
    "- <span style=\"color:red\">**explicit**</span>: Whether or not the track has explicit lyrics (true = yes it does; false = no it does not OR unknown)\n",
    "\n",
    "- <span style=\"color:blue\">**danceability**</span>: Danceability describes how suitable a track is for dancing based on a combination of musical elements including tempo, rhythm stability, beat strength, and overall regularity. A value of 0.0 is least danceable and 1.0 is most danceable\n",
    "\n",
    "- <span style=\"color:blue\">**energy**</span>: Energy is a measure from 0.0 to 1.0 and represents a perceptual measure of intensity and activity. Typically, energetic tracks feel fast, loud, and noisy. For example, death metal has high energy, while a Bach prelude scores low on the scale\n",
    " \n",
    "- <span style=\"color:red\">**key**</span>: The key the track is in. Integers map to pitches using standard Pitch Class notation. E.g. 0 = C, 1 = C♯/D♭, 2 = D, and so on. If no key was detected, the value is -1\n",
    "    \n",
    "- <span style=\"color:blue\">**loudness**</span>: The overall loudness of a track in decibels (dB)\n",
    "\n",
    "- <span style=\"color:red\">**mode**</span>: Mode indicates the modality (major or minor) of a track, the type of scale from which its melodic content is derived. Major is represented by 1 and minor is 0\n",
    "    \n",
    "- <span style=\"color:blue\">**speechiness**</span>: Speechiness detects the presence of spoken words in a track. The more exclusively speech-like the recording (e.g. talk show, audio book, poetry), the closer to 1.0 the attribute value. Values above 0.66 describe tracks that are probably made entirely of spoken words. Values between 0.33 and 0.66 describe tracks that may contain both music and speech, either in sections or layered, including such cases as rap music. Values below 0.33 most likely represent music and other non-speech-like tracks\n",
    "    \n",
    "- <span style=\"color:blue\">**acousticness**</span>: A confidence measure from 0.0 to 1.0 of whether the track is acoustic. 1.0 represents high confidence the track is acoustic\n",
    "    \n",
    "- <span style=\"color:blue\">**instrumentalness**</span>: Predicts whether a track contains no vocals. \"Ooh\" and \"aah\" sounds are treated as instrumental in this context. Rap or spoken word tracks are clearly \"vocal\". The closer the instrumentalness value is to 1.0, the greater likelihood the track contains no vocal content\n",
    "    \n",
    "- <span style=\"color:blue\">**liveness**</span>: Detects the presence of an audience in the recording. Higher liveness values represent an increased probability that the track was performed live. A value above 0.8 provides strong likelihood that the track is live\n",
    "    \n",
    "- <span style=\"color:blue\">**valence**</span>: A measure from 0.0 to 1.0 describing the musical positiveness conveyed by a track. Tracks with high valence sound more positive (e.g. happy, cheerful, euphoric), while tracks with low valence sound more negative (e.g. sad, depressed, angry)\n",
    "    \n",
    "- <span style=\"color:blue\">**tempo**</span>: The overall estimated tempo of a track in beats per minute (BPM). In musical terminology, tempo is the speed or pace of a given piece and derives directly from the average beat duration\n",
    "    \n",
    "- <span style=\"color:red\">**time_signature**</span>: An estimated time signature. The time signature (meter) is a notational convention to specify how many beats are in each bar (or measure). The time signature ranges from 3 to 7 indicating time signatures of 3/4, to 7/4.\n",
    "    \n",
    "- <span style=\"color:red\">**GENRE_{genre_name}**</span>: Whether or not the track belongs to the genre genre_name"
   ]
  },
  {
   "cell_type": "code",
   "execution_count": 25,
   "metadata": {},
   "outputs": [],
   "source": [
    "X = dataset.drop(columns=['popularity'])    # features\n",
    "y = dataset['popularity']                   # target variable"
   ]
  },
  {
   "attachments": {},
   "cell_type": "markdown",
   "metadata": {},
   "source": [
    "#### Categorical features encoding"
   ]
  },
  {
   "attachments": {},
   "cell_type": "markdown",
   "metadata": {},
   "source": [
    "**mode** and **GENRE_{genre_name}** are binary categorical feature already mapped in {0,1}"
   ]
  },
  {
   "attachments": {},
   "cell_type": "markdown",
   "metadata": {},
   "source": [
    "**explicit** is a binary categorical feature that we map in {0,1}"
   ]
  },
  {
   "cell_type": "code",
   "execution_count": 26,
   "metadata": {},
   "outputs": [],
   "source": [
    "X['explicit'] = X['explicit'].map({False : 0, True : 1})"
   ]
  },
  {
   "attachments": {},
   "cell_type": "markdown",
   "metadata": {},
   "source": [
    "**key** and **time_signature** are categorical features on which we apply one-hot encoding"
   ]
  },
  {
   "cell_type": "code",
   "execution_count": 27,
   "metadata": {},
   "outputs": [
    {
     "name": "stdout",
     "output_type": "stream",
     "text": [
      "  12 columns used to one-hot encode key\n",
      "   5 columns used to one-hot encode time_signature\n"
     ]
    }
   ],
   "source": [
    "features = ['key', 'time_signature']\n",
    "\n",
    "ohe = ce.OneHotEncoder(cols=features) \n",
    "X = ohe.fit_transform(X)\n",
    "\n",
    "for f in features:\n",
    "    print(f'{dataset[f].nunique():>4} columns used to one-hot encode {f}')"
   ]
  },
  {
   "attachments": {},
   "cell_type": "markdown",
   "metadata": {},
   "source": [
    "**artists**, **album_name** and **track_name** are categorical features with a large number of distinct values on which we apply binary encoding"
   ]
  },
  {
   "cell_type": "code",
   "execution_count": 28,
   "metadata": {},
   "outputs": [
    {
     "name": "stdout",
     "output_type": "stream",
     "text": [
      "  15 columns used to binary encode artists\n",
      "  16 columns used to binary encode album_name\n",
      "  17 columns used to binary encode track_name\n"
     ]
    }
   ],
   "source": [
    "features = ['artists', 'album_name', 'track_name']\n",
    "\n",
    "be = ce.BinaryEncoder(cols=features)\n",
    "X = be.fit_transform(X)\n",
    "\n",
    "for f in features:\n",
    "    print(f'{ceil(log2(dataset[f].nunique())):>4} columns used to binary encode {f}')"
   ]
  },
  {
   "cell_type": "code",
   "execution_count": 29,
   "metadata": {},
   "outputs": [],
   "source": [
    "X['popularity_subsamples'] = y.map(lambda x: x if x % 2 == 0 else x+1)\n",
    "\n",
    "X_train, X_test, y_train, y_test = train_test_split(X, y, test_size=0.2, random_state=42, stratify=X['popularity_subsamples'])\n",
    "\n",
    "X_train.drop(columns='popularity_subsamples', inplace=True)\n",
    "X_test.drop(columns='popularity_subsamples', inplace=True)"
   ]
  },
  {
   "cell_type": "code",
   "execution_count": 30,
   "metadata": {},
   "outputs": [
    {
     "data": {
      "text/plain": [
       "-0.014134122062802425"
      ]
     },
     "execution_count": 30,
     "metadata": {},
     "output_type": "execute_result"
    }
   ],
   "source": [
    "X_train['mode'].corr(y_train)"
   ]
  },
  {
   "cell_type": "code",
   "execution_count": 31,
   "metadata": {},
   "outputs": [
    {
     "data": {
      "text/plain": [
       "0.05345766099560088"
      ]
     },
     "execution_count": 31,
     "metadata": {},
     "output_type": "execute_result"
    }
   ],
   "source": [
    "X_train['explicit'].corr(y_train)"
   ]
  },
  {
   "cell_type": "code",
   "execution_count": 32,
   "metadata": {},
   "outputs": [],
   "source": [
    "worst_features = ['energy', 'liveness', 'valence', 'tempo']\n",
    "X_train.drop(columns=worst_features, inplace=True)\n",
    "X_test.drop(columns=worst_features, inplace=True)"
   ]
  },
  {
   "attachments": {},
   "cell_type": "markdown",
   "metadata": {},
   "source": [
    "### Features normalization"
   ]
  },
  {
   "cell_type": "code",
   "execution_count": 33,
   "metadata": {},
   "outputs": [],
   "source": [
    "standard_scaler = preprocessing.StandardScaler().set_output(transform=\"pandas\")\n",
    "\n",
    "X_train = standard_scaler.fit_transform(X_train)\n",
    "X_test = standard_scaler.transform(X_test)"
   ]
  },
  {
   "attachments": {},
   "cell_type": "markdown",
   "metadata": {},
   "source": [
    "## *Ridge Regression* on *Spotify Tracks Dataset*"
   ]
  },
  {
   "cell_type": "code",
   "execution_count": 34,
   "metadata": {},
   "outputs": [],
   "source": [
    "from ridge_regression import RR"
   ]
  },
  {
   "cell_type": "markdown",
   "metadata": {},
   "source": [
    "### Hyperparameters tuning"
   ]
  },
  {
   "cell_type": "code",
   "execution_count": 35,
   "metadata": {},
   "outputs": [
    {
     "name": "stdout",
     "output_type": "stream",
     "text": [
      "Fitting 5 folds for each of 20 candidates, totalling 100 fits\n",
      "[CV 3/5] END ..........................λ=0.0;, score=-265.437 total time=   0.4s\n",
      "[CV 1/5] END ............λ=26.31578947368421;, score=-254.741 total time=   0.4s\n",
      "[CV 1/5] END ..........................λ=0.0;, score=-255.868 total time=   0.5s\n",
      "[CV 5/5] END .........................λ=0.0;, score=-1666.707 total time=   0.4s\n",
      "[CV 4/5] END λ=0.0;, score=-85836033618617272315507342919997914611712.000 total time=   0.5s\n",
      "[CV 3/5] END ............λ=26.31578947368421;, score=-261.036 total time=   0.4s\n",
      "[CV 2/5] END ............λ=26.31578947368421;, score=-259.588 total time=   0.4s\n",
      "[CV 2/5] END ..........................λ=0.0;, score=-263.479 total time=   0.4s\n",
      "[CV 5/5] END ............λ=26.31578947368421;, score=-258.952 total time=   0.3s\n",
      "[CV 4/5] END ............λ=26.31578947368421;, score=-256.452 total time=   0.4s\n",
      "[CV 1/5] END ............λ=52.63157894736842;, score=-254.746 total time=   0.4s\n",
      "[CV 2/5] END ............λ=52.63157894736842;, score=-259.589 total time=   0.4s\n",
      "[CV 3/5] END ............λ=52.63157894736842;, score=-261.032 total time=   0.4s\n",
      "[CV 4/5] END ............λ=52.63157894736842;, score=-256.453 total time=   0.4s\n",
      "[CV 5/5] END ............λ=52.63157894736842;, score=-258.946 total time=   0.4s\n",
      "[CV 1/5] END ............λ=78.94736842105263;, score=-254.751 total time=   0.4s\n",
      "[CV 2/5] END ............λ=78.94736842105263;, score=-259.590 total time=   0.4s\n",
      "[CV 3/5] END ............λ=78.94736842105263;, score=-261.029 total time=   0.4s\n",
      "[CV 4/5] END ............λ=78.94736842105263;, score=-256.453 total time=   0.4s\n",
      "[CV 5/5] END ............λ=78.94736842105263;, score=-258.940 total time=   0.4s\n",
      "[CV 2/5] END ...........λ=105.26315789473684;, score=-259.592 total time=   0.4s\n",
      "[CV 1/5] END ...........λ=105.26315789473684;, score=-254.756 total time=   0.4s\n",
      "[CV 3/5] END ...........λ=105.26315789473684;, score=-261.025 total time=   0.4s\n",
      "[CV 4/5] END ...........λ=105.26315789473684;, score=-256.454 total time=   0.4s\n",
      "[CV 2/5] END ...........λ=131.57894736842104;, score=-259.593 total time=   0.4s\n",
      "[CV 5/5] END ...........λ=105.26315789473684;, score=-258.935 total time=   0.4s\n",
      "[CV 1/5] END ...........λ=131.57894736842104;, score=-254.761 total time=   0.4s\n",
      "[CV 3/5] END ...........λ=131.57894736842104;, score=-261.022 total time=   0.4s\n",
      "[CV 4/5] END ...........λ=131.57894736842104;, score=-256.455 total time=   0.4s\n",
      "[CV 2/5] END ...........λ=157.89473684210526;, score=-259.595 total time=   0.3s\n",
      "[CV 5/5] END ...........λ=131.57894736842104;, score=-258.929 total time=   0.4s\n",
      "[CV 1/5] END ...........λ=157.89473684210526;, score=-254.766 total time=   0.5s\n",
      "[CV 3/5] END ...........λ=157.89473684210526;, score=-261.019 total time=   0.4s\n",
      "[CV 4/5] END ...........λ=157.89473684210526;, score=-256.457 total time=   0.4s\n",
      "[CV 1/5] END ...........λ=184.21052631578945;, score=-254.772 total time=   0.3s\n",
      "[CV 5/5] END ...........λ=157.89473684210526;, score=-258.924 total time=   0.4s\n",
      "[CV 4/5] END ...........λ=184.21052631578945;, score=-256.458 total time=   0.4s\n",
      "[CV 5/5] END ...........λ=184.21052631578945;, score=-258.919 total time=   0.4s\n",
      "[CV 3/5] END ...........λ=184.21052631578945;, score=-261.016 total time=   0.5s\n",
      "[CV 2/5] END ...........λ=184.21052631578945;, score=-259.597 total time=   0.5s\n",
      "[CV 1/5] END ...........λ=210.52631578947367;, score=-254.777 total time=   0.4s\n",
      "[CV 3/5] END ...........λ=210.52631578947367;, score=-261.013 total time=   0.4s\n",
      "[CV 2/5] END ...........λ=210.52631578947367;, score=-259.599 total time=   0.4s\n",
      "[CV 4/5] END ...........λ=210.52631578947367;, score=-256.460 total time=   0.4s\n",
      "[CV 5/5] END ...........λ=210.52631578947367;, score=-258.914 total time=   0.4s\n",
      "[CV 1/5] END ............λ=236.8421052631579;, score=-254.783 total time=   0.4s\n",
      "[CV 3/5] END ............λ=236.8421052631579;, score=-261.010 total time=   0.4s\n",
      "[CV 2/5] END ............λ=236.8421052631579;, score=-259.601 total time=   0.4s\n",
      "[CV 1/5] END ............λ=263.1578947368421;, score=-254.789 total time=   0.4s\n",
      "[CV 5/5] END ............λ=236.8421052631579;, score=-258.909 total time=   0.4s\n",
      "[CV 4/5] END ............λ=236.8421052631579;, score=-256.461 total time=   0.4s\n",
      "[CV 2/5] END ............λ=263.1578947368421;, score=-259.604 total time=   0.4s\n",
      "[CV 3/5] END ............λ=263.1578947368421;, score=-261.008 total time=   0.4s\n",
      "[CV 4/5] END ............λ=263.1578947368421;, score=-256.463 total time=   0.4s\n",
      "[CV 5/5] END ............λ=263.1578947368421;, score=-258.905 total time=   0.4s\n",
      "[CV 1/5] END ............λ=289.4736842105263;, score=-254.796 total time=   0.4s\n",
      "[CV 2/5] END ............λ=289.4736842105263;, score=-259.607 total time=   0.4s\n",
      "[CV 4/5] END ............λ=289.4736842105263;, score=-256.465 total time=   0.4s\n",
      "[CV 3/5] END ............λ=289.4736842105263;, score=-261.006 total time=   0.4s\n",
      "[CV 5/5] END ............λ=289.4736842105263;, score=-258.901 total time=   0.4s\n",
      "[CV 1/5] END ............λ=315.7894736842105;, score=-254.802 total time=   0.4s\n",
      "[CV 4/5] END ............λ=315.7894736842105;, score=-256.468 total time=   0.3s\n",
      "[CV 2/5] END ............λ=315.7894736842105;, score=-259.610 total time=   0.4s\n",
      "[CV 3/5] END ............λ=315.7894736842105;, score=-261.004 total time=   0.4s\n",
      "[CV 5/5] END ............λ=315.7894736842105;, score=-258.897 total time=   0.4s\n",
      "[CV 1/5] END ...........λ=342.10526315789474;, score=-254.808 total time=   0.4s\n",
      "[CV 2/5] END ...........λ=342.10526315789474;, score=-259.613 total time=   0.4s\n",
      "[CV 3/5] END ...........λ=342.10526315789474;, score=-261.002 total time=   0.4s\n",
      "[CV 4/5] END ...........λ=342.10526315789474;, score=-256.470 total time=   0.4s\n",
      "[CV 5/5] END ...........λ=342.10526315789474;, score=-258.893 total time=   0.4s\n",
      "[CV 2/5] END ............λ=368.4210526315789;, score=-259.616 total time=   0.4s\n",
      "[CV 1/5] END ............λ=368.4210526315789;, score=-254.815 total time=   0.4s\n",
      "[CV 4/5] END ............λ=368.4210526315789;, score=-256.473 total time=   0.4s\n",
      "[CV 3/5] END ............λ=368.4210526315789;, score=-261.000 total time=   0.4s\n",
      "[CV 5/5] END ............λ=368.4210526315789;, score=-258.890 total time=   0.4s\n",
      "[CV 1/5] END ............λ=394.7368421052631;, score=-254.822 total time=   0.4s\n",
      "[CV 2/5] END ............λ=394.7368421052631;, score=-259.619 total time=   0.4s\n",
      "[CV 4/5] END ............λ=394.7368421052631;, score=-256.475 total time=   0.4s\n",
      "[CV 3/5] END ............λ=394.7368421052631;, score=-260.999 total time=   0.4s\n",
      "[CV 5/5] END ............λ=394.7368421052631;, score=-258.886 total time=   0.4s\n",
      "[CV 1/5] END ...........λ=421.05263157894734;, score=-254.829 total time=   0.4s\n",
      "[CV 2/5] END ...........λ=421.05263157894734;, score=-259.623 total time=   0.4s\n",
      "[CV 3/5] END ...........λ=421.05263157894734;, score=-260.997 total time=   0.4s\n",
      "[CV 4/5] END ...........λ=421.05263157894734;, score=-256.478 total time=   0.4s\n",
      "[CV 5/5] END ...........λ=421.05263157894734;, score=-258.883 total time=   0.4s\n",
      "[CV 1/5] END ...........λ=447.36842105263156;, score=-254.836 total time=   0.4s\n",
      "[CV 3/5] END ...........λ=447.36842105263156;, score=-260.996 total time=   0.3s\n",
      "[CV 5/5] END ...........λ=447.36842105263156;, score=-258.880 total time=   0.3s\n",
      "[CV 4/5] END ...........λ=447.36842105263156;, score=-256.481 total time=   0.4s\n",
      "[CV 1/5] END ............λ=473.6842105263158;, score=-254.843 total time=   0.4s\n",
      "[CV 2/5] END ...........λ=447.36842105263156;, score=-259.626 total time=   0.6s\n",
      "[CV 2/5] END ............λ=473.6842105263158;, score=-259.630 total time=   0.4s\n",
      "[CV 3/5] END ............λ=473.6842105263158;, score=-260.995 total time=   0.4s\n",
      "[CV 5/5] END ............λ=473.6842105263158;, score=-258.878 total time=   0.3s\n",
      "[CV 4/5] END ............λ=473.6842105263158;, score=-256.484 total time=   0.4s\n",
      "[CV 1/5] END ........................λ=500.0;, score=-254.851 total time=   0.3s\n",
      "[CV 2/5] END ........................λ=500.0;, score=-259.634 total time=   0.3s\n",
      "[CV 3/5] END ........................λ=500.0;, score=-260.994 total time=   0.3s\n",
      "[CV 4/5] END ........................λ=500.0;, score=-256.488 total time=   0.3s\n",
      "[CV 5/5] END ........................λ=500.0;, score=-258.875 total time=   0.3s\n"
     ]
    },
    {
     "data": {
      "text/html": [
       "<style>#sk-container-id-2 {color: black;}#sk-container-id-2 pre{padding: 0;}#sk-container-id-2 div.sk-toggleable {background-color: white;}#sk-container-id-2 label.sk-toggleable__label {cursor: pointer;display: block;width: 100%;margin-bottom: 0;padding: 0.3em;box-sizing: border-box;text-align: center;}#sk-container-id-2 label.sk-toggleable__label-arrow:before {content: \"▸\";float: left;margin-right: 0.25em;color: #696969;}#sk-container-id-2 label.sk-toggleable__label-arrow:hover:before {color: black;}#sk-container-id-2 div.sk-estimator:hover label.sk-toggleable__label-arrow:before {color: black;}#sk-container-id-2 div.sk-toggleable__content {max-height: 0;max-width: 0;overflow: hidden;text-align: left;background-color: #f0f8ff;}#sk-container-id-2 div.sk-toggleable__content pre {margin: 0.2em;color: black;border-radius: 0.25em;background-color: #f0f8ff;}#sk-container-id-2 input.sk-toggleable__control:checked~div.sk-toggleable__content {max-height: 200px;max-width: 100%;overflow: auto;}#sk-container-id-2 input.sk-toggleable__control:checked~label.sk-toggleable__label-arrow:before {content: \"▾\";}#sk-container-id-2 div.sk-estimator input.sk-toggleable__control:checked~label.sk-toggleable__label {background-color: #d4ebff;}#sk-container-id-2 div.sk-label input.sk-toggleable__control:checked~label.sk-toggleable__label {background-color: #d4ebff;}#sk-container-id-2 input.sk-hidden--visually {border: 0;clip: rect(1px 1px 1px 1px);clip: rect(1px, 1px, 1px, 1px);height: 1px;margin: -1px;overflow: hidden;padding: 0;position: absolute;width: 1px;}#sk-container-id-2 div.sk-estimator {font-family: monospace;background-color: #f0f8ff;border: 1px dotted black;border-radius: 0.25em;box-sizing: border-box;margin-bottom: 0.5em;}#sk-container-id-2 div.sk-estimator:hover {background-color: #d4ebff;}#sk-container-id-2 div.sk-parallel-item::after {content: \"\";width: 100%;border-bottom: 1px solid gray;flex-grow: 1;}#sk-container-id-2 div.sk-label:hover label.sk-toggleable__label {background-color: #d4ebff;}#sk-container-id-2 div.sk-serial::before {content: \"\";position: absolute;border-left: 1px solid gray;box-sizing: border-box;top: 0;bottom: 0;left: 50%;z-index: 0;}#sk-container-id-2 div.sk-serial {display: flex;flex-direction: column;align-items: center;background-color: white;padding-right: 0.2em;padding-left: 0.2em;position: relative;}#sk-container-id-2 div.sk-item {position: relative;z-index: 1;}#sk-container-id-2 div.sk-parallel {display: flex;align-items: stretch;justify-content: center;background-color: white;position: relative;}#sk-container-id-2 div.sk-item::before, #sk-container-id-2 div.sk-parallel-item::before {content: \"\";position: absolute;border-left: 1px solid gray;box-sizing: border-box;top: 0;bottom: 0;left: 50%;z-index: -1;}#sk-container-id-2 div.sk-parallel-item {display: flex;flex-direction: column;z-index: 1;position: relative;background-color: white;}#sk-container-id-2 div.sk-parallel-item:first-child::after {align-self: flex-end;width: 50%;}#sk-container-id-2 div.sk-parallel-item:last-child::after {align-self: flex-start;width: 50%;}#sk-container-id-2 div.sk-parallel-item:only-child::after {width: 0;}#sk-container-id-2 div.sk-dashed-wrapped {border: 1px dashed gray;margin: 0 0.4em 0.5em 0.4em;box-sizing: border-box;padding-bottom: 0.4em;background-color: white;}#sk-container-id-2 div.sk-label label {font-family: monospace;font-weight: bold;display: inline-block;line-height: 1.2em;}#sk-container-id-2 div.sk-label-container {text-align: center;}#sk-container-id-2 div.sk-container {/* jupyter's `normalize.less` sets `[hidden] { display: none; }` but bootstrap.min.css set `[hidden] { display: none !important; }` so we also need the `!important` here to be able to override the default hidden behavior on the sphinx rendered scikit-learn.org. See: https://github.com/scikit-learn/scikit-learn/issues/21755 */display: inline-block !important;position: relative;}#sk-container-id-2 div.sk-text-repr-fallback {display: none;}</style><div id=\"sk-container-id-2\" class=\"sk-top-container\"><div class=\"sk-text-repr-fallback\"><pre>GridSearchCV(cv=5, estimator=RR(), n_jobs=-1,\n",
       "             param_grid={&#x27;λ&#x27;: array([  0.        ,  26.31578947,  52.63157895,  78.94736842,\n",
       "       105.26315789, 131.57894737, 157.89473684, 184.21052632,\n",
       "       210.52631579, 236.84210526, 263.15789474, 289.47368421,\n",
       "       315.78947368, 342.10526316, 368.42105263, 394.73684211,\n",
       "       421.05263158, 447.36842105, 473.68421053, 500.        ])},\n",
       "             scoring=&#x27;neg_mean_squared_error&#x27;, verbose=3)</pre><b>In a Jupyter environment, please rerun this cell to show the HTML representation or trust the notebook. <br />On GitHub, the HTML representation is unable to render, please try loading this page with nbviewer.org.</b></div><div class=\"sk-container\" hidden><div class=\"sk-item sk-dashed-wrapped\"><div class=\"sk-label-container\"><div class=\"sk-label sk-toggleable\"><input class=\"sk-toggleable__control sk-hidden--visually\" id=\"sk-estimator-id-4\" type=\"checkbox\" ><label for=\"sk-estimator-id-4\" class=\"sk-toggleable__label sk-toggleable__label-arrow\">GridSearchCV</label><div class=\"sk-toggleable__content\"><pre>GridSearchCV(cv=5, estimator=RR(), n_jobs=-1,\n",
       "             param_grid={&#x27;λ&#x27;: array([  0.        ,  26.31578947,  52.63157895,  78.94736842,\n",
       "       105.26315789, 131.57894737, 157.89473684, 184.21052632,\n",
       "       210.52631579, 236.84210526, 263.15789474, 289.47368421,\n",
       "       315.78947368, 342.10526316, 368.42105263, 394.73684211,\n",
       "       421.05263158, 447.36842105, 473.68421053, 500.        ])},\n",
       "             scoring=&#x27;neg_mean_squared_error&#x27;, verbose=3)</pre></div></div></div><div class=\"sk-parallel\"><div class=\"sk-parallel-item\"><div class=\"sk-item\"><div class=\"sk-label-container\"><div class=\"sk-label sk-toggleable\"><input class=\"sk-toggleable__control sk-hidden--visually\" id=\"sk-estimator-id-5\" type=\"checkbox\" ><label for=\"sk-estimator-id-5\" class=\"sk-toggleable__label sk-toggleable__label-arrow\">estimator: RR</label><div class=\"sk-toggleable__content\"><pre>RR()</pre></div></div></div><div class=\"sk-serial\"><div class=\"sk-item\"><div class=\"sk-estimator sk-toggleable\"><input class=\"sk-toggleable__control sk-hidden--visually\" id=\"sk-estimator-id-6\" type=\"checkbox\" ><label for=\"sk-estimator-id-6\" class=\"sk-toggleable__label sk-toggleable__label-arrow\">RR</label><div class=\"sk-toggleable__content\"><pre>RR()</pre></div></div></div></div></div></div></div></div></div></div>"
      ],
      "text/plain": [
       "GridSearchCV(cv=5, estimator=RR(), n_jobs=-1,\n",
       "             param_grid={'λ': array([  0.        ,  26.31578947,  52.63157895,  78.94736842,\n",
       "       105.26315789, 131.57894737, 157.89473684, 184.21052632,\n",
       "       210.52631579, 236.84210526, 263.15789474, 289.47368421,\n",
       "       315.78947368, 342.10526316, 368.42105263, 394.73684211,\n",
       "       421.05263158, 447.36842105, 473.68421053, 500.        ])},\n",
       "             scoring='neg_mean_squared_error', verbose=3)"
      ]
     },
     "execution_count": 35,
     "metadata": {},
     "output_type": "execute_result"
    }
   ],
   "source": [
    "λ_grid = np.linspace(0, 500, num=20)\n",
    "\n",
    "learner = GridSearchCV(estimator=RR(), n_jobs=-1, param_grid={'λ': λ_grid}, scoring='neg_mean_squared_error', cv=5, verbose=CV_verbose_param)\n",
    "learner.fit(X_train, y_train)"
   ]
  },
  {
   "cell_type": "code",
   "execution_count": 36,
   "metadata": {},
   "outputs": [
    {
     "name": "stdout",
     "output_type": "stream",
     "text": [
      "Best hyperparams is λ = 131.57894736842104 with a score of -258.1520621284485\n"
     ]
    }
   ],
   "source": [
    "print(f'Best hyperparams is λ = {learner.best_params_[\"λ\"]} with a score of {learner.best_score_}')"
   ]
  },
  {
   "cell_type": "code",
   "execution_count": 37,
   "metadata": {},
   "outputs": [
    {
     "data": {
      "image/png": "[encoded data removed]",
      "text/plain": [
       "<Figure size 720x432 with 1 Axes>"
      ]
     },
     "metadata": {
      "needs_background": "light"
     },
     "output_type": "display_data"
    }
   ],
   "source": [
    "fig, ax = plt.subplots()\n",
    "fig.set_figwidth(10)\n",
    "fig.set_figheight(6)\n",
    "ax.plot(learner.cv_results_['param_λ'].data, learner.cv_results_['mean_test_score'])\n",
    "ax.plot(learner.best_params_['λ'], learner.best_score_, 'ro', label=\"best hyperparamater\") \n",
    "ax.set(xlabel='λ', ylabel='neg_mean_squared_error', title='negated MSE score varying λ')\n",
    "plt.legend()\n",
    "plt.show()"
   ]
  },
  {
   "cell_type": "code",
   "execution_count": 38,
   "metadata": {},
   "outputs": [],
   "source": [
    "def print_performance(y_test, y_prediction):\n",
    "    print('MSE :', mean_squared_error(y_test, y_prediction))\n",
    "    print('MAE :', mean_absolute_error(y_test, y_prediction))\n",
    "    print(' R2 :', r2_score(y_test, y_prediction))"
   ]
  },
  {
   "cell_type": "code",
   "execution_count": 39,
   "metadata": {},
   "outputs": [
    {
     "name": "stdout",
     "output_type": "stream",
     "text": [
      "MSE : 259.4665233971886\n",
      "MAE : 11.926071759531634\n",
      " R2 : 0.3860327640836603\n"
     ]
    }
   ],
   "source": [
    "rr = learner.best_estimator_\n",
    "rr.fit(X_train, y_train)\n",
    "y_prediction = rr.predict(X_test)\n",
    "\n",
    "print_performance(y_test, y_prediction)"
   ]
  },
  {
   "cell_type": "code",
   "execution_count": 40,
   "metadata": {},
   "outputs": [],
   "source": [
    "def residuals_analysis(y_test, y_prediction):\n",
    "    \n",
    "    residuals = y_test - y_prediction\n",
    "\n",
    "    q1 = np.quantile(residuals, 0.25)\n",
    "    q2 = np.quantile(residuals, 0.5)\n",
    "    q3 = np.quantile(residuals, 0.75)\n",
    "    iqr = q3 - q1\n",
    "\n",
    "    print(f'q1          : {q1}')\n",
    "    print(f'q2 (median) : {q2}')\n",
    "    print(f'q3          : {q3}')\n",
    "    print(f'IQR         : {iqr}')\n",
    "\n",
    "    fig, ax = plt.subplots()\n",
    "    fig.set_figwidth(8)\n",
    "    fig.set_figheight(5)\n",
    "    n, _, _  = ax.hist(residuals, density=True, bins=100)\n",
    "    plt.errorbar(q2, max(n) + 0.002, xerr = [[q2-q1],[q3-q2]], fmt ='o', label=\"IQR\") \n",
    "    plt.xlabel(\"residual (test - prediction)\")\n",
    "    plt.ylabel(\"relative frequency\")\n",
    "    plt.title(\"Density plot of the residuals\")\n",
    "    plt.legend()\n",
    "    plt.show()"
   ]
  },
  {
   "cell_type": "code",
   "execution_count": 41,
   "metadata": {},
   "outputs": [
    {
     "name": "stdout",
     "output_type": "stream",
     "text": [
      "q1          : -8.87394727177869\n",
      "q2 (median) : -1.0336160711015963\n",
      "q3          : 8.576275574386862\n",
      "IQR         : 17.450222846165552\n"
     ]
    },
    {
     "data": {
      "image/png": "[encoded data removed]",
      "text/plain": [
       "<Figure size 576x360 with 1 Axes>"
      ]
     },
     "metadata": {
      "needs_background": "light"
     },
     "output_type": "display_data"
    }
   ],
   "source": [
    "residuals_analysis(y_test, y_prediction)"
   ]
  },
  {
   "cell_type": "markdown",
   "metadata": {},
   "source": [
    "## *Kernel Ridge Regression* on *Spotify Tracks Dataset*"
   ]
  },
  {
   "cell_type": "markdown",
   "metadata": {},
   "source": [
    "Warning : some of the cells below will take 2-3 minutes to run"
   ]
  },
  {
   "cell_type": "code",
   "execution_count": 42,
   "metadata": {},
   "outputs": [],
   "source": [
    "from kernel_ridge_regression import KRR"
   ]
  },
  {
   "cell_type": "markdown",
   "metadata": {},
   "source": [
    "We run KRR just on samples of the dataset because, otherwise, it would get too computationally expensive "
   ]
  },
  {
   "cell_type": "code",
   "execution_count": 43,
   "metadata": {},
   "outputs": [],
   "source": [
    "train_sample_size = 5000\n",
    "test_sample_size = 1000\n",
    "\n",
    "X_train_sample = X_train.sample(n=train_sample_size, random_state=1)\n",
    "y_train_sample = pd.Series(data = [y_train[i] for i in X_train_sample.index], index = X_train_sample.index)\n",
    "\n",
    "X_test_sample = X_test.sample(n=test_sample_size, random_state=1)\n",
    "y_test_sample = pd.Series(data = [y_test[i] for i in X_test_sample.index], index = X_test_sample.index)"
   ]
  },
  {
   "cell_type": "markdown",
   "metadata": {},
   "source": [
    "### Hyperparameters tuning"
   ]
  },
  {
   "cell_type": "code",
   "execution_count": 44,
   "metadata": {},
   "outputs": [
    {
     "name": "stdout",
     "output_type": "stream",
     "text": [
      "Fitting 5 folds for each of 25 candidates, totalling 125 fits\n",
      "[CV 1/5] END .................γ=1.0, λ=0.01;, score=-1559.430 total time=  13.5s\n",
      "[CV 4/5] END .................γ=1.0, λ=0.01;, score=-1524.620 total time=  13.9s\n",
      "[CV 2/5] END .................γ=1.0, λ=0.01;, score=-1468.907 total time=  14.0s\n",
      "[CV 2/5] END ..................γ=1.0, λ=0.1;, score=-1468.907 total time=  13.9s\n",
      "[CV 3/5] END .................γ=1.0, λ=0.01;, score=-1622.865 total time=  14.0s\n",
      "[CV 5/5] END .................γ=1.0, λ=0.01;, score=-1508.147 total time=  14.1s\n",
      "[CV 1/5] END ..................γ=1.0, λ=0.1;, score=-1559.430 total time=  14.1s\n",
      "[CV 3/5] END ..................γ=1.0, λ=0.1;, score=-1622.865 total time=  14.1s\n"
     ]
    },
    {
     "name": "stderr",
     "output_type": "stream",
     "text": [
      "/Library/Frameworks/Python.framework/Versions/3.10/lib/python3.10/site-packages/joblib/externals/loky/process_executor.py:752: UserWarning: A worker stopped while some jobs were given to the executor. This can be caused by a too short worker timeout or by a memory leak.\n",
      "  warnings.warn(\n"
     ]
    },
    {
     "name": "stdout",
     "output_type": "stream",
     "text": [
      "[CV 4/5] END ..................γ=1.0, λ=0.1;, score=-1524.620 total time=  14.0s\n",
      "[CV 3/5] END ..................γ=1.0, λ=1.0;, score=-1622.865 total time=  13.8s\n",
      "[CV 1/5] END ..................γ=1.0, λ=1.0;, score=-1559.430 total time=  14.1s\n",
      "[CV 2/5] END ..................γ=1.0, λ=1.0;, score=-1468.907 total time=  14.3s\n",
      "[CV 5/5] END ..................γ=1.0, λ=0.1;, score=-1508.147 total time=  14.5s\n",
      "[CV 4/5] END ..................γ=1.0, λ=1.0;, score=-1524.620 total time=  14.5s\n",
      "[CV 5/5] END ..................γ=1.0, λ=1.0;, score=-1508.147 total time=  14.4s\n",
      "[CV 1/5] END .................γ=1.0, λ=10.0;, score=-1559.430 total time=  14.4s\n",
      "[CV 2/5] END .................γ=1.0, λ=10.0;, score=-1468.907 total time=  14.5s\n",
      "[CV 1/5] END ................γ=1.0, λ=100.0;, score=-1559.430 total time=  14.0s\n",
      "[CV 5/5] END .................γ=1.0, λ=10.0;, score=-1508.147 total time=  14.2s\n",
      "[CV 3/5] END .................γ=1.0, λ=10.0;, score=-1622.865 total time=  14.4s\n",
      "[CV 4/5] END .................γ=1.0, λ=10.0;, score=-1524.620 total time=  14.9s\n",
      "[CV 2/5] END ................γ=1.0, λ=100.0;, score=-1468.907 total time=  14.3s\n",
      "[CV 4/5] END ................γ=1.0, λ=100.0;, score=-1524.620 total time=  14.7s\n",
      "[CV 3/5] END ................γ=1.0, λ=100.0;, score=-1622.865 total time=  15.0s\n",
      "[CV 5/5] END ................γ=1.0, λ=100.0;, score=-1508.147 total time=  14.0s\n",
      "[CV 1/5] END ................γ=10.0, λ=0.01;, score=-1410.415 total time=  14.0s\n",
      "[CV 3/5] END ................γ=10.0, λ=0.01;, score=-1470.244 total time=  14.1s\n",
      "[CV 2/5] END ................γ=10.0, λ=0.01;, score=-1324.361 total time=  14.3s\n",
      "[CV 4/5] END ................γ=10.0, λ=0.01;, score=-1382.649 total time=  14.4s\n",
      "[CV 5/5] END ................γ=10.0, λ=0.01;, score=-1362.942 total time=  14.4s\n",
      "[CV 2/5] END .................γ=10.0, λ=0.1;, score=-1334.657 total time=  13.8s\n",
      "[CV 1/5] END .................γ=10.0, λ=0.1;, score=-1421.066 total time=  14.3s\n",
      "[CV 3/5] END .................γ=10.0, λ=0.1;, score=-1481.084 total time=  13.8s\n",
      "[CV 4/5] END .................γ=10.0, λ=0.1;, score=-1392.715 total time=  13.6s\n",
      "[CV 1/5] END .................γ=10.0, λ=1.0;, score=-1478.705 total time=  13.8s\n",
      "[CV 5/5] END .................γ=10.0, λ=0.1;, score=-1373.352 total time=  14.0s\n",
      "[CV 2/5] END .................γ=10.0, λ=1.0;, score=-1390.485 total time=  13.9s\n",
      "[CV 3/5] END .................γ=10.0, λ=1.0;, score=-1539.941 total time=  13.7s\n",
      "[CV 4/5] END .................γ=10.0, λ=1.0;, score=-1447.440 total time=  13.5s\n",
      "[CV 5/5] END .................γ=10.0, λ=1.0;, score=-1429.598 total time=  14.1s\n",
      "[CV 1/5] END ................γ=10.0, λ=10.0;, score=-1543.786 total time=  13.4s\n",
      "[CV 2/5] END ................γ=10.0, λ=10.0;, score=-1453.694 total time=  13.4s\n",
      "[CV 4/5] END ................γ=10.0, λ=10.0;, score=-1509.626 total time=  13.6s\n",
      "[CV 3/5] END ................γ=10.0, λ=10.0;, score=-1606.755 total time=  14.0s\n",
      "[CV 5/5] END ................γ=10.0, λ=10.0;, score=-1492.943 total time=  13.8s\n",
      "[CV 2/5] END ...............γ=10.0, λ=100.0;, score=-1467.228 total time=  13.3s\n",
      "[CV 1/5] END ...............γ=10.0, λ=100.0;, score=-1557.703 total time=  13.6s\n",
      "[CV 3/5] END ...............γ=10.0, λ=100.0;, score=-1621.086 total time=  14.1s\n",
      "[CV 4/5] END ...............γ=10.0, λ=100.0;, score=-1522.964 total time=  12.8s\n",
      "[CV 5/5] END ...............γ=10.0, λ=100.0;, score=-1506.469 total time=  13.4s\n",
      "[CV 1/5] END ................γ=100.0, λ=0.01;, score=-270.098 total time=  12.9s\n",
      "[CV 2/5] END ................γ=100.0, λ=0.01;, score=-275.161 total time=  13.9s\n",
      "[CV 3/5] END ................γ=100.0, λ=0.01;, score=-278.705 total time=  13.7s\n",
      "[CV 5/5] END ................γ=100.0, λ=0.01;, score=-250.590 total time=  13.4s\n",
      "[CV 4/5] END ................γ=100.0, λ=0.01;, score=-264.605 total time=  13.9s\n",
      "[CV 1/5] END .................γ=100.0, λ=0.1;, score=-260.795 total time=  13.6s\n",
      "[CV 2/5] END .................γ=100.0, λ=0.1;, score=-268.693 total time=  13.4s\n",
      "[CV 4/5] END .................γ=100.0, λ=0.1;, score=-257.554 total time=  13.3s\n",
      "[CV 3/5] END .................γ=100.0, λ=0.1;, score=-270.085 total time=  13.9s\n",
      "[CV 2/5] END .................γ=100.0, λ=1.0;, score=-278.403 total time=  13.3s\n",
      "[CV 5/5] END .................γ=100.0, λ=0.1;, score=-244.741 total time=  13.8s\n",
      "[CV 3/5] END .................γ=100.0, λ=1.0;, score=-271.239 total time=  13.2s\n",
      "[CV 1/5] END .................γ=100.0, λ=1.0;, score=-263.270 total time=  13.9s\n",
      "[CV 4/5] END .................γ=100.0, λ=1.0;, score=-264.643 total time=  13.9s\n",
      "[CV 5/5] END .................γ=100.0, λ=1.0;, score=-249.190 total time=  13.0s\n",
      "[CV 1/5] END ................γ=100.0, λ=10.0;, score=-327.058 total time=  13.6s\n",
      "[CV 2/5] END ................γ=100.0, λ=10.0;, score=-324.372 total time=  13.9s\n",
      "[CV 3/5] END ................γ=100.0, λ=10.0;, score=-331.121 total time=  13.6s\n",
      "[CV 4/5] END ................γ=100.0, λ=10.0;, score=-320.678 total time=  13.9s\n",
      "[CV 5/5] END ................γ=100.0, λ=10.0;, score=-303.439 total time=  13.8s\n",
      "[CV 1/5] END ...............γ=100.0, λ=100.0;, score=-465.684 total time=  13.9s\n",
      "[CV 2/5] END ...............γ=100.0, λ=100.0;, score=-429.188 total time=  13.6s\n",
      "[CV 3/5] END ...............γ=100.0, λ=100.0;, score=-476.099 total time=  13.9s\n",
      "[CV 4/5] END ...............γ=100.0, λ=100.0;, score=-445.314 total time=  14.1s\n",
      "[CV 5/5] END ...............γ=100.0, λ=100.0;, score=-429.385 total time=  14.0s\n",
      "[CV 1/5] END ...............γ=1000.0, λ=0.01;, score=-255.189 total time=  14.3s\n",
      "[CV 2/5] END ...............γ=1000.0, λ=0.01;, score=-267.106 total time=  14.1s\n",
      "[CV 3/5] END ...............γ=1000.0, λ=0.01;, score=-260.869 total time=  14.1s\n",
      "[CV 4/5] END ...............γ=1000.0, λ=0.01;, score=-259.710 total time=  14.1s\n",
      "[CV 5/5] END ...............γ=1000.0, λ=0.01;, score=-245.653 total time=  14.2s\n",
      "[CV 1/5] END ................γ=1000.0, λ=0.1;, score=-256.513 total time=  13.7s\n",
      "[CV 2/5] END ................γ=1000.0, λ=0.1;, score=-283.845 total time=  13.9s\n",
      "[CV 3/5] END ................γ=1000.0, λ=0.1;, score=-264.046 total time=  13.4s\n",
      "[CV 4/5] END ................γ=1000.0, λ=0.1;, score=-266.297 total time=  14.0s\n",
      "[CV 5/5] END ................γ=1000.0, λ=0.1;, score=-253.407 total time=  13.9s\n",
      "[CV 1/5] END ................γ=1000.0, λ=1.0;, score=-269.984 total time=  14.1s\n",
      "[CV 2/5] END ................γ=1000.0, λ=1.0;, score=-295.151 total time=  14.1s\n",
      "[CV 3/5] END ................γ=1000.0, λ=1.0;, score=-274.016 total time=  13.8s\n",
      "[CV 4/5] END ................γ=1000.0, λ=1.0;, score=-279.877 total time=  14.2s\n",
      "[CV 1/5] END ...............γ=1000.0, λ=10.0;, score=-340.302 total time=  13.7s\n",
      "[CV 5/5] END ................γ=1000.0, λ=1.0;, score=-266.211 total time=  13.8s\n",
      "[CV 5/5] END ...............γ=1000.0, λ=10.0;, score=-333.713 total time=  13.6s\n",
      "[CV 3/5] END ...............γ=1000.0, λ=10.0;, score=-344.552 total time=  14.3s\n",
      "[CV 2/5] END ...............γ=1000.0, λ=10.0;, score=-349.629 total time=  14.6s\n",
      "[CV 4/5] END ...............γ=1000.0, λ=10.0;, score=-347.308 total time=  14.3s\n",
      "[CV 1/5] END ..............γ=1000.0, λ=100.0;, score=-407.820 total time=  14.1s\n",
      "[CV 2/5] END ..............γ=1000.0, λ=100.0;, score=-405.557 total time=  13.8s\n",
      "[CV 4/5] END ..............γ=1000.0, λ=100.0;, score=-412.040 total time=  13.4s\n",
      "[CV 3/5] END ..............γ=1000.0, λ=100.0;, score=-415.718 total time=  13.7s\n",
      "[CV 1/5] END ..............γ=10000.0, λ=0.01;, score=-264.427 total time=  13.8s\n",
      "[CV 5/5] END ..............γ=1000.0, λ=100.0;, score=-397.365 total time=  14.0s\n",
      "[CV 2/5] END ..............γ=10000.0, λ=0.01;, score=-297.367 total time=  13.8s\n",
      "[CV 3/5] END ..............γ=10000.0, λ=0.01;, score=-270.004 total time=  14.2s\n",
      "[CV 4/5] END ..............γ=10000.0, λ=0.01;, score=-275.000 total time=  14.0s\n",
      "[CV 5/5] END ..............γ=10000.0, λ=0.01;, score=-263.180 total time=  14.2s\n",
      "[CV 1/5] END ...............γ=10000.0, λ=0.1;, score=-271.316 total time=  13.7s\n",
      "[CV 2/5] END ...............γ=10000.0, λ=0.1;, score=-297.831 total time=  13.7s\n",
      "[CV 5/5] END ...............γ=10000.0, λ=0.1;, score=-268.970 total time=  13.9s\n",
      "[CV 3/5] END ...............γ=10000.0, λ=0.1;, score=-275.299 total time=  14.2s\n",
      "[CV 4/5] END ...............γ=10000.0, λ=0.1;, score=-282.224 total time=  14.3s\n",
      "[CV 1/5] END ...............γ=10000.0, λ=1.0;, score=-334.266 total time=  14.6s\n",
      "[CV 2/5] END ...............γ=10000.0, λ=1.0;, score=-346.248 total time=  13.9s\n",
      "[CV 3/5] END ...............γ=10000.0, λ=1.0;, score=-338.198 total time=  13.4s\n",
      "[CV 4/5] END ...............γ=10000.0, λ=1.0;, score=-343.134 total time=  13.8s\n",
      "[CV 5/5] END ...............γ=10000.0, λ=1.0;, score=-329.791 total time=  13.9s\n",
      "[CV 1/5] END ..............γ=10000.0, λ=10.0;, score=-401.899 total time=  13.5s\n",
      "[CV 2/5] END ..............γ=10000.0, λ=10.0;, score=-405.839 total time=  13.9s\n",
      "[CV 3/5] END ..............γ=10000.0, λ=10.0;, score=-408.443 total time=  14.0s\n",
      "[CV 4/5] END ..............γ=10000.0, λ=10.0;, score=-409.796 total time=  13.7s\n",
      "[CV 5/5] END ..............γ=10000.0, λ=10.0;, score=-395.418 total time=  13.8s\n",
      "[CV 1/5] END .............γ=10000.0, λ=100.0;, score=-416.404 total time=  11.2s\n",
      "[CV 2/5] END .............γ=10000.0, λ=100.0;, score=-416.492 total time=  10.7s\n",
      "[CV 3/5] END .............γ=10000.0, λ=100.0;, score=-425.037 total time=  10.8s\n",
      "[CV 4/5] END .............γ=10000.0, λ=100.0;, score=-422.969 total time=   9.3s\n",
      "[CV 5/5] END .............γ=10000.0, λ=100.0;, score=-408.269 total time=   8.8s\n"
     ]
    },
    {
     "data": {
      "text/html": [
       "<style>#sk-container-id-3 {color: black;}#sk-container-id-3 pre{padding: 0;}#sk-container-id-3 div.sk-toggleable {background-color: white;}#sk-container-id-3 label.sk-toggleable__label {cursor: pointer;display: block;width: 100%;margin-bottom: 0;padding: 0.3em;box-sizing: border-box;text-align: center;}#sk-container-id-3 label.sk-toggleable__label-arrow:before {content: \"▸\";float: left;margin-right: 0.25em;color: #696969;}#sk-container-id-3 label.sk-toggleable__label-arrow:hover:before {color: black;}#sk-container-id-3 div.sk-estimator:hover label.sk-toggleable__label-arrow:before {color: black;}#sk-container-id-3 div.sk-toggleable__content {max-height: 0;max-width: 0;overflow: hidden;text-align: left;background-color: #f0f8ff;}#sk-container-id-3 div.sk-toggleable__content pre {margin: 0.2em;color: black;border-radius: 0.25em;background-color: #f0f8ff;}#sk-container-id-3 input.sk-toggleable__control:checked~div.sk-toggleable__content {max-height: 200px;max-width: 100%;overflow: auto;}#sk-container-id-3 input.sk-toggleable__control:checked~label.sk-toggleable__label-arrow:before {content: \"▾\";}#sk-container-id-3 div.sk-estimator input.sk-toggleable__control:checked~label.sk-toggleable__label {background-color: #d4ebff;}#sk-container-id-3 div.sk-label input.sk-toggleable__control:checked~label.sk-toggleable__label {background-color: #d4ebff;}#sk-container-id-3 input.sk-hidden--visually {border: 0;clip: rect(1px 1px 1px 1px);clip: rect(1px, 1px, 1px, 1px);height: 1px;margin: -1px;overflow: hidden;padding: 0;position: absolute;width: 1px;}#sk-container-id-3 div.sk-estimator {font-family: monospace;background-color: #f0f8ff;border: 1px dotted black;border-radius: 0.25em;box-sizing: border-box;margin-bottom: 0.5em;}#sk-container-id-3 div.sk-estimator:hover {background-color: #d4ebff;}#sk-container-id-3 div.sk-parallel-item::after {content: \"\";width: 100%;border-bottom: 1px solid gray;flex-grow: 1;}#sk-container-id-3 div.sk-label:hover label.sk-toggleable__label {background-color: #d4ebff;}#sk-container-id-3 div.sk-serial::before {content: \"\";position: absolute;border-left: 1px solid gray;box-sizing: border-box;top: 0;bottom: 0;left: 50%;z-index: 0;}#sk-container-id-3 div.sk-serial {display: flex;flex-direction: column;align-items: center;background-color: white;padding-right: 0.2em;padding-left: 0.2em;position: relative;}#sk-container-id-3 div.sk-item {position: relative;z-index: 1;}#sk-container-id-3 div.sk-parallel {display: flex;align-items: stretch;justify-content: center;background-color: white;position: relative;}#sk-container-id-3 div.sk-item::before, #sk-container-id-3 div.sk-parallel-item::before {content: \"\";position: absolute;border-left: 1px solid gray;box-sizing: border-box;top: 0;bottom: 0;left: 50%;z-index: -1;}#sk-container-id-3 div.sk-parallel-item {display: flex;flex-direction: column;z-index: 1;position: relative;background-color: white;}#sk-container-id-3 div.sk-parallel-item:first-child::after {align-self: flex-end;width: 50%;}#sk-container-id-3 div.sk-parallel-item:last-child::after {align-self: flex-start;width: 50%;}#sk-container-id-3 div.sk-parallel-item:only-child::after {width: 0;}#sk-container-id-3 div.sk-dashed-wrapped {border: 1px dashed gray;margin: 0 0.4em 0.5em 0.4em;box-sizing: border-box;padding-bottom: 0.4em;background-color: white;}#sk-container-id-3 div.sk-label label {font-family: monospace;font-weight: bold;display: inline-block;line-height: 1.2em;}#sk-container-id-3 div.sk-label-container {text-align: center;}#sk-container-id-3 div.sk-container {/* jupyter's `normalize.less` sets `[hidden] { display: none; }` but bootstrap.min.css set `[hidden] { display: none !important; }` so we also need the `!important` here to be able to override the default hidden behavior on the sphinx rendered scikit-learn.org. See: https://github.com/scikit-learn/scikit-learn/issues/21755 */display: inline-block !important;position: relative;}#sk-container-id-3 div.sk-text-repr-fallback {display: none;}</style><div id=\"sk-container-id-3\" class=\"sk-top-container\"><div class=\"sk-text-repr-fallback\"><pre>GridSearchCV(cv=5, estimator=KRR(), n_jobs=-1,\n",
       "             param_grid={&#x27;γ&#x27;: array([1.e+00, 1.e+01, 1.e+02, 1.e+03, 1.e+04]),\n",
       "                         &#x27;λ&#x27;: array([1.e-02, 1.e-01, 1.e+00, 1.e+01, 1.e+02])},\n",
       "             scoring=&#x27;neg_mean_squared_error&#x27;, verbose=3)</pre><b>In a Jupyter environment, please rerun this cell to show the HTML representation or trust the notebook. <br />On GitHub, the HTML representation is unable to render, please try loading this page with nbviewer.org.</b></div><div class=\"sk-container\" hidden><div class=\"sk-item sk-dashed-wrapped\"><div class=\"sk-label-container\"><div class=\"sk-label sk-toggleable\"><input class=\"sk-toggleable__control sk-hidden--visually\" id=\"sk-estimator-id-7\" type=\"checkbox\" ><label for=\"sk-estimator-id-7\" class=\"sk-toggleable__label sk-toggleable__label-arrow\">GridSearchCV</label><div class=\"sk-toggleable__content\"><pre>GridSearchCV(cv=5, estimator=KRR(), n_jobs=-1,\n",
       "             param_grid={&#x27;γ&#x27;: array([1.e+00, 1.e+01, 1.e+02, 1.e+03, 1.e+04]),\n",
       "                         &#x27;λ&#x27;: array([1.e-02, 1.e-01, 1.e+00, 1.e+01, 1.e+02])},\n",
       "             scoring=&#x27;neg_mean_squared_error&#x27;, verbose=3)</pre></div></div></div><div class=\"sk-parallel\"><div class=\"sk-parallel-item\"><div class=\"sk-item\"><div class=\"sk-label-container\"><div class=\"sk-label sk-toggleable\"><input class=\"sk-toggleable__control sk-hidden--visually\" id=\"sk-estimator-id-8\" type=\"checkbox\" ><label for=\"sk-estimator-id-8\" class=\"sk-toggleable__label sk-toggleable__label-arrow\">estimator: KRR</label><div class=\"sk-toggleable__content\"><pre>KRR()</pre></div></div></div><div class=\"sk-serial\"><div class=\"sk-item\"><div class=\"sk-estimator sk-toggleable\"><input class=\"sk-toggleable__control sk-hidden--visually\" id=\"sk-estimator-id-9\" type=\"checkbox\" ><label for=\"sk-estimator-id-9\" class=\"sk-toggleable__label sk-toggleable__label-arrow\">KRR</label><div class=\"sk-toggleable__content\"><pre>KRR()</pre></div></div></div></div></div></div></div></div></div></div>"
      ],
      "text/plain": [
       "GridSearchCV(cv=5, estimator=KRR(), n_jobs=-1,\n",
       "             param_grid={'γ': array([1.e+00, 1.e+01, 1.e+02, 1.e+03, 1.e+04]),\n",
       "                         'λ': array([1.e-02, 1.e-01, 1.e+00, 1.e+01, 1.e+02])},\n",
       "             scoring='neg_mean_squared_error', verbose=3)"
      ]
     },
     "execution_count": 44,
     "metadata": {},
     "output_type": "execute_result"
    }
   ],
   "source": [
    "λ_grid = 10. ** np.arange(-2, 3) \n",
    "γ_grid = 10. ** np.arange(0, 5) \n",
    "\n",
    "learner = GridSearchCV(estimator=KRR(), n_jobs=-1, param_grid={'λ': λ_grid, 'γ': γ_grid}, scoring='neg_mean_squared_error', cv=5, verbose=CV_verbose_param)\n",
    "learner.fit(X_train_sample, y_train_sample)"
   ]
  },
  {
   "cell_type": "code",
   "execution_count": 45,
   "metadata": {},
   "outputs": [
    {
     "name": "stdout",
     "output_type": "stream",
     "text": [
      "Best hyperparams are λ = 0.01 and γ = 1000.0 with a score of -257.7052633465789\n"
     ]
    }
   ],
   "source": [
    "print(f'Best hyperparams are λ = {learner.best_params_[\"λ\"]} and γ = {learner.best_params_[\"γ\"]} with a score of {learner.best_score_}')"
   ]
  },
  {
   "cell_type": "code",
   "execution_count": 46,
   "metadata": {},
   "outputs": [
    {
     "data": {
      "image/png": "[encoded data removed]",
      "text/plain": [
       "<Figure size 720x432 with 1 Axes>"
      ]
     },
     "metadata": {
      "needs_background": "light"
     },
     "output_type": "display_data"
    }
   ],
   "source": [
    "score = learner.cv_results_['mean_test_score']\n",
    "\n",
    "dict_λ = {}\n",
    "for v in set(learner.cv_results_['param_λ'].data):\n",
    "    dict_λ[v] = (sorted(set(learner.cv_results_['param_γ'].data)), [])\n",
    "for i, p in enumerate(learner.cv_results_['params']):\n",
    "    dict_λ[p['λ']][1].append(score[i])\n",
    "\n",
    "fig, ax = plt.subplots()\n",
    "fig.set_figwidth(10)\n",
    "fig.set_figheight(6)\n",
    "\n",
    "colors = ['purple', 'green', 'blue', 'orange', 'cyan']\n",
    "for k in sorted(dict_λ.keys()):\n",
    "    ax.plot(dict_λ[k][0], dict_λ[k][1], label = f\"λ = {k}\", linestyle=\"-\", color = colors.pop())\n",
    "\n",
    "ax.set(xscale='log', xlabel='γ', ylabel='neg_mean_squared_error', title='negated MSE score varying λ and γ')\n",
    "plt.legend()\n",
    "plt.show()"
   ]
  },
  {
   "cell_type": "code",
   "execution_count": 47,
   "metadata": {},
   "outputs": [],
   "source": [
    "train_sample_size_BIG = 20000\n",
    "test_sample_size_BIG = 4000\n",
    "\n",
    "X_train_sample_BIG = X_train.sample(n=train_sample_size_BIG, random_state=1)\n",
    "y_train_sample_BIG = pd.Series(data = [y_train[i] for i in X_train_sample_BIG.index], index = X_train_sample_BIG.index)\n",
    "\n",
    "X_test_sample_BIG = X_test.sample(n=test_sample_size_BIG, random_state=1)\n",
    "y_test_sample_BIG = pd.Series(data = [y_test[i] for i in X_test_sample_BIG.index], index = X_test_sample_BIG.index)"
   ]
  },
  {
   "cell_type": "code",
   "execution_count": 48,
   "metadata": {},
   "outputs": [
    {
     "name": "stdout",
     "output_type": "stream",
     "text": [
      "MSE : 212.43260724231072\n",
      "MAE : 10.500670877243746\n",
      " R2 : 0.4735310184590851\n"
     ]
    }
   ],
   "source": [
    "krr = learner.best_estimator_\n",
    "krr.fit(X_train_sample_BIG, y_train_sample_BIG)\n",
    "y_prediction = krr.predict(X_test_sample_BIG)\n",
    "\n",
    "print_performance(y_test_sample_BIG, y_prediction)"
   ]
  },
  {
   "cell_type": "code",
   "execution_count": 49,
   "metadata": {},
   "outputs": [
    {
     "name": "stdout",
     "output_type": "stream",
     "text": [
      "q1          : -7.659632684023501\n",
      "q2 (median) : -0.6943068044771605\n",
      "q3          : 7.529861534956823\n",
      "IQR         : 15.189494218980325\n"
     ]
    },
    {
     "data": {
      "image/png": "[encoded data removed]",
      "text/plain": [
       "<Figure size 576x360 with 1 Axes>"
      ]
     },
     "metadata": {
      "needs_background": "light"
     },
     "output_type": "display_data"
    }
   ],
   "source": [
    "residuals_analysis(y_test_sample_BIG, y_prediction)"
   ]
  }
 ],
 "metadata": {
  "kernelspec": {
   "display_name": "Python 3",
   "language": "python",
   "name": "python3"
  },
  "language_info": {
   "codemirror_mode": {
    "name": "ipython",
    "version": 3
   },
   "file_extension": ".py",
   "mimetype": "text/x-python",
   "name": "python",
   "nbconvert_exporter": "python",
   "pygments_lexer": "ipython3",
   "version": "3.10.5"
  },
  "orig_nbformat": 4,
  "vscode": {
   "interpreter": {
    "hash": "aee8b7b246df8f9039afb4144a1f6fd8d2ca17a180786b69acc140d282b71a49"
   }
  }
 },
 "nbformat": 4,
 "nbformat_minor": 2
}
